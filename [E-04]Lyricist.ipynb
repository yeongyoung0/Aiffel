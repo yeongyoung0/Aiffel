{
 "cells": [
  {
   "cell_type": "markdown",
   "id": "cb568d05",
   "metadata": {},
   "source": [
    "# 데이터 읽어오기"
   ]
  },
  {
   "cell_type": "code",
   "execution_count": 1,
   "id": "ca5f5fb1",
   "metadata": {},
   "outputs": [
    {
     "name": "stdout",
     "output_type": "stream",
     "text": [
      "데이터 크기: 187088\n",
      "Examples:\n",
      " [\"Now I've heard there was a secret chord\", 'That David played, and it pleased the Lord', \"But you don't really care for music, do you?\"]\n"
     ]
    }
   ],
   "source": [
    "import glob\n",
    "import os\n",
    "\n",
    "txt_file_path = os.getenv('HOME')+'/aiffel/lyricist/data/lyrics/*'\n",
    "\n",
    "txt_list = glob.glob(txt_file_path)\n",
    "\n",
    "raw_corpus = []\n",
    "\n",
    "# 여러개의 txt 파일을 모두 읽어서 raw_corpus 에 담기\n",
    "for txt_file in txt_list:\n",
    "    with open(txt_file, \"r\") as f:\n",
    "        raw = f.read().splitlines()\n",
    "        raw_corpus.extend(raw)\n",
    "\n",
    "print(\"데이터 크기:\", len(raw_corpus))\n",
    "print(\"Examples:\\n\", raw_corpus[:3])"
   ]
  },
  {
   "cell_type": "markdown",
   "id": "f0695103",
   "metadata": {},
   "source": [
    "# 데이터 정제"
   ]
  },
  {
   "cell_type": "code",
   "execution_count": 2,
   "id": "9c31da04",
   "metadata": {},
   "outputs": [],
   "source": [
    "for idx, sentence in enumerate(raw_corpus):\n",
    "    if len(sentence) == 0: continue   # 길이가 0인 문장은 건너뛰기"
   ]
  },
  {
   "cell_type": "markdown",
   "id": "1f91a29e",
   "metadata": {},
   "source": [
    "노래 가사 문장에는 연극 대본처럼 \"인명:\"형식의 문장이 없을 것 같아, 그런 문장을 건너뛰는 코드는 제외했다."
   ]
  },
  {
   "cell_type": "code",
   "execution_count": 3,
   "id": "17b3e320",
   "metadata": {},
   "outputs": [
    {
     "name": "stdout",
     "output_type": "stream",
     "text": [
      "<start> this is sample sentence . <end>\n"
     ]
    }
   ],
   "source": [
    "import re \n",
    "import numpy as np\n",
    "import tensorflow as tf\n",
    "\n",
    "def preprocess_sentence(sentence):\n",
    "    sentence = sentence.lower().strip()\n",
    "    sentence = re.sub(r\"([?.!,¿])\", r\" \\1 \", sentence)\n",
    "    sentence = re.sub(r'[\" \"]+', \" \", sentence)\n",
    "    sentence = re.sub(r\"[^a-zA-Z?.!,¿]+\", \" \", sentence)\n",
    "    sentence = sentence.strip()\n",
    "    sentence = '<start> ' + sentence + ' <end>'\n",
    "    return sentence\n",
    "\n",
    "# 이 문장이 어떻게 필터링되는지 확인해 보세요.\n",
    "print(preprocess_sentence(\"This @_is ;;;sample        sentence.\"))"
   ]
  },
  {
   "cell_type": "markdown",
   "id": "2d259ac8",
   "metadata": {},
   "source": [
    "특수문자, 공백을 제거하고 문장 시작에는 <start> 끝에는 <end>를 넣는다."
   ]
  },
  {
   "cell_type": "code",
   "execution_count": 4,
   "id": "63e01644",
   "metadata": {
    "scrolled": true
   },
   "outputs": [
    {
     "data": {
      "text/plain": [
       "['<start> now i ve heard there was a secret chord <end>',\n",
       " '<start> that david played , and it pleased the lord <end>',\n",
       " '<start> but you don t really care for music , do you ? <end>',\n",
       " '<start> it goes like this <end>',\n",
       " '<start> the fourth , the fifth <end>']"
      ]
     },
     "execution_count": 4,
     "metadata": {},
     "output_type": "execute_result"
    }
   ],
   "source": [
    "# 정제한 문장을 담을 곳\n",
    "corpus = []\n",
    "\n",
    "for sentence in raw_corpus:\n",
    "    if len(sentence) == 0: continue\n",
    "    \n",
    "    # 문장 정제하고, 정제한 문장을 corpus에 담기\n",
    "    preprocessed_sentence = preprocess_sentence(sentence)\n",
    "    corpus.append(preprocessed_sentence)\n",
    "\n",
    "corpus[:5]"
   ]
  },
  {
   "cell_type": "markdown",
   "id": "43759a55",
   "metadata": {},
   "source": [
    "정제된 문장이 corpus에 담겨있음을 확인"
   ]
  },
  {
   "cell_type": "code",
   "execution_count": 5,
   "id": "dbfbbe4c",
   "metadata": {
    "scrolled": true
   },
   "outputs": [
    {
     "name": "stdout",
     "output_type": "stream",
     "text": [
      "[[   2   50    5 ...    0    0    0]\n",
      " [   2   17 2643 ...    0    0    0]\n",
      " [   2   35    7 ...   43    3    0]\n",
      " ...\n",
      " [   5   22    9 ...   10 1014    3]\n",
      " [  37   15 9061 ...  878  644    3]\n",
      " [   2    7   34 ...    0    0    0]] <keras_preprocessing.text.Tokenizer object at 0x7fe3f2bfa940>\n"
     ]
    }
   ],
   "source": [
    "def tokenize(corpus):\n",
    "    tokenizer = tf.keras.preprocessing.text.Tokenizer(\n",
    "        num_words=12000, # tokenizer가 기억할 단어 개수, 단어장의 크기는 12,000이상으로 설정\n",
    "        filters=' ', # 이미 문장을 정제했으니 filters가 필요없음\n",
    "        oov_token=\"<unk>\" # oov=out-of-vocabulary, 단어장에 없는 단어는 어떤 토큰으로 대체할것이냐\n",
    "    )\n",
    "    tokenizer.fit_on_texts(corpus) # corpus를 이용해 tokenizer 내부의 단어장을 완성합니다\n",
    "\n",
    "    tensor = tokenizer.texts_to_sequences(corpus) # 준비한 tokenizer를 이용해 corpus를 Tensor로 변환합니다\n",
    "\n",
    "    # 입력 데이터의 시퀀스 길이를 일정하게 맞춰주는 padding 메소드 사용\n",
    "    # maxlen의 디폴트값은 none으로, corpus 내에서 가장 긴 문장의 길이가 된다.\n",
    "    tensor = tf.keras.preprocessing.sequence.pad_sequences(tensor, padding='post', maxlen=15) #토큰 개수가 15개를 넘는 문장은 제외\n",
    "    \n",
    "    print(tensor,tokenizer)\n",
    "    return tensor, tokenizer\n",
    "\n",
    "tensor, tokenizer = tokenize(corpus)"
   ]
  },
  {
   "cell_type": "markdown",
   "id": "46b93386",
   "metadata": {},
   "source": [
    "데이터 토큰화-자연어를 기계가 이해할 수 있는 벡터로 변환-가 되었음을 확인"
   ]
  },
  {
   "cell_type": "code",
   "execution_count": 6,
   "id": "b83a80ef",
   "metadata": {},
   "outputs": [
    {
     "name": "stdout",
     "output_type": "stream",
     "text": [
      "1 : <unk>\n",
      "2 : <start>\n",
      "3 : <end>\n",
      "4 : ,\n",
      "5 : i\n",
      "6 : the\n",
      "7 : you\n",
      "8 : and\n",
      "9 : a\n",
      "10 : to\n"
     ]
    }
   ],
   "source": [
    "for idx in tokenizer.index_word:\n",
    "    print(idx, \":\", tokenizer.index_word[idx])\n",
    "\n",
    "    if idx >= 10: break"
   ]
  },
  {
   "cell_type": "markdown",
   "id": "4fe77dab",
   "metadata": {},
   "source": [
    "단어장에 단어별로 쪼개져 들어가있음을 확인"
   ]
  },
  {
   "cell_type": "code",
   "execution_count": 7,
   "id": "8b05fa59",
   "metadata": {},
   "outputs": [
    {
     "name": "stdout",
     "output_type": "stream",
     "text": [
      "[[   2   50    5   91  297   64   57    9  970 6048    3    0    0    0\n",
      "     0]\n",
      " [   2   17 2643  873    4    8   11 6049    6  330    3    0    0    0\n",
      "     0]\n",
      " [   2   35    7   37   15  164  283   28  299    4   47    7   43    3\n",
      "     0]]\n"
     ]
    }
   ],
   "source": [
    "print(tensor[:3, :])"
   ]
  },
  {
   "cell_type": "markdown",
   "id": "79603ae4",
   "metadata": {},
   "source": [
    "설정한대로 시퀀스 길이는 15이고, 남는 공간은 0으로 채워져있음을(padding) 확인"
   ]
  },
  {
   "cell_type": "code",
   "execution_count": 8,
   "id": "0f537945",
   "metadata": {
    "scrolled": true
   },
   "outputs": [
    {
     "name": "stdout",
     "output_type": "stream",
     "text": [
      "[   2   50    5   91  297   64   57    9  970 6048    3    0    0    0]\n",
      "[  50    5   91  297   64   57    9  970 6048    3    0    0    0    0]\n"
     ]
    }
   ],
   "source": [
    "# tensor에서 마지막 토큰을 잘라내서 소스 문장을 생성\n",
    "src_input = tensor[:, :-1] # <end>가 아니라 <pad>를 갈라낼 가능성이 높다. \n",
    "tgt_input = tensor[:, 1:]    \n",
    "\n",
    "print(src_input[0])\n",
    "print(tgt_input[0])"
   ]
  },
  {
   "cell_type": "markdown",
   "id": "bd9d9b0a",
   "metadata": {},
   "source": [
    "마지막 토큰을 잘라내서 소스 문장을 생성하고, <start>를 잘라내서 타켓 문장을 생성했음을 확인"
   ]
  },
  {
   "cell_type": "markdown",
   "id": "9327ce8c",
   "metadata": {},
   "source": [
    "# 평가 데이터셋 분리"
   ]
  },
  {
   "cell_type": "code",
   "execution_count": 9,
   "id": "d8d890f2",
   "metadata": {},
   "outputs": [],
   "source": [
    "from sklearn.model_selection import train_test_split\n",
    "#총 데이터의 20%를 평가 데이터셋으로 사용\n",
    "enc_train, enc_val, dec_train, dec_val = train_test_split(src_input, \n",
    "                                                          tgt_input,\n",
    "                                                          test_size=0.2,\n",
    "                                                          shuffle=True, \n",
    "                                                          random_state=34)"
   ]
  },
  {
   "cell_type": "code",
   "execution_count": 10,
   "id": "8437c086",
   "metadata": {},
   "outputs": [
    {
     "name": "stdout",
     "output_type": "stream",
     "text": [
      "enc train:  (140788, 14)\n",
      "dec train:  (140788, 14)\n"
     ]
    }
   ],
   "source": [
    "print('enc train: ', enc_train.shape)\n",
    "print('dec train: ', dec_train.shape)"
   ]
  },
  {
   "cell_type": "markdown",
   "id": "a7aa10fd",
   "metadata": {},
   "source": [
    "# 인공지능 만들기"
   ]
  },
  {
   "cell_type": "code",
   "execution_count": 11,
   "id": "c7d49254",
   "metadata": {},
   "outputs": [],
   "source": [
    "# 모델 정의\n",
    "class TextGenerator(tf.keras.Model):\n",
    "    def __init__(self, vocab_size, embedding_size, hidden_size):\n",
    "        super().__init__()\n",
    "        \n",
    "        self.embedding = tf.keras.layers.Embedding(vocab_size, embedding_size)\n",
    "        self.rnn_1 = tf.keras.layers.LSTM(hidden_size, return_sequences=True)\n",
    "        self.rnn_2 = tf.keras.layers.LSTM(hidden_size, return_sequences=True)\n",
    "        self.linear = tf.keras.layers.Dense(vocab_size)\n",
    "        \n",
    "    def call(self, x):\n",
    "        out = self.embedding(x)\n",
    "        out = self.rnn_1(out)\n",
    "        out = self.rnn_2(out)\n",
    "        out = self.linear(out)\n",
    "        \n",
    "        return out\n",
    "    \n",
    "embedding_size = 16\n",
    "hidden_size = 2048\n",
    "model = TextGenerator(tokenizer.num_words + 1, embedding_size , hidden_size)"
   ]
  },
  {
   "cell_type": "markdown",
   "id": "d3a1e24c",
   "metadata": {},
   "source": [
    "embedding_size는 워드 벡터의 차원수, 즉 단어가 추상적으로 표현되는 크기. 값이 커질수록 추상적인 특징들을 더 잡아낼 수 있지만, 그만큼 충분한 데이터가 주어지지 않으면 오히려 혼란만을 야기할 수 있다.\n",
    "\n",
    "LSTM레이어의 hidden_size(hidden state의 차원수)도 같은 맥락. 모델에 얼마나 많은 일꾼을 둘 것이냐? 역시 충분한 데이터가 주어지면 올바른 결정을 내리겠지만 그렇지 않으면 배가 산으로 갈 뿐이다."
   ]
  },
  {
   "cell_type": "code",
   "execution_count": 12,
   "id": "876e3123",
   "metadata": {},
   "outputs": [
    {
     "name": "stdout",
     "output_type": "stream",
     "text": [
      "Epoch 1/10\n",
      "550/550 [==============================] - 278s 468ms/step - loss: 3.9264 - val_loss: 3.5116\n",
      "Epoch 2/10\n",
      "550/550 [==============================] - 263s 478ms/step - loss: 3.3656 - val_loss: 3.2813\n",
      "Epoch 3/10\n",
      "550/550 [==============================] - 264s 480ms/step - loss: 3.1634 - val_loss: 3.1426\n",
      "Epoch 4/10\n",
      "550/550 [==============================] - 264s 481ms/step - loss: 3.0134 - val_loss: 3.0375\n",
      "Epoch 5/10\n",
      "550/550 [==============================] - 265s 481ms/step - loss: 2.8753 - val_loss: 2.9494\n",
      "Epoch 6/10\n",
      "550/550 [==============================] - 266s 483ms/step - loss: 2.7411 - val_loss: 2.8725\n",
      "Epoch 7/10\n",
      "550/550 [==============================] - 266s 484ms/step - loss: 2.6114 - val_loss: 2.8080\n",
      "Epoch 8/10\n",
      "550/550 [==============================] - 265s 482ms/step - loss: 2.4840 - val_loss: 2.7506\n",
      "Epoch 9/10\n",
      "550/550 [==============================] - 265s 482ms/step - loss: 2.3576 - val_loss: 2.7054\n",
      "Epoch 10/10\n",
      "550/550 [==============================] - 265s 482ms/step - loss: 2.2342 - val_loss: 2.6642\n"
     ]
    },
    {
     "data": {
      "text/plain": [
       "<keras.callbacks.History at 0x7fe3d81fb9d0>"
      ]
     },
     "execution_count": 12,
     "metadata": {},
     "output_type": "execute_result"
    }
   ],
   "source": [
    "# 모델 학습\n",
    "optimizer = tf.keras.optimizers.Adam()\n",
    "loss = tf.keras.losses.SparseCategoricalCrossentropy(\n",
    "    from_logits=True, reduction='none')\n",
    "\n",
    "model.compile(loss=loss, optimizer=optimizer)\n",
    "model.fit(enc_train, dec_train, batch_size=256, epochs=10, validation_data=(enc_val, dec_val))"
   ]
  },
  {
   "cell_type": "markdown",
   "id": "cb868d7f",
   "metadata": {},
   "source": [
    "model.fit(x_train, y_train, batch_size, epoches, validation_data=(x_val, y_val))\n",
    "\n",
    "batch_size: 한 번에 학습할 때 사용하는 데이터의 개수로, 클수록 여러 데이터를 기억하고 있어야 하므로 메모리가 커야 한다(대신 학습 시간이 빨라진다). 작을수록 학습은 꼼꼼하게 이루어지지만 학습 시간이 느려진다.\n",
    "\n",
    "epoches: 학습 데이터 반복 횟수"
   ]
  },
  {
   "cell_type": "code",
   "execution_count": 13,
   "id": "d997d54e",
   "metadata": {},
   "outputs": [],
   "source": [
    "# 입력 받은 값을 예측해서 문장을 생성하는 모델\n",
    "def generate_text(model, tokenizer, init_sentence=\"<start>\", max_len=20):\n",
    "    # 테스트를 위해서 입력받은 init_sentence도 텐서로 변환합니다\n",
    "    test_input = tokenizer.texts_to_sequences([init_sentence])\n",
    "    test_tensor = tf.convert_to_tensor(test_input, dtype=tf.int64)\n",
    "    end_token = tokenizer.word_index[\"<end>\"]\n",
    "\n",
    "    # 단어 하나씩 예측해 문장을 만듭니다\n",
    "    #    1. 입력받은 문장의 텐서를 입력합니다\n",
    "    #    2. 예측된 값 중 가장 높은 확률인 word index를 뽑아냅니다\n",
    "    #    3. 2에서 예측된 word index를 문장 뒤에 붙입니다\n",
    "    #    4. 모델이 <end>를 예측했거나, max_len에 도달했다면 문장 생성을 마칩니다\n",
    "    while True:\n",
    "        # 1\n",
    "        predict = model(test_tensor) \n",
    "        # 2\n",
    "        predict_word = tf.argmax(tf.nn.softmax(predict, axis=-1), axis=-1)[:, -1] \n",
    "        # 3 \n",
    "        test_tensor = tf.concat([test_tensor, tf.expand_dims(predict_word, axis=0)], axis=-1)\n",
    "        # 4\n",
    "        if predict_word.numpy()[0] == end_token: break\n",
    "        if test_tensor.shape[1] >= max_len: break\n",
    "\n",
    "    generated = \"\"\n",
    "    # tokenizer를 이용해 word index를 단어로 하나씩 변환합니다 \n",
    "    for word_index in test_tensor[0].numpy():\n",
    "        generated += tokenizer.index_word[word_index] + \" \"\n",
    "\n",
    "    return generated"
   ]
  },
  {
   "cell_type": "code",
   "execution_count": 16,
   "id": "9d9f2f9c",
   "metadata": {},
   "outputs": [
    {
     "data": {
      "text/plain": [
       "'<start> i love you <end> '"
      ]
     },
     "execution_count": 16,
     "metadata": {},
     "output_type": "execute_result"
    }
   ],
   "source": [
    "generate_text(model, tokenizer, init_sentence=\"<start> i love\", max_len=20)"
   ]
  },
  {
   "cell_type": "markdown",
   "id": "fc234eeb",
   "metadata": {},
   "source": [
    "# 회고"
   ]
  },
  {
   "cell_type": "markdown",
   "id": "c1cb7cca",
   "metadata": {},
   "source": [
    "아무리 해도 validation loss를 2.2 이하로 낮추는 것은 무리였다...\n",
    "\n",
    "한 번 코드를 실행하는 데 30분 이상이 걸려 파라미터값을 냅다 이렇게 저렇게 바꿔보기가 어려웠고, 결국 무엇을 어떻게 조정 하면 validation 값이 낮아지는지 감을 잡지 못한 것이 패인이다.\n",
    "\n",
    "'embedding_size가 너무 커서 단어의 정도를 극도로 많이 나눈 탓인가?', 'LSTM레이어의 hidden_size가 적은가?'라는 생각에 기반하여 각각 배수로 줄리고, 늘리며 테스트 해봤는데 줄이고 늘릴 때마다 validatioin loss가 줄어들긴 했으나 2.2 이하로는 결국 내려가지 못했다. 테스트 시간을 줄이기 위해 batch_size도 조금씩 늘려봤는데 그래도 마지막 실행했을 때 기준 45분 정도가 걸렸다.\n",
    "\n",
    "그렇게 나온 값이 주어진 i love에 you만 붙은 문장이라 꽤 허탈했다. 오류가 있는 출력은 아니지만... 코드 구동한 시간을 봐서라도 뭔가 좀 더 써줄 순 없겠니? 맥북을 붙잡고 애원해봐도 기계는 답이 없다.\n",
    "\n",
    "최대한 미리미리 Explolation을 진행해야 한다, 세세한 변수와 함수의 역할을 잘 모르는 상태에서 이 값 저 값 바꾸며 코드를 돌려보는 방식엔 한계가 있다는 깨달음을 준 한 주였다."
   ]
  }
 ],
 "metadata": {
  "kernelspec": {
   "display_name": "Python 3 (ipykernel)",
   "language": "python",
   "name": "python3"
  },
  "language_info": {
   "codemirror_mode": {
    "name": "ipython",
    "version": 3
   },
   "file_extension": ".py",
   "mimetype": "text/x-python",
   "name": "python",
   "nbconvert_exporter": "python",
   "pygments_lexer": "ipython3",
   "version": "3.9.7"
  }
 },
 "nbformat": 4,
 "nbformat_minor": 5
}
