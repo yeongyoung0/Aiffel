{
 "cells": [
  {
   "cell_type": "markdown",
   "id": "c98370fc",
   "metadata": {},
   "source": [
    "# 필요한 모듈 import"
   ]
  },
  {
   "cell_type": "code",
   "execution_count": 1,
   "id": "6b671d06",
   "metadata": {},
   "outputs": [],
   "source": [
    "import pandas as pd\n",
    "import numpy as np\n",
    "import os\n",
    "import matplotlib.pyplot as plt\n",
    "import seaborn as sns\n",
    "%matplotlib inline\n",
    "import warnings\n",
    "warnings.filterwarnings('ignore')"
   ]
  },
  {
   "cell_type": "markdown",
   "id": "505a2860",
   "metadata": {},
   "source": [
    "# 데이터 불러오기"
   ]
  },
  {
   "cell_type": "code",
   "execution_count": 2,
   "id": "7735a504",
   "metadata": {},
   "outputs": [],
   "source": [
    "data_dir = os.getenv('HOME')+'/aiffel/datathon'\n",
    "FIFA_train = os.path.join(data_dir, \"FIFA_train.csv\")"
   ]
  },
  {
   "cell_type": "code",
   "execution_count": 3,
   "id": "82650e53",
   "metadata": {},
   "outputs": [],
   "source": [
    "train = pd.read_csv('FIFA_train.csv')\n",
    "test = pd.read_csv('FIFA_test.csv')\n",
    "submission = pd.read_csv('submission.csv')"
   ]
  },
  {
   "cell_type": "code",
   "execution_count": 4,
   "id": "721dfbf8",
   "metadata": {},
   "outputs": [
    {
     "data": {
      "image/png": "[encoded data removed]",
      "text/plain": [
       "<Figure size 432x288 with 2 Axes>"
      ]
     },
     "metadata": {
      "needs_background": "light"
     },
     "output_type": "display_data"
    }
   ],
   "source": [
    "plt.title(\"Default Dataset Heatmap\", y = 1.05, size = 15)\n",
    "\n",
    "mask = np.zeros_like(train.corr(), dtype=np.bool)\n",
    "mask[np.triu_indices_from(mask)] = True\n",
    "\n",
    "sns.heatmap(train.corr(), mask = mask, annot=True)\n",
    "\n",
    "plt.show()"
   ]
  },
  {
   "cell_type": "markdown",
   "id": "93bd8c0b",
   "metadata": {},
   "source": [
    "# 전처리"
   ]
  },
  {
   "cell_type": "markdown",
   "id": "1b3d34fa",
   "metadata": {},
   "source": [
    "1. (기존 코드에 있던)로그변환\n",
    "2. prefer_foot 컬럼 원핫인코딩\n",
    "3. position을 기준으로 데이터셋을 분리하여 stat_skill_moves와 value간 상관계수 파악"
   ]
  },
  {
   "cell_type": "markdown",
   "id": "cf35587d",
   "metadata": {},
   "source": [
    "### Log-Trasformation"
   ]
  },
  {
   "cell_type": "code",
   "execution_count": 5,
   "id": "11a11d9d",
   "metadata": {},
   "outputs": [],
   "source": [
    "train[['age', 'stat_potential']] = np.log1p(train[['age', 'stat_potential']])\n",
    "test[['age', 'stat_potential']] = np.log1p(test[['age', 'stat_potential']])"
   ]
  },
  {
   "cell_type": "markdown",
   "id": "71ae725d",
   "metadata": {},
   "source": [
    "### prefer_foot 원핫인코딩"
   ]
  },
  {
   "cell_type": "markdown",
   "id": "9dfa0446",
   "metadata": {},
   "source": [
    "Train Set"
   ]
  },
  {
   "cell_type": "code",
   "execution_count": 6,
   "id": "98a9816e",
   "metadata": {},
   "outputs": [],
   "source": [
    "# 변수에 지정\n",
    "X = train[['age', 'continent', 'contract_until', 'position', 'prefer_foot', 'reputation', 'stat_overall', 'stat_potential', 'stat_skill_moves']]\n",
    "y = np.log1p(train['value'])"
   ]
  },
  {
   "cell_type": "code",
   "execution_count": 7,
   "id": "1e6da00b",
   "metadata": {},
   "outputs": [],
   "source": [
    "# 원핫인코딩\n",
    "X = pd.get_dummies(columns = ['continent', 'position', 'prefer_foot'], data = X)"
   ]
  },
  {
   "cell_type": "code",
   "execution_count": 8,
   "id": "48b6cc66",
   "metadata": {},
   "outputs": [
    {
     "data": {
      "text/html": [
       "<div>\n",
       "<style scoped>\n",
       "    .dataframe tbody tr th:only-of-type {\n",
       "        vertical-align: middle;\n",
       "    }\n",
       "\n",
       "    .dataframe tbody tr th {\n",
       "        vertical-align: top;\n",
       "    }\n",
       "\n",
       "    .dataframe thead th {\n",
       "        text-align: right;\n",
       "    }\n",
       "</style>\n",
       "<table border=\"1\" class=\"dataframe\">\n",
       "  <thead>\n",
       "    <tr style=\"text-align: right;\">\n",
       "      <th></th>\n",
       "      <th>age</th>\n",
       "      <th>contract_until</th>\n",
       "      <th>reputation</th>\n",
       "      <th>stat_overall</th>\n",
       "      <th>stat_potential</th>\n",
       "      <th>stat_skill_moves</th>\n",
       "      <th>continent_africa</th>\n",
       "      <th>continent_asia</th>\n",
       "      <th>continent_europe</th>\n",
       "      <th>continent_oceania</th>\n",
       "      <th>continent_south america</th>\n",
       "      <th>position_DF</th>\n",
       "      <th>position_GK</th>\n",
       "      <th>position_MF</th>\n",
       "      <th>position_ST</th>\n",
       "      <th>prefer_foot</th>\n",
       "    </tr>\n",
       "  </thead>\n",
       "  <tbody>\n",
       "    <tr>\n",
       "      <th>0</th>\n",
       "      <td>3.465736</td>\n",
       "      <td>2021</td>\n",
       "      <td>5.0</td>\n",
       "      <td>94</td>\n",
       "      <td>4.553877</td>\n",
       "      <td>4.0</td>\n",
       "      <td>0</td>\n",
       "      <td>0</td>\n",
       "      <td>0</td>\n",
       "      <td>0</td>\n",
       "      <td>1</td>\n",
       "      <td>0</td>\n",
       "      <td>0</td>\n",
       "      <td>0</td>\n",
       "      <td>1</td>\n",
       "      <td>1</td>\n",
       "    </tr>\n",
       "    <tr>\n",
       "      <th>1</th>\n",
       "      <td>3.332205</td>\n",
       "      <td>2020</td>\n",
       "      <td>4.0</td>\n",
       "      <td>91</td>\n",
       "      <td>4.543295</td>\n",
       "      <td>1.0</td>\n",
       "      <td>0</td>\n",
       "      <td>0</td>\n",
       "      <td>1</td>\n",
       "      <td>0</td>\n",
       "      <td>0</td>\n",
       "      <td>0</td>\n",
       "      <td>1</td>\n",
       "      <td>0</td>\n",
       "      <td>0</td>\n",
       "      <td>0</td>\n",
       "    </tr>\n",
       "    <tr>\n",
       "      <th>2</th>\n",
       "      <td>3.465736</td>\n",
       "      <td>2021</td>\n",
       "      <td>5.0</td>\n",
       "      <td>91</td>\n",
       "      <td>4.521789</td>\n",
       "      <td>3.0</td>\n",
       "      <td>0</td>\n",
       "      <td>0</td>\n",
       "      <td>0</td>\n",
       "      <td>0</td>\n",
       "      <td>1</td>\n",
       "      <td>0</td>\n",
       "      <td>0</td>\n",
       "      <td>0</td>\n",
       "      <td>1</td>\n",
       "      <td>0</td>\n",
       "    </tr>\n",
       "    <tr>\n",
       "      <th>3</th>\n",
       "      <td>3.496508</td>\n",
       "      <td>2020</td>\n",
       "      <td>4.0</td>\n",
       "      <td>91</td>\n",
       "      <td>4.521789</td>\n",
       "      <td>3.0</td>\n",
       "      <td>0</td>\n",
       "      <td>0</td>\n",
       "      <td>1</td>\n",
       "      <td>0</td>\n",
       "      <td>0</td>\n",
       "      <td>1</td>\n",
       "      <td>0</td>\n",
       "      <td>0</td>\n",
       "      <td>0</td>\n",
       "      <td>0</td>\n",
       "    </tr>\n",
       "    <tr>\n",
       "      <th>4</th>\n",
       "      <td>3.258097</td>\n",
       "      <td>2021</td>\n",
       "      <td>3.0</td>\n",
       "      <td>90</td>\n",
       "      <td>4.543295</td>\n",
       "      <td>1.0</td>\n",
       "      <td>0</td>\n",
       "      <td>0</td>\n",
       "      <td>1</td>\n",
       "      <td>0</td>\n",
       "      <td>0</td>\n",
       "      <td>0</td>\n",
       "      <td>1</td>\n",
       "      <td>0</td>\n",
       "      <td>0</td>\n",
       "      <td>0</td>\n",
       "    </tr>\n",
       "  </tbody>\n",
       "</table>\n",
       "</div>"
      ],
      "text/plain": [
       "        age contract_until  reputation  stat_overall  stat_potential  \\\n",
       "0  3.465736           2021         5.0            94        4.553877   \n",
       "1  3.332205           2020         4.0            91        4.543295   \n",
       "2  3.465736           2021         5.0            91        4.521789   \n",
       "3  3.496508           2020         4.0            91        4.521789   \n",
       "4  3.258097           2021         3.0            90        4.543295   \n",
       "\n",
       "   stat_skill_moves  continent_africa  continent_asia  continent_europe  \\\n",
       "0               4.0                 0               0                 0   \n",
       "1               1.0                 0               0                 1   \n",
       "2               3.0                 0               0                 0   \n",
       "3               3.0                 0               0                 1   \n",
       "4               1.0                 0               0                 1   \n",
       "\n",
       "   continent_oceania  continent_south america  position_DF  position_GK  \\\n",
       "0                  0                        1            0            0   \n",
       "1                  0                        0            0            1   \n",
       "2                  0                        1            0            0   \n",
       "3                  0                        0            1            0   \n",
       "4                  0                        0            0            1   \n",
       "\n",
       "   position_MF  position_ST  prefer_foot  \n",
       "0            0            1            1  \n",
       "1            0            0            0  \n",
       "2            0            1            0  \n",
       "3            0            0            0  \n",
       "4            0            0            0  "
      ]
     },
     "execution_count": 8,
     "metadata": {},
     "output_type": "execute_result"
    }
   ],
   "source": [
    "# 컬럼 정리(prefer_foot_right 컬럼을 삭제하고 prefer_foot_left의 이름을 prefer_foot으로 변경)\n",
    "X.rename(columns={\"prefer_foot_left\":\"prefer_foot\"}, inplace=True)\n",
    "del X['prefer_foot_right']\n",
    "X.head()"
   ]
  },
  {
   "cell_type": "markdown",
   "id": "18a46ff8",
   "metadata": {},
   "source": [
    "- - -"
   ]
  },
  {
   "cell_type": "markdown",
   "id": "f1e17929",
   "metadata": {},
   "source": [
    "Test Set"
   ]
  },
  {
   "cell_type": "code",
   "execution_count": 9,
   "id": "df3f966f",
   "metadata": {},
   "outputs": [],
   "source": [
    "# 변수에 지정\n",
    "target = test[['age', 'continent', 'contract_until', 'position', 'prefer_foot', 'reputation', 'stat_overall', 'stat_potential', 'stat_skill_moves']]"
   ]
  },
  {
   "cell_type": "code",
   "execution_count": 10,
   "id": "8649ba3b",
   "metadata": {},
   "outputs": [],
   "source": [
    "# 원핫인코딩\n",
    "target = pd.get_dummies(columns = ['continent', 'position', 'prefer_foot'], data = target)"
   ]
  },
  {
   "cell_type": "code",
   "execution_count": 11,
   "id": "d9e52a70",
   "metadata": {},
   "outputs": [
    {
     "data": {
      "text/html": [
       "<div>\n",
       "<style scoped>\n",
       "    .dataframe tbody tr th:only-of-type {\n",
       "        vertical-align: middle;\n",
       "    }\n",
       "\n",
       "    .dataframe tbody tr th {\n",
       "        vertical-align: top;\n",
       "    }\n",
       "\n",
       "    .dataframe thead th {\n",
       "        text-align: right;\n",
       "    }\n",
       "</style>\n",
       "<table border=\"1\" class=\"dataframe\">\n",
       "  <thead>\n",
       "    <tr style=\"text-align: right;\">\n",
       "      <th></th>\n",
       "      <th>age</th>\n",
       "      <th>contract_until</th>\n",
       "      <th>reputation</th>\n",
       "      <th>stat_overall</th>\n",
       "      <th>stat_potential</th>\n",
       "      <th>stat_skill_moves</th>\n",
       "      <th>continent_africa</th>\n",
       "      <th>continent_asia</th>\n",
       "      <th>continent_europe</th>\n",
       "      <th>continent_oceania</th>\n",
       "      <th>continent_south america</th>\n",
       "      <th>position_DF</th>\n",
       "      <th>position_GK</th>\n",
       "      <th>position_MF</th>\n",
       "      <th>position_ST</th>\n",
       "      <th>prefer_foot</th>\n",
       "    </tr>\n",
       "  </thead>\n",
       "  <tbody>\n",
       "    <tr>\n",
       "      <th>0</th>\n",
       "      <td>3.526361</td>\n",
       "      <td>2022</td>\n",
       "      <td>5.0</td>\n",
       "      <td>94</td>\n",
       "      <td>4.553877</td>\n",
       "      <td>5.0</td>\n",
       "      <td>0</td>\n",
       "      <td>0</td>\n",
       "      <td>1</td>\n",
       "      <td>0</td>\n",
       "      <td>0</td>\n",
       "      <td>0</td>\n",
       "      <td>0</td>\n",
       "      <td>0</td>\n",
       "      <td>1</td>\n",
       "      <td>0</td>\n",
       "    </tr>\n",
       "    <tr>\n",
       "      <th>1</th>\n",
       "      <td>3.295837</td>\n",
       "      <td>2022</td>\n",
       "      <td>5.0</td>\n",
       "      <td>92</td>\n",
       "      <td>4.543295</td>\n",
       "      <td>5.0</td>\n",
       "      <td>0</td>\n",
       "      <td>0</td>\n",
       "      <td>0</td>\n",
       "      <td>0</td>\n",
       "      <td>1</td>\n",
       "      <td>0</td>\n",
       "      <td>0</td>\n",
       "      <td>0</td>\n",
       "      <td>1</td>\n",
       "      <td>0</td>\n",
       "    </tr>\n",
       "    <tr>\n",
       "      <th>2</th>\n",
       "      <td>3.332205</td>\n",
       "      <td>2023</td>\n",
       "      <td>4.0</td>\n",
       "      <td>91</td>\n",
       "      <td>4.532599</td>\n",
       "      <td>4.0</td>\n",
       "      <td>0</td>\n",
       "      <td>0</td>\n",
       "      <td>1</td>\n",
       "      <td>0</td>\n",
       "      <td>0</td>\n",
       "      <td>0</td>\n",
       "      <td>0</td>\n",
       "      <td>1</td>\n",
       "      <td>0</td>\n",
       "      <td>0</td>\n",
       "    </tr>\n",
       "    <tr>\n",
       "      <th>3</th>\n",
       "      <td>3.332205</td>\n",
       "      <td>2020</td>\n",
       "      <td>4.0</td>\n",
       "      <td>91</td>\n",
       "      <td>4.521789</td>\n",
       "      <td>4.0</td>\n",
       "      <td>0</td>\n",
       "      <td>0</td>\n",
       "      <td>1</td>\n",
       "      <td>0</td>\n",
       "      <td>0</td>\n",
       "      <td>0</td>\n",
       "      <td>0</td>\n",
       "      <td>0</td>\n",
       "      <td>1</td>\n",
       "      <td>0</td>\n",
       "    </tr>\n",
       "    <tr>\n",
       "      <th>4</th>\n",
       "      <td>3.496508</td>\n",
       "      <td>2020</td>\n",
       "      <td>4.0</td>\n",
       "      <td>91</td>\n",
       "      <td>4.521789</td>\n",
       "      <td>4.0</td>\n",
       "      <td>0</td>\n",
       "      <td>0</td>\n",
       "      <td>1</td>\n",
       "      <td>0</td>\n",
       "      <td>0</td>\n",
       "      <td>0</td>\n",
       "      <td>0</td>\n",
       "      <td>1</td>\n",
       "      <td>0</td>\n",
       "      <td>0</td>\n",
       "    </tr>\n",
       "  </tbody>\n",
       "</table>\n",
       "</div>"
      ],
      "text/plain": [
       "        age contract_until  reputation  stat_overall  stat_potential  \\\n",
       "0  3.526361           2022         5.0            94        4.553877   \n",
       "1  3.295837           2022         5.0            92        4.543295   \n",
       "2  3.332205           2023         4.0            91        4.532599   \n",
       "3  3.332205           2020         4.0            91        4.521789   \n",
       "4  3.496508           2020         4.0            91        4.521789   \n",
       "\n",
       "   stat_skill_moves  continent_africa  continent_asia  continent_europe  \\\n",
       "0               5.0                 0               0                 1   \n",
       "1               5.0                 0               0                 0   \n",
       "2               4.0                 0               0                 1   \n",
       "3               4.0                 0               0                 1   \n",
       "4               4.0                 0               0                 1   \n",
       "\n",
       "   continent_oceania  continent_south america  position_DF  position_GK  \\\n",
       "0                  0                        0            0            0   \n",
       "1                  0                        1            0            0   \n",
       "2                  0                        0            0            0   \n",
       "3                  0                        0            0            0   \n",
       "4                  0                        0            0            0   \n",
       "\n",
       "   position_MF  position_ST  prefer_foot  \n",
       "0            0            1            0  \n",
       "1            0            1            0  \n",
       "2            1            0            0  \n",
       "3            0            1            0  \n",
       "4            1            0            0  "
      ]
     },
     "execution_count": 11,
     "metadata": {},
     "output_type": "execute_result"
    }
   ],
   "source": [
    "# 컬럼 정리(prefer_foot_right 컬럼을 삭제하고 prefer_foot_left의 이름을 prefer_foot으로 변경)\n",
    "target.rename(columns={\"prefer_foot_left\":\"prefer_foot\"}, inplace=True)\n",
    "del target['prefer_foot_right']\n",
    "target.head()"
   ]
  },
  {
   "cell_type": "markdown",
   "id": "34cf1d9a",
   "metadata": {},
   "source": [
    "### position을 기준으로 데이터셋을 분리하여 stat_skill_moves와 value간 상관계수 파악"
   ]
  },
  {
   "cell_type": "code",
   "execution_count": 12,
   "id": "6b91c257",
   "metadata": {},
   "outputs": [],
   "source": [
    "# position을 기준으로 기존 데이터셋을 나누어 새로운 데이터프레임 생성\n",
    "groups = train.groupby(train.position)\n",
    "DF = groups.get_group(\"DF\")\n",
    "GK = groups.get_group(\"GK\")\n",
    "MF = groups.get_group(\"MF\")\n",
    "ST = groups.get_group(\"ST\")"
   ]
  },
  {
   "cell_type": "code",
   "execution_count": 13,
   "id": "e312dd1a",
   "metadata": {},
   "outputs": [
    {
     "data": {
      "text/html": [
       "<div>\n",
       "<style scoped>\n",
       "    .dataframe tbody tr th:only-of-type {\n",
       "        vertical-align: middle;\n",
       "    }\n",
       "\n",
       "    .dataframe tbody tr th {\n",
       "        vertical-align: top;\n",
       "    }\n",
       "\n",
       "    .dataframe thead th {\n",
       "        text-align: right;\n",
       "    }\n",
       "</style>\n",
       "<table border=\"1\" class=\"dataframe\">\n",
       "  <thead>\n",
       "    <tr style=\"text-align: right;\">\n",
       "      <th></th>\n",
       "      <th>stat_skill_moves</th>\n",
       "      <th>value</th>\n",
       "    </tr>\n",
       "  </thead>\n",
       "  <tbody>\n",
       "    <tr>\n",
       "      <th>3</th>\n",
       "      <td>3.0</td>\n",
       "      <td>51000000.0</td>\n",
       "    </tr>\n",
       "    <tr>\n",
       "      <th>5</th>\n",
       "      <td>2.0</td>\n",
       "      <td>44000000.0</td>\n",
       "    </tr>\n",
       "    <tr>\n",
       "      <th>13</th>\n",
       "      <td>2.0</td>\n",
       "      <td>27000000.0</td>\n",
       "    </tr>\n",
       "    <tr>\n",
       "      <th>20</th>\n",
       "      <td>3.0</td>\n",
       "      <td>46000000.0</td>\n",
       "    </tr>\n",
       "    <tr>\n",
       "      <th>24</th>\n",
       "      <td>2.0</td>\n",
       "      <td>57000000.0</td>\n",
       "    </tr>\n",
       "  </tbody>\n",
       "</table>\n",
       "</div>"
      ],
      "text/plain": [
       "    stat_skill_moves       value\n",
       "3                3.0  51000000.0\n",
       "5                2.0  44000000.0\n",
       "13               2.0  27000000.0\n",
       "20               3.0  46000000.0\n",
       "24               2.0  57000000.0"
      ]
     },
     "execution_count": 13,
     "metadata": {},
     "output_type": "execute_result"
    }
   ],
   "source": [
    "# 불필요한 컬럼 제거\n",
    "DF.drop(['id', 'name', 'age', 'continent', 'contract_until', 'prefer_foot', 'reputation', 'stat_overall', 'stat_potential', 'position'], axis='columns', inplace=True)\n",
    "GK.drop(['id', 'name', 'age', 'continent', 'contract_until', 'prefer_foot', 'reputation', 'stat_overall', 'stat_potential', 'position'], axis='columns', inplace=True)\n",
    "MF.drop(['id', 'name', 'age', 'continent', 'contract_until', 'prefer_foot', 'reputation', 'stat_overall', 'stat_potential', 'position'], axis='columns', inplace=True)\n",
    "ST.drop(['id', 'name', 'age', 'continent', 'contract_until', 'prefer_foot', 'reputation', 'stat_overall', 'stat_potential', 'position'], axis='columns', inplace=True)\n",
    "\n",
    "DF.head()"
   ]
  },
  {
   "cell_type": "code",
   "execution_count": 15,
   "id": "5e784e39",
   "metadata": {},
   "outputs": [
    {
     "data": {
      "image/png": "[encoded data removed]",
      "text/plain": [
       "<Figure size 504x504 with 2 Axes>"
      ]
     },
     "metadata": {
      "needs_background": "light"
     },
     "output_type": "display_data"
    }
   ],
   "source": [
    "# 그림 사이즈 지정\n",
    "fig, ax = plt.subplots( figsize=(7,7) )\n",
    "\n",
    "# 타이틀 지정\n",
    "plt.title(\"DF corr of stat_skill_moves and value\", y = 1.05, size = 15)\n",
    "\n",
    "# 삼각형 마스크를 만든다(위 쪽 삼각형에 True, 아래 삼각형에 False)\n",
    "mask = np.zeros_like(DF.corr(), dtype=np.bool)\n",
    "mask[np.triu_indices_from(mask)] = True\n",
    "\n",
    "# 히트맵을 그린다\n",
    "colormap = plt.cm.Blues\n",
    "sns.heatmap(DF.corr(), \n",
    "            cmap = colormap, linewidths=0.5, linecolor = \"white\", mask = mask,\n",
    "            vmin = -1, vmax = 1,\n",
    "            annot = True, annot_kws = {\"size\" : 30})\n",
    " \n",
    "plt.show()"
   ]
  },
  {
   "cell_type": "code",
   "execution_count": 16,
   "id": "8a3090d8",
   "metadata": {
    "scrolled": false
   },
   "outputs": [
    {
     "data": {
      "image/png": "[encoded data removed]",
      "text/plain": [
       "<Figure size 504x504 with 2 Axes>"
      ]
     },
     "metadata": {
      "needs_background": "light"
     },
     "output_type": "display_data"
    }
   ],
   "source": [
    "# 그림 사이즈 지정\n",
    "fig, ax = plt.subplots( figsize=(7,7) )\n",
    "\n",
    "# 타이틀 지정\n",
    "plt.title(\"GK corr of stat_skill_moves and value\", y = 1.05, size = 15)\n",
    "\n",
    "# 삼각형 마스크를 만든다(위 쪽 삼각형에 True, 아래 삼각형에 False)\n",
    "mask = np.zeros_like(GK.corr(), dtype=np.bool)\n",
    "mask[np.triu_indices_from(mask)] = True\n",
    "\n",
    "# 히트맵을 그린다\n",
    "colormap = plt.cm.Greys\n",
    "sns.heatmap(GK.corr(),\n",
    "            cmap = colormap, linewidths=0.5, linecolor = \"white\", mask = mask,\n",
    "            vmin = -1, vmax = 1,\n",
    "            annot = True, annot_kws = {\"size\" : 30})\n",
    " \n",
    "plt.show()"
   ]
  },
  {
   "cell_type": "code",
   "execution_count": 17,
   "id": "b77c4035",
   "metadata": {},
   "outputs": [
    {
     "data": {
      "text/html": [
       "<div>\n",
       "<style scoped>\n",
       "    .dataframe tbody tr th:only-of-type {\n",
       "        vertical-align: middle;\n",
       "    }\n",
       "\n",
       "    .dataframe tbody tr th {\n",
       "        vertical-align: top;\n",
       "    }\n",
       "\n",
       "    .dataframe thead th {\n",
       "        text-align: right;\n",
       "    }\n",
       "</style>\n",
       "<table border=\"1\" class=\"dataframe\">\n",
       "  <thead>\n",
       "    <tr style=\"text-align: right;\">\n",
       "      <th></th>\n",
       "      <th>stat_skill_moves</th>\n",
       "      <th>value</th>\n",
       "    </tr>\n",
       "  </thead>\n",
       "  <tbody>\n",
       "    <tr>\n",
       "      <th>stat_skill_moves</th>\n",
       "      <td>NaN</td>\n",
       "      <td>NaN</td>\n",
       "    </tr>\n",
       "    <tr>\n",
       "      <th>value</th>\n",
       "      <td>NaN</td>\n",
       "      <td>1.0</td>\n",
       "    </tr>\n",
       "  </tbody>\n",
       "</table>\n",
       "</div>"
      ],
      "text/plain": [
       "                  stat_skill_moves  value\n",
       "stat_skill_moves               NaN    NaN\n",
       "value                          NaN    1.0"
      ]
     },
     "execution_count": 17,
     "metadata": {},
     "output_type": "execute_result"
    }
   ],
   "source": [
    "gk_df = GK.corr()\n",
    "gk_df"
   ]
  },
  {
   "cell_type": "markdown",
   "id": "2c9792cd",
   "metadata": {},
   "source": [
    "heatmap에 아무것도 보이지 않아 상관계수 값을 확인했더니 NaN값이었다.   \n",
    "상관계수는 한 변수의 변동이 있을 때 다른 변수 또한 변동이 있어야 계산한 결과값이 나오는데,   \n",
    "GK의 경우 stat_skill_moves가 1로 전부 동일하기 때문에(값에 변동이 없기 때문에) 계산이 되지 않고 NaN값이 나왔다."
   ]
  },
  {
   "cell_type": "code",
   "execution_count": 18,
   "id": "6ffb5727",
   "metadata": {},
   "outputs": [
    {
     "data": {
      "image/png": "[encoded data removed]",
      "text/plain": [
       "<Figure size 504x504 with 2 Axes>"
      ]
     },
     "metadata": {
      "needs_background": "light"
     },
     "output_type": "display_data"
    }
   ],
   "source": [
    "# 그림 사이즈 지정\n",
    "fig, ax = plt.subplots( figsize=(7,7) )\n",
    "\n",
    "# 타이틀 지정\n",
    "plt.title(\"MF corr of stat_skill_moves and value\", y = 1.05, size = 15)\n",
    "\n",
    "# 삼각형 마스크를 만든다(위 쪽 삼각형에 True, 아래 삼각형에 False)\n",
    "mask = np.zeros_like(MF.corr(), dtype=np.bool)\n",
    "mask[np.triu_indices_from(mask)] = True\n",
    "\n",
    "# 히트맵을 그린다\n",
    "colormap = plt.cm.Greens\n",
    "sns.heatmap(MF.corr(),\n",
    "            cmap = colormap, linewidths=0.5, linecolor = \"white\", mask = mask,\n",
    "            vmin = -1, vmax = 1,\n",
    "            annot = True, annot_kws = {\"size\" : 30})\n",
    " \n",
    "plt.show()"
   ]
  },
  {
   "cell_type": "code",
   "execution_count": 19,
   "id": "cc69422f",
   "metadata": {},
   "outputs": [
    {
     "data": {
      "image/png": "[encoded data removed]",
      "text/plain": [
       "<Figure size 504x504 with 2 Axes>"
      ]
     },
     "metadata": {
      "needs_background": "light"
     },
     "output_type": "display_data"
    }
   ],
   "source": [
    "# 그림 사이즈 지정\n",
    "fig, ax = plt.subplots( figsize=(7,7) )\n",
    "\n",
    "# 타이틀 지정\n",
    "plt.title(\"ST corr of stat_skill_moves and value\", y = 1.05, size = 15)\n",
    "\n",
    "# 삼각형 마스크를 만든다(위 쪽 삼각형에 True, 아래 삼각형에 False)\n",
    "mask = np.zeros_like(ST.corr(), dtype=np.bool)\n",
    "mask[np.triu_indices_from(mask)] = True\n",
    "\n",
    "# 히트맵을 그린다\n",
    "colormap = plt.cm.Reds\n",
    "sns.heatmap(ST.corr(),\n",
    "            cmap = colormap, linewidths=0.5, linecolor = \"white\", mask = mask,\n",
    "            vmin = -1, vmax = 1,\n",
    "            annot = True, annot_kws = {\"size\" : 30})\n",
    " \n",
    "plt.show()"
   ]
  }
 ],
 "metadata": {
  "kernelspec": {
   "display_name": "Python 3 (ipykernel)",
   "language": "python",
   "name": "python3"
  },
  "language_info": {
   "codemirror_mode": {
    "name": "ipython",
    "version": 3
   },
   "file_extension": ".py",
   "mimetype": "text/x-python",
   "name": "python",
   "nbconvert_exporter": "python",
   "pygments_lexer": "ipython3",
   "version": "3.9.7"
  }
 },
 "nbformat": 4,
 "nbformat_minor": 5
}
