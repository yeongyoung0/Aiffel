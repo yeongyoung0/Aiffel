{
 "cells": [
  {
   "cell_type": "markdown",
   "id": "85ee062a",
   "metadata": {},
   "source": [
    "# 데이터 준비와 확인"
   ]
  },
  {
   "cell_type": "code",
   "execution_count": 1,
   "id": "3efdc940",
   "metadata": {},
   "outputs": [
    {
     "data": {
      "text/html": [
       "<div>\n",
       "<style scoped>\n",
       "    .dataframe tbody tr th:only-of-type {\n",
       "        vertical-align: middle;\n",
       "    }\n",
       "\n",
       "    .dataframe tbody tr th {\n",
       "        vertical-align: top;\n",
       "    }\n",
       "\n",
       "    .dataframe thead th {\n",
       "        text-align: right;\n",
       "    }\n",
       "</style>\n",
       "<table border=\"1\" class=\"dataframe\">\n",
       "  <thead>\n",
       "    <tr style=\"text-align: right;\">\n",
       "      <th></th>\n",
       "      <th>id</th>\n",
       "      <th>document</th>\n",
       "      <th>label</th>\n",
       "    </tr>\n",
       "  </thead>\n",
       "  <tbody>\n",
       "    <tr>\n",
       "      <th>0</th>\n",
       "      <td>9976970</td>\n",
       "      <td>아 더빙.. 진짜 짜증나네요 목소리</td>\n",
       "      <td>0</td>\n",
       "    </tr>\n",
       "    <tr>\n",
       "      <th>1</th>\n",
       "      <td>3819312</td>\n",
       "      <td>흠...포스터보고 초딩영화줄....오버연기조차 가볍지 않구나</td>\n",
       "      <td>1</td>\n",
       "    </tr>\n",
       "    <tr>\n",
       "      <th>2</th>\n",
       "      <td>10265843</td>\n",
       "      <td>너무재밓었다그래서보는것을추천한다</td>\n",
       "      <td>0</td>\n",
       "    </tr>\n",
       "    <tr>\n",
       "      <th>3</th>\n",
       "      <td>9045019</td>\n",
       "      <td>교도소 이야기구먼 ..솔직히 재미는 없다..평점 조정</td>\n",
       "      <td>0</td>\n",
       "    </tr>\n",
       "    <tr>\n",
       "      <th>4</th>\n",
       "      <td>6483659</td>\n",
       "      <td>사이몬페그의 익살스런 연기가 돋보였던 영화!스파이더맨에서 늙어보이기만 했던 커스틴 ...</td>\n",
       "      <td>1</td>\n",
       "    </tr>\n",
       "  </tbody>\n",
       "</table>\n",
       "</div>"
      ],
      "text/plain": [
       "         id                                           document  label\n",
       "0   9976970                                아 더빙.. 진짜 짜증나네요 목소리      0\n",
       "1   3819312                  흠...포스터보고 초딩영화줄....오버연기조차 가볍지 않구나      1\n",
       "2  10265843                                  너무재밓었다그래서보는것을추천한다      0\n",
       "3   9045019                      교도소 이야기구먼 ..솔직히 재미는 없다..평점 조정      0\n",
       "4   6483659  사이몬페그의 익살스런 연기가 돋보였던 영화!스파이더맨에서 늙어보이기만 했던 커스틴 ...      1"
      ]
     },
     "execution_count": 1,
     "metadata": {},
     "output_type": "execute_result"
    }
   ],
   "source": [
    "import pandas as pd\n",
    "\n",
    "# 데이터를 읽어봅시다. \n",
    "train_data = pd.read_table('~/aiffel/sentiment_classification/data/ratings_train.txt')\n",
    "test_data = pd.read_table('~/aiffel/sentiment_classification/data/ratings_test.txt')\n",
    "\n",
    "train_data.head()"
   ]
  },
  {
   "cell_type": "markdown",
   "id": "f1437e77",
   "metadata": {},
   "source": [
    "# 데이터로더 구성"
   ]
  },
  {
   "cell_type": "code",
   "execution_count": 2,
   "id": "6942e577",
   "metadata": {},
   "outputs": [],
   "source": [
    "from konlpy.tag import Mecab\n",
    "import numpy as np\n",
    "from collections import Counter\n",
    "\n",
    "tokenizer = Mecab()\n",
    "stopwords = ['의','가','이','은','들','는','좀','잘','걍','과','도','를','으로','자','에','와','한','하다']\n",
    "\n",
    "def load_data(train_data, test_data, num_words=10000):\n",
    "    train_data.drop_duplicates(subset=['document'], inplace=True) # 중복 제거\n",
    "    train_data = train_data.dropna(how = 'any') # 결측치 제거\n",
    "    test_data.drop_duplicates(subset=['document'], inplace=True) # 중복 제거\n",
    "    test_data = test_data.dropna(how = 'any') #결측치 제거\n",
    "    \n",
    "    X_train = []\n",
    "    for sentence in train_data['document']:\n",
    "        temp_X = tokenizer.morphs(sentence) # 토큰화\n",
    "        temp_X = [word for word in temp_X if not word in stopwords] # 불용어 제거\n",
    "        X_train.append(temp_X)\n",
    "\n",
    "    X_test = []\n",
    "    for sentence in test_data['document']:\n",
    "        temp_X = tokenizer.morphs(sentence) # 토큰화\n",
    "        temp_X = [word for word in temp_X if not word in stopwords] # 불용어 제거\n",
    "        X_test.append(temp_X)\n",
    "    \n",
    "    # 사전 구성\n",
    "    words = np.concatenate(X_train).tolist()\n",
    "    counter = Counter(words)\n",
    "    counter = counter.most_common(10000-4) # 데이터의 개수가 많은 순으로 정렬된 배열을 리턴\n",
    "    vocab = ['<PAD>', '<BOS>', '<UNK>', '<UNUSED>'] + [key for key, _ in counter]\n",
    "    word_to_index = {word:index for index, word in enumerate(vocab)}\n",
    "    \n",
    "    # 텍스트 스트링을 사전 인덱스 스트링으로 변환\n",
    "    def wordlist_to_indexlist(wordlist):\n",
    "        return [word_to_index[word] if word in word_to_index else word_to_index['<UNK>'] for word in wordlist]\n",
    "        \n",
    "    X_train = list(map(wordlist_to_indexlist, X_train))\n",
    "    X_test = list(map(wordlist_to_indexlist, X_test))\n",
    "        \n",
    "    return X_train, np.array(list(train_data['label'])), X_test, np.array(list(test_data['label'])), word_to_index\n",
    "    \n",
    "X_train, y_train, X_test, y_test, word_to_index = load_data(train_data, test_data) "
   ]
  },
  {
   "cell_type": "markdown",
   "id": "3350f5ea",
   "metadata": {},
   "source": [
    "pandas 메소드 .drop_duplicates(subset=None, keep='first', inplace=False) 설명\n",
    "\n",
    "subset은 중복데이터를 처리할 열을 입력 받는다.\n",
    "\n",
    "keep은 중복데이터 발견 시 어떤 데이터를 마크/삭제할 지 결졍한다.('first'=처음 발견된 데이터를 제외하고 삭제)\n",
    "\n",
    "inplace는 메소드가 적용되는 원본 데이터를 변경할지 여부를 결정한다.(True=변경한다.)"
   ]
  },
  {
   "cell_type": "code",
   "execution_count": 3,
   "id": "e496ed67",
   "metadata": {},
   "outputs": [],
   "source": [
    "index_to_word = {index:word for word, index in word_to_index.items()}"
   ]
  },
  {
   "cell_type": "code",
   "execution_count": 4,
   "id": "8c35684e",
   "metadata": {},
   "outputs": [],
   "source": [
    "# 문장 1개를 활용할 딕셔너리와 함께 주면, 단어 인덱스 리스트 벡터로 변환해 주는 함수입니다. \n",
    "# 단, 모든 문장은 <BOS>로 시작하는 것으로 합니다. \n",
    "def get_encoded_sentence(sentence, word_to_index):\n",
    "    return [word_to_index['<BOS>']]+[word_to_index[word] if word in word_to_index else word_to_index['<UNK>'] for word in sentence.split()]\n",
    "\n",
    "# 여러 개의 문장 리스트를 한꺼번에 단어 인덱스 리스트 벡터로 encode해 주는 함수입니다. \n",
    "def get_encoded_sentences(sentences, word_to_index):\n",
    "    return [get_encoded_sentence(sentence, word_to_index) for sentence in sentences]\n",
    "\n",
    "# 숫자 벡터로 encode된 문장을 원래대로 decode하는 함수입니다. \n",
    "def get_decoded_sentence(encoded_sentence, index_to_word):\n",
    "    return ' '.join(index_to_word[index] if index in index_to_word else '<UNK>' for index in encoded_sentence[1:])  #[1:]를 통해 <BOS>를 제외\n",
    "\n",
    "# 여러 개의 숫자 벡터로 encode된 문장을 한꺼번에 원래대로 decode하는 함수입니다. \n",
    "def get_decoded_sentences(encoded_sentences, index_to_word):\n",
    "    return [get_decoded_sentence(encoded_sentence, index_to_word) for encoded_sentence in encoded_sentences]"
   ]
  },
  {
   "cell_type": "markdown",
   "id": "7b2cc3ca",
   "metadata": {},
   "source": [
    "# 모델 구성을 위한 데이터 분석 및 가공"
   ]
  },
  {
   "cell_type": "code",
   "execution_count": 5,
   "id": "f3ae930a",
   "metadata": {
    "scrolled": true
   },
   "outputs": [
    {
     "name": "stdout",
     "output_type": "stream",
     "text": [
      "1번째 리뷰 문장 길이:  10\n",
      "[32, 74, 919, 4, 4, 39, 228, 20, 33, 748]\n",
      "\n",
      "7번째 리뷰 문장 길이:  43\n",
      "[232, 1450, 144, 6, 425, 756, 2, 2, 52, 1532, 290, 99, 250, 4, 4, 28, 855, 29, 353, 652, 540, 509, 583, 6, 3318, 4, 8895, 22, 1460, 1460, 4, 4, 71, 304, 17, 6, 52, 104, 8, 77, 22, 2, 43]\n"
     ]
    }
   ],
   "source": [
    "print('1번째 리뷰 문장 길이: ', len(X_train[0]))\n",
    "print(X_train[0])\n",
    "print('')\n",
    "print('7번째 리뷰 문장 길이: ', len(X_train[7]))\n",
    "print(X_train[7])"
   ]
  },
  {
   "cell_type": "code",
   "execution_count": 6,
   "id": "6cdfe86f",
   "metadata": {},
   "outputs": [
    {
     "name": "stdout",
     "output_type": "stream",
     "text": [
      "문장길이 평균 :  15.96940191154864\n",
      "문장길이 최대 :  116\n",
      "문장길이 표준편차 :  12.843571191092\n",
      "\n",
      "pad_sequences maxlen :  41\n",
      "전체 문장의 0.9342988343341575%가 maxlen 설정값 이내에 포함됩니다. \n"
     ]
    }
   ],
   "source": [
    "total_data_text = list(X_train) + list(X_test)\n",
    "\n",
    "# 텍스트데이터 문장길이의 리스트를 생성\n",
    "num_tokens = [len(tokens) for tokens in total_data_text]\n",
    "num_tokens = np.array(num_tokens)\n",
    "\n",
    "# 문장길이의 평균값, 최대값, 표준편차를 계산 \n",
    "print('문장길이 평균 : ', np.mean(num_tokens))\n",
    "print('문장길이 최대 : ', np.max(num_tokens))\n",
    "print('문장길이 표준편차 : ', np.std(num_tokens))\n",
    "\n",
    "# 최대 길이를 (평균 + 2*표준편차)로 지정 \n",
    "max_tokens = np.mean(num_tokens) + 2 * np.std(num_tokens)\n",
    "maxlen = int(max_tokens)\n",
    "print('\\npad_sequences maxlen : ', maxlen)\n",
    "print('전체 문장의 {}%가 maxlen 설정값 이내에 포함됩니다. '.format(np.sum(num_tokens < max_tokens) / len(num_tokens)))"
   ]
  },
  {
   "cell_type": "code",
   "execution_count": 7,
   "id": "19a63436",
   "metadata": {
    "scrolled": true
   },
   "outputs": [
    {
     "name": "stdout",
     "output_type": "stream",
     "text": [
      "(146182, 41)\n"
     ]
    }
   ],
   "source": [
    "# padding 넣기\n",
    "import tensorflow as tf\n",
    "from tensorflow import keras\n",
    "\n",
    "X_train = tf.keras.preprocessing.sequence.pad_sequences(X_train,\n",
    "                                                        value=word_to_index[\"<PAD>\"],\n",
    "                                                        padding='pre',\n",
    "                                                        maxlen=maxlen)\n",
    "\n",
    "X_test = tf.keras.preprocessing.sequence.pad_sequences(X_test,\n",
    "                                                       value=word_to_index[\"<PAD>\"],\n",
    "                                                       padding='pre',\n",
    "                                                       maxlen=maxlen)\n",
    "\n",
    "print(X_train.shape)"
   ]
  },
  {
   "cell_type": "markdown",
   "id": "4a6db47e",
   "metadata": {},
   "source": [
    "RNN은 입력데이터가 순차적으로 처리되어, 최후 입력이 최종 state값에 가장 영향을 많이 미친다.\n",
    "\n",
    "그러므로 'pre'가 훨씬 유리한데, 최후 입력이 무의미한 패딩으로 채워지는 것은 비효율적이기 때문이다."
   ]
  },
  {
   "cell_type": "code",
   "execution_count": 8,
   "id": "f553581e",
   "metadata": {
    "scrolled": true
   },
   "outputs": [
    {
     "name": "stdout",
     "output_type": "stream",
     "text": [
      "1번째 리뷰 문장 길이:  41\n",
      "[  0   0   0   0   0   0   0   0   0   0   0   0   0   0   0   0   0   0\n",
      "   0   0   0   0   0   0   0   0   0   0   0   0   0  32  74 919   4   4\n",
      "  39 228  20  33 748]\n",
      "\n",
      "7번째 리뷰 문장 길이:  41\n",
      "[ 144    6  425  756    2    2   52 1532  290   99  250    4    4   28\n",
      "  855   29  353  652  540  509  583    6 3318    4 8895   22 1460 1460\n",
      "    4    4   71  304   17    6   52  104    8   77   22    2   43]\n"
     ]
    }
   ],
   "source": [
    "print('1번째 리뷰 문장 길이: ', len(X_train[0]))\n",
    "print(X_train[0])\n",
    "print('')\n",
    "print('7번째 리뷰 문장 길이: ', len(X_train[7]))\n",
    "print(X_train[7])"
   ]
  },
  {
   "cell_type": "markdown",
   "id": "2b28e8ad",
   "metadata": {},
   "source": [
    "패딩을 거친 뒤\n",
    "\n",
    "길이가 41보다 짧은 문장은 41에 맞춰 0이 채워지고, 길이가 41보다 긴 문장은 41에 맞춰 길이가 잘린다.\n",
    "\n",
    "위에서 X_train의 길이는 10이었는데 (padding='pre'옵션을 주었기 때문에)앞에 0을 채워 41이 되었고, X_train[7]의 길이는 43이었는데 앞의 232, 1450이 잘리면서 41로 맞춰진 것을 알 수 있다."
   ]
  },
  {
   "cell_type": "markdown",
   "id": "33b10489",
   "metadata": {},
   "source": [
    "+) 퍼실님의 말씀에 따르면 영어와 한국어의 어순 차이(각각 두괄식, 미괄식)때문에\n",
    "\n",
    "영어는 post(최대 길이보다 긴 문장은 패딩 과정에서 뒷부분이 잘림), 한국어는 pre(~앞부분이 잘림)를 선택하기도 한다."
   ]
  },
  {
   "cell_type": "markdown",
   "id": "60e272d8",
   "metadata": {},
   "source": [
    "# 모델 구성"
   ]
  },
  {
   "cell_type": "markdown",
   "id": "172b0031",
   "metadata": {},
   "source": [
    "### RNN 모델 - LSTM 레이어 사용"
   ]
  },
  {
   "cell_type": "code",
   "execution_count": 9,
   "id": "31353453",
   "metadata": {
    "scrolled": true
   },
   "outputs": [
    {
     "name": "stdout",
     "output_type": "stream",
     "text": [
      "Model: \"sequential\"\n",
      "_________________________________________________________________\n",
      "Layer (type)                 Output Shape              Param #   \n",
      "=================================================================\n",
      "embedding (Embedding)        (None, None, 16)          160000    \n",
      "_________________________________________________________________\n",
      "lstm (LSTM)                  (None, 8)                 800       \n",
      "_________________________________________________________________\n",
      "dense (Dense)                (None, 8)                 72        \n",
      "_________________________________________________________________\n",
      "dense_1 (Dense)              (None, 1)                 9         \n",
      "=================================================================\n",
      "Total params: 160,881\n",
      "Trainable params: 160,881\n",
      "Non-trainable params: 0\n",
      "_________________________________________________________________\n"
     ]
    }
   ],
   "source": [
    "vocab_size = 10000    # 어휘 사전의 크기입니다(10,000개의 단어)\n",
    "word_vector_dim = 16  # 워드 벡터의 차원 수 (변경 가능한 하이퍼파라미터)\n",
    "\n",
    "RNN_model = tf.keras.Sequential()\n",
    "RNN_model.add(tf.keras.layers.Embedding(vocab_size, word_vector_dim, input_shape=(None,)))\n",
    "RNN_model.add(tf.keras.layers.LSTM(8))   # 가장 널리 쓰이는 RNN인 LSTM 레이어를 사용하였습니다. 이때 LSTM state 벡터의 차원수는 8로 하였습니다. (변경 가능)\n",
    "RNN_model.add(tf.keras.layers.Dense(8, activation='relu'))\n",
    "RNN_model.add(tf.keras.layers.Dense(1, activation='sigmoid'))  # 최종 출력은 긍정/부정을 나타내는 1dim 입니다.\n",
    "\n",
    "RNN_model.summary()"
   ]
  },
  {
   "cell_type": "markdown",
   "id": "7305abbc",
   "metadata": {},
   "source": [
    "### 1D CNN 모델"
   ]
  },
  {
   "cell_type": "code",
   "execution_count": 10,
   "id": "804c4ae0",
   "metadata": {
    "scrolled": true
   },
   "outputs": [
    {
     "name": "stdout",
     "output_type": "stream",
     "text": [
      "Model: \"sequential_1\"\n",
      "_________________________________________________________________\n",
      "Layer (type)                 Output Shape              Param #   \n",
      "=================================================================\n",
      "embedding_1 (Embedding)      (None, None, 16)          160000    \n",
      "_________________________________________________________________\n",
      "conv1d (Conv1D)              (None, None, 16)          1808      \n",
      "_________________________________________________________________\n",
      "max_pooling1d (MaxPooling1D) (None, None, 16)          0         \n",
      "_________________________________________________________________\n",
      "conv1d_1 (Conv1D)            (None, None, 16)          1808      \n",
      "_________________________________________________________________\n",
      "global_max_pooling1d (Global (None, 16)                0         \n",
      "_________________________________________________________________\n",
      "dense_2 (Dense)              (None, 8)                 136       \n",
      "_________________________________________________________________\n",
      "dense_3 (Dense)              (None, 1)                 9         \n",
      "=================================================================\n",
      "Total params: 163,761\n",
      "Trainable params: 163,761\n",
      "Non-trainable params: 0\n",
      "_________________________________________________________________\n"
     ]
    }
   ],
   "source": [
    "# 문장 전체를 한꺼번에 한 방향으로 길이 7짜리 필터로 스캐닝 하면서 7단어 이내에서 발견되는 특징을 추출하여 그것으로 문장을 분류하는 방식\n",
    "# CNN 계열은 RNN 계열보다 병렬처리가 효율적이기 때문에 학습 속도도 훨씬 빠르게 진행\n",
    "vocab_size = 10000\n",
    "word_vector_dim = 16\n",
    "\n",
    "CNN_model = tf.keras.Sequential()\n",
    "CNN_model.add(tf.keras.layers.Embedding(vocab_size, word_vector_dim, input_shape=(None,)))\n",
    "CNN_model.add(tf.keras.layers.Conv1D(16, 7, activation='relu'))\n",
    "CNN_model.add(tf.keras.layers.MaxPooling1D(5))\n",
    "CNN_model.add(tf.keras.layers.Conv1D(16, 7, activation='relu'))\n",
    "CNN_model.add(tf.keras.layers.GlobalMaxPooling1D())\n",
    "CNN_model.add(tf.keras.layers.Dense(8, activation='relu'))\n",
    "CNN_model.add(tf.keras.layers.Dense(1, activation='sigmoid'))\n",
    "\n",
    "CNN_model.summary()"
   ]
  },
  {
   "cell_type": "markdown",
   "id": "62b2404a",
   "metadata": {},
   "source": [
    "### GlobalMaxPooling1D() 레이어 하나만 사용"
   ]
  },
  {
   "cell_type": "code",
   "execution_count": 11,
   "id": "71457cf2",
   "metadata": {
    "scrolled": true
   },
   "outputs": [
    {
     "name": "stdout",
     "output_type": "stream",
     "text": [
      "Model: \"sequential_2\"\n",
      "_________________________________________________________________\n",
      "Layer (type)                 Output Shape              Param #   \n",
      "=================================================================\n",
      "embedding_2 (Embedding)      (None, None, 16)          160000    \n",
      "_________________________________________________________________\n",
      "global_max_pooling1d_1 (Glob (None, 16)                0         \n",
      "_________________________________________________________________\n",
      "dense_4 (Dense)              (None, 8)                 136       \n",
      "_________________________________________________________________\n",
      "dense_5 (Dense)              (None, 1)                 9         \n",
      "=================================================================\n",
      "Total params: 160,145\n",
      "Trainable params: 160,145\n",
      "Non-trainable params: 0\n",
      "_________________________________________________________________\n"
     ]
    }
   ],
   "source": [
    "# GlobalMaxPooling1D() 레이어 하나만 사용\n",
    "# 전체 문장 중에서 단 하나의 가장 중요한 단어만 피처로 추출하여 그것으로 문장의 긍정/부정을 평가하는 방식\n",
    "vocab_size = 10000\n",
    "word_vector_dim = 16\n",
    "\n",
    "GMP_model = tf.keras.Sequential()\n",
    "GMP_model.add(tf.keras.layers.Embedding(vocab_size, word_vector_dim, input_shape=(None,)))\n",
    "GMP_model.add(tf.keras.layers.GlobalMaxPooling1D())\n",
    "GMP_model.add(tf.keras.layers.Dense(8, activation='relu'))\n",
    "GMP_model.add(tf.keras.layers.Dense(1, activation='sigmoid'))\n",
    "\n",
    "GMP_model.summary()"
   ]
  },
  {
   "cell_type": "markdown",
   "id": "f821353b",
   "metadata": {},
   "source": [
    "### Embed 모델 - Google의 Word2Vec 모델 사용"
   ]
  },
  {
   "cell_type": "code",
   "execution_count": 12,
   "id": "1d5046c5",
   "metadata": {
    "scrolled": true
   },
   "outputs": [
    {
     "data": {
      "text/plain": [
       "array([ 1.07421875e-01, -2.01171875e-01,  1.23046875e-01,  2.11914062e-01,\n",
       "       -9.13085938e-02,  2.16796875e-01, -1.31835938e-01,  8.30078125e-02,\n",
       "        2.02148438e-01,  4.78515625e-02,  3.66210938e-02, -2.45361328e-02,\n",
       "        2.39257812e-02, -1.60156250e-01, -2.61230469e-02,  9.71679688e-02,\n",
       "       -6.34765625e-02,  1.84570312e-01,  1.70898438e-01, -1.63085938e-01,\n",
       "       -1.09375000e-01,  1.49414062e-01, -4.65393066e-04,  9.61914062e-02,\n",
       "        1.68945312e-01,  2.60925293e-03,  8.93554688e-02,  6.49414062e-02,\n",
       "        3.56445312e-02, -6.93359375e-02, -1.46484375e-01, -1.21093750e-01,\n",
       "       -2.27539062e-01,  2.45361328e-02, -1.24511719e-01, -3.18359375e-01,\n",
       "       -2.20703125e-01,  1.30859375e-01,  3.66210938e-02, -3.63769531e-02,\n",
       "       -1.13281250e-01,  1.95312500e-01,  9.76562500e-02,  1.26953125e-01,\n",
       "        6.59179688e-02,  6.93359375e-02,  1.02539062e-02,  1.75781250e-01,\n",
       "       -1.68945312e-01,  1.21307373e-03, -2.98828125e-01, -1.15234375e-01,\n",
       "        5.66406250e-02, -1.77734375e-01, -2.08984375e-01,  1.76757812e-01,\n",
       "        2.38037109e-02, -2.57812500e-01, -4.46777344e-02,  1.88476562e-01,\n",
       "        5.51757812e-02,  5.02929688e-02, -1.06933594e-01,  1.89453125e-01,\n",
       "       -1.16210938e-01,  8.49609375e-02, -1.71875000e-01,  2.45117188e-01,\n",
       "       -1.73828125e-01, -8.30078125e-03,  4.56542969e-02, -1.61132812e-02,\n",
       "        1.86523438e-01, -6.05468750e-02, -4.17480469e-02,  1.82617188e-01,\n",
       "        2.20703125e-01, -1.22558594e-01, -2.55126953e-02, -3.08593750e-01,\n",
       "        9.13085938e-02,  1.60156250e-01,  1.70898438e-01,  1.19628906e-01,\n",
       "        7.08007812e-02, -2.64892578e-02, -3.08837891e-02,  4.06250000e-01,\n",
       "       -1.01562500e-01,  5.71289062e-02, -7.26318359e-03, -9.17968750e-02,\n",
       "       -1.50390625e-01, -2.55859375e-01,  2.16796875e-01, -3.63769531e-02,\n",
       "        2.24609375e-01,  8.00781250e-02,  1.56250000e-01,  5.27343750e-02,\n",
       "        1.50390625e-01, -1.14746094e-01, -8.64257812e-02,  1.19140625e-01,\n",
       "       -7.17773438e-02,  2.73437500e-01, -1.64062500e-01,  7.29370117e-03,\n",
       "        4.21875000e-01, -1.12792969e-01, -1.35742188e-01, -1.31835938e-01,\n",
       "       -1.37695312e-01, -7.66601562e-02,  6.25000000e-02,  4.98046875e-02,\n",
       "       -1.91406250e-01, -6.03027344e-02,  2.27539062e-01,  5.88378906e-02,\n",
       "       -3.24218750e-01,  5.41992188e-02, -1.35742188e-01,  8.17871094e-03,\n",
       "       -5.24902344e-02, -1.74713135e-03, -9.81445312e-02, -2.86865234e-02,\n",
       "        3.61328125e-02,  2.15820312e-01,  5.98144531e-02, -3.08593750e-01,\n",
       "       -2.27539062e-01,  2.61718750e-01,  9.86328125e-02, -5.07812500e-02,\n",
       "        1.78222656e-02,  1.31835938e-01, -5.35156250e-01, -1.81640625e-01,\n",
       "        1.38671875e-01, -3.10546875e-01, -9.71679688e-02,  1.31835938e-01,\n",
       "       -1.16210938e-01,  7.03125000e-02,  2.85156250e-01,  3.51562500e-02,\n",
       "       -1.01562500e-01, -3.75976562e-02,  1.41601562e-01,  1.42578125e-01,\n",
       "       -5.68847656e-02,  2.65625000e-01, -2.09960938e-01,  9.64355469e-03,\n",
       "       -6.68945312e-02, -4.83398438e-02, -6.10351562e-02,  2.45117188e-01,\n",
       "       -9.66796875e-02,  1.78222656e-02, -1.27929688e-01, -4.78515625e-02,\n",
       "       -7.26318359e-03,  1.79687500e-01,  2.78320312e-02, -2.10937500e-01,\n",
       "       -1.43554688e-01, -1.27929688e-01,  1.73339844e-02, -3.60107422e-03,\n",
       "       -2.04101562e-01,  3.63159180e-03, -1.19628906e-01, -6.15234375e-02,\n",
       "        5.93261719e-02, -3.23486328e-03, -1.70898438e-01, -3.14941406e-02,\n",
       "       -8.88671875e-02, -2.89062500e-01,  3.44238281e-02, -1.87500000e-01,\n",
       "        2.94921875e-01,  1.58203125e-01, -1.19628906e-01,  7.61718750e-02,\n",
       "        6.39648438e-02, -4.68750000e-02, -6.83593750e-02,  1.21459961e-02,\n",
       "       -1.44531250e-01,  4.54101562e-02,  3.68652344e-02,  3.88671875e-01,\n",
       "        1.45507812e-01, -2.55859375e-01, -4.46777344e-02, -1.33789062e-01,\n",
       "       -1.38671875e-01,  6.59179688e-02,  1.37695312e-01,  1.14746094e-01,\n",
       "        2.03125000e-01, -4.78515625e-02,  1.80664062e-02, -8.54492188e-02,\n",
       "       -2.48046875e-01, -3.39843750e-01, -2.83203125e-02,  1.05468750e-01,\n",
       "       -2.14843750e-01, -8.74023438e-02,  7.12890625e-02,  1.87500000e-01,\n",
       "       -1.12304688e-01,  2.73437500e-01, -3.26171875e-01, -1.77734375e-01,\n",
       "       -4.24804688e-02, -2.69531250e-01,  6.64062500e-02, -6.88476562e-02,\n",
       "       -1.99218750e-01, -7.03125000e-02, -2.43164062e-01, -3.66210938e-02,\n",
       "       -7.37304688e-02, -1.77734375e-01,  9.17968750e-02, -1.25000000e-01,\n",
       "       -1.65039062e-01, -3.57421875e-01, -2.85156250e-01, -1.66992188e-01,\n",
       "        1.97265625e-01, -1.53320312e-01,  2.31933594e-02,  2.06054688e-01,\n",
       "        1.80664062e-01, -2.74658203e-02, -1.92382812e-01, -9.61914062e-02,\n",
       "       -1.06811523e-02, -4.73632812e-02,  6.54296875e-02, -1.25732422e-02,\n",
       "        1.78222656e-02, -8.00781250e-02, -2.59765625e-01,  9.37500000e-02,\n",
       "       -7.81250000e-02,  4.68750000e-02, -2.22167969e-02,  1.86767578e-02,\n",
       "        3.11279297e-02,  1.04980469e-02, -1.69921875e-01,  2.58789062e-02,\n",
       "       -3.41796875e-02, -1.44042969e-02, -5.46875000e-02, -8.78906250e-02,\n",
       "        1.96838379e-03,  2.23632812e-01, -1.36718750e-01,  1.75781250e-01,\n",
       "       -1.63085938e-01,  1.87500000e-01,  3.44238281e-02, -5.63964844e-02,\n",
       "       -2.27689743e-05,  4.27246094e-02,  5.81054688e-02, -1.07910156e-01,\n",
       "       -3.88183594e-02, -2.69531250e-01,  3.34472656e-02,  9.81445312e-02,\n",
       "        5.63964844e-02,  2.23632812e-01, -5.49316406e-02,  1.46484375e-01,\n",
       "        5.93261719e-02, -2.19726562e-01,  6.39648438e-02,  1.66015625e-02,\n",
       "        4.56542969e-02,  3.26171875e-01, -3.80859375e-01,  1.70898438e-01,\n",
       "        5.66406250e-02, -1.04492188e-01,  1.38671875e-01, -1.57226562e-01,\n",
       "        3.23486328e-03, -4.80957031e-02, -2.48046875e-01, -6.20117188e-02],\n",
       "      dtype=float32)"
      ]
     },
     "execution_count": 12,
     "metadata": {},
     "output_type": "execute_result"
    }
   ],
   "source": [
    "from gensim.models import KeyedVectors\n",
    "import os\n",
    "\n",
    "word2vec_path = os.getenv('HOME')+'/aiffel/sentiment_classification/data/GoogleNews-vectors-negative300.bin.gz'\n",
    "word2vec = KeyedVectors.load_word2vec_format(word2vec_path, binary=True, limit=1000000)\n",
    "vector = word2vec['computer']\n",
    "vector     # 무려 300dim의 워드 벡터입니다."
   ]
  },
  {
   "cell_type": "code",
   "execution_count": 13,
   "id": "ebfa2dc5",
   "metadata": {},
   "outputs": [],
   "source": [
    "# embedding_matrix 생성\n",
    "vocab_size = 10000\n",
    "word_vector_dim = 300 # Google Word2Vec은 dim이 300이므로\n",
    "embedding_matrix = np.random.rand(vocab_size, word_vector_dim)\n",
    "\n",
    "# embedding_matrix에 Word2Vec 워드 벡터를 단어 하나씩마다 차례차례 카피한다.\n",
    "for i in range(4,vocab_size):\n",
    "    if index_to_word[i] in word2vec:\n",
    "        embedding_matrix[i] = word2vec[index_to_word[i]]"
   ]
  },
  {
   "cell_type": "code",
   "execution_count": 14,
   "id": "67713551",
   "metadata": {
    "scrolled": true
   },
   "outputs": [
    {
     "name": "stdout",
     "output_type": "stream",
     "text": [
      "Model: \"sequential_3\"\n",
      "_________________________________________________________________\n",
      "Layer (type)                 Output Shape              Param #   \n",
      "=================================================================\n",
      "embedding_3 (Embedding)      (None, 41, 300)           3000000   \n",
      "_________________________________________________________________\n",
      "conv1d_2 (Conv1D)            (None, 35, 16)            33616     \n",
      "_________________________________________________________________\n",
      "max_pooling1d_1 (MaxPooling1 (None, 7, 16)             0         \n",
      "_________________________________________________________________\n",
      "conv1d_3 (Conv1D)            (None, 1, 16)             1808      \n",
      "_________________________________________________________________\n",
      "global_max_pooling1d_2 (Glob (None, 16)                0         \n",
      "_________________________________________________________________\n",
      "dense_6 (Dense)              (None, 8)                 136       \n",
      "_________________________________________________________________\n",
      "dense_7 (Dense)              (None, 1)                 9         \n",
      "=================================================================\n",
      "Total params: 3,035,569\n",
      "Trainable params: 3,035,569\n",
      "Non-trainable params: 0\n",
      "_________________________________________________________________\n"
     ]
    }
   ],
   "source": [
    "from tensorflow.keras.initializers import Constant\n",
    "\n",
    "vocab_size = 10000    # 어휘 사전의 크기입니다(10,000개의 단어)\n",
    "word_vector_dim = 300  # 워드 벡터의 차원 수 \n",
    "\n",
    "# 모델 구성\n",
    "EMB_model = tf.keras.Sequential()\n",
    "EMB_model.add(tf.keras.layers.Embedding(vocab_size, \n",
    "                                 word_vector_dim, \n",
    "                                 embeddings_initializer=Constant(embedding_matrix),  # 카피한 임베딩을 여기서 활용\n",
    "                                 input_length=maxlen, \n",
    "                                 trainable=True))   # trainable을 True로 주면 Fine-tuning\n",
    "EMB_model.add(tf.keras.layers.Conv1D(16, 7, activation='relu'))\n",
    "EMB_model.add(tf.keras.layers.MaxPooling1D(5))\n",
    "EMB_model.add(tf.keras.layers.Conv1D(16, 7, activation='relu'))\n",
    "EMB_model.add(tf.keras.layers.GlobalMaxPooling1D())\n",
    "EMB_model.add(tf.keras.layers.Dense(8, activation='relu'))\n",
    "EMB_model.add(tf.keras.layers.Dense(1, activation='sigmoid')) \n",
    "\n",
    "EMB_model.summary()"
   ]
  },
  {
   "cell_type": "markdown",
   "id": "257cf43c",
   "metadata": {},
   "source": [
    "#  및 validation set 구성"
   ]
  },
  {
   "cell_type": "code",
   "execution_count": 15,
   "id": "05ff90bf",
   "metadata": {},
   "outputs": [
    {
     "name": "stdout",
     "output_type": "stream",
     "text": [
      "(146182, 41)\n"
     ]
    }
   ],
   "source": [
    "print(X_train.shape)"
   ]
  },
  {
   "cell_type": "code",
   "execution_count": 16,
   "id": "15a9bb39",
   "metadata": {},
   "outputs": [
    {
     "name": "stdout",
     "output_type": "stream",
     "text": [
      "(36500, 41)\n",
      "(36500,)\n",
      "\n",
      "(109682, 41)\n",
      "(109682,)\n"
     ]
    }
   ],
   "source": [
    "# validation set 36,500건 분리\n",
    "X_val = X_train[:36500]   \n",
    "y_val = y_train[:36500]\n",
    "\n",
    "print(X_val.shape)\n",
    "print(y_val.shape)\n",
    "print('')\n",
    "\n",
    "# validation set을 제외한 나머지 건\n",
    "partial_X_train = X_train[36500:]  \n",
    "partial_y_train = y_train[36500:]\n",
    "\n",
    "print(partial_X_train.shape)\n",
    "print(partial_y_train.shape)"
   ]
  },
  {
   "cell_type": "markdown",
   "id": "d47f84c3",
   "metadata": {},
   "source": [
    "전통적인 머신러닝 방법론에서 말하는 데이터 Set의 적절한 비율, Train:Dev = 약 3:1이 되도록 나누었다.\n",
    "\n",
    "참고 링크: https://brunch.co.kr/@coolmindory/31\n",
    "\n",
    "현재 146,182개의 데이터를 다루고 있으므로 백만 개에 비해 많은 데이터셋이라고 보긴 어려워 전통적인 머신러닝 방법론에 따랐다."
   ]
  },
  {
   "cell_type": "markdown",
   "id": "ca0b7bd8",
   "metadata": {},
   "source": [
    "# 모델 훈련 개시"
   ]
  },
  {
   "cell_type": "markdown",
   "id": "a0b1e4af",
   "metadata": {},
   "source": [
    "### RNN 모델 사용"
   ]
  },
  {
   "cell_type": "code",
   "execution_count": 17,
   "id": "6c4baf47",
   "metadata": {
    "scrolled": true
   },
   "outputs": [
    {
     "name": "stdout",
     "output_type": "stream",
     "text": [
      "Epoch 1/20\n",
      "215/215 [==============================] - 5s 8ms/step - loss: 0.5509 - accuracy: 0.7362 - val_loss: 0.3959 - val_accuracy: 0.8415\n",
      "Epoch 2/20\n",
      "215/215 [==============================] - 1s 6ms/step - loss: 0.3563 - accuracy: 0.8533 - val_loss: 0.3538 - val_accuracy: 0.8479\n",
      "Epoch 3/20\n",
      "215/215 [==============================] - 1s 6ms/step - loss: 0.3229 - accuracy: 0.8670 - val_loss: 0.3497 - val_accuracy: 0.8510\n",
      "Epoch 4/20\n",
      "215/215 [==============================] - 1s 6ms/step - loss: 0.3085 - accuracy: 0.8733 - val_loss: 0.3518 - val_accuracy: 0.8498\n",
      "Epoch 5/20\n",
      "215/215 [==============================] - 1s 6ms/step - loss: 0.2996 - accuracy: 0.8775 - val_loss: 0.3528 - val_accuracy: 0.8502\n",
      "Epoch 6/20\n",
      "215/215 [==============================] - 1s 6ms/step - loss: 0.2920 - accuracy: 0.8809 - val_loss: 0.3567 - val_accuracy: 0.8491\n",
      "Epoch 7/20\n",
      "215/215 [==============================] - 1s 6ms/step - loss: 0.2864 - accuracy: 0.8839 - val_loss: 0.3548 - val_accuracy: 0.8487\n",
      "Epoch 8/20\n",
      "215/215 [==============================] - 1s 6ms/step - loss: 0.2807 - accuracy: 0.8865 - val_loss: 0.3633 - val_accuracy: 0.8475\n",
      "Epoch 9/20\n",
      "215/215 [==============================] - 1s 6ms/step - loss: 0.2736 - accuracy: 0.8896 - val_loss: 0.3654 - val_accuracy: 0.8470\n",
      "Epoch 10/20\n",
      "215/215 [==============================] - 1s 6ms/step - loss: 0.2678 - accuracy: 0.8928 - val_loss: 0.3652 - val_accuracy: 0.8467\n",
      "Epoch 11/20\n",
      "215/215 [==============================] - 1s 6ms/step - loss: 0.2612 - accuracy: 0.8961 - val_loss: 0.3694 - val_accuracy: 0.8475\n",
      "Epoch 12/20\n",
      "215/215 [==============================] - 1s 6ms/step - loss: 0.2535 - accuracy: 0.8999 - val_loss: 0.3682 - val_accuracy: 0.8484\n",
      "Epoch 13/20\n",
      "215/215 [==============================] - 1s 6ms/step - loss: 0.2451 - accuracy: 0.9041 - val_loss: 0.3711 - val_accuracy: 0.8487\n",
      "Epoch 14/20\n",
      "215/215 [==============================] - 1s 6ms/step - loss: 0.2362 - accuracy: 0.9077 - val_loss: 0.3744 - val_accuracy: 0.8487\n",
      "Epoch 15/20\n",
      "215/215 [==============================] - 1s 6ms/step - loss: 0.2278 - accuracy: 0.9124 - val_loss: 0.3845 - val_accuracy: 0.8482\n",
      "Epoch 16/20\n",
      "215/215 [==============================] - 1s 6ms/step - loss: 0.2187 - accuracy: 0.9164 - val_loss: 0.3850 - val_accuracy: 0.8493\n",
      "Epoch 17/20\n",
      "215/215 [==============================] - 1s 6ms/step - loss: 0.2092 - accuracy: 0.9217 - val_loss: 0.3937 - val_accuracy: 0.8481\n",
      "Epoch 18/20\n",
      "215/215 [==============================] - 1s 6ms/step - loss: 0.2011 - accuracy: 0.9247 - val_loss: 0.3969 - val_accuracy: 0.8488\n",
      "Epoch 19/20\n",
      "215/215 [==============================] - 1s 6ms/step - loss: 0.1922 - accuracy: 0.9294 - val_loss: 0.4126 - val_accuracy: 0.8490\n",
      "Epoch 20/20\n",
      "215/215 [==============================] - 1s 6ms/step - loss: 0.1851 - accuracy: 0.9317 - val_loss: 0.4229 - val_accuracy: 0.8478\n"
     ]
    }
   ],
   "source": [
    "RNN_model.compile(optimizer='adam',\n",
    "              loss='binary_crossentropy',\n",
    "              metrics=['accuracy'])\n",
    "              \n",
    "epochs=20  # 몇 epoch를 훈련하면 좋을지 결과를 보면서 바꾸어 봅시다. \n",
    "\n",
    "RNN_history = RNN_model.fit(partial_X_train,\n",
    "                    partial_y_train,\n",
    "                    epochs=epochs,\n",
    "                    batch_size=512,\n",
    "                    validation_data=(X_val, y_val),\n",
    "                    verbose=1)"
   ]
  },
  {
   "cell_type": "code",
   "execution_count": 18,
   "id": "12bb2db1",
   "metadata": {},
   "outputs": [
    {
     "name": "stdout",
     "output_type": "stream",
     "text": [
      "1537/1537 - 3s - loss: 0.4347 - accuracy: 0.8432\n",
      "[0.4347403943538666, 0.8432369828224182]\n"
     ]
    }
   ],
   "source": [
    "results = RNN_model.evaluate(X_test,  y_test, verbose=2)\n",
    "\n",
    "print(results)"
   ]
  },
  {
   "cell_type": "markdown",
   "id": "8a003cf3",
   "metadata": {},
   "source": [
    "### 1D CNN 사용"
   ]
  },
  {
   "cell_type": "code",
   "execution_count": 19,
   "id": "227f2292",
   "metadata": {
    "scrolled": true
   },
   "outputs": [
    {
     "name": "stdout",
     "output_type": "stream",
     "text": [
      "Epoch 1/20\n",
      "215/215 [==============================] - 3s 6ms/step - loss: 0.5142 - accuracy: 0.7494 - val_loss: 0.3659 - val_accuracy: 0.8386\n",
      "Epoch 2/20\n",
      "215/215 [==============================] - 1s 5ms/step - loss: 0.3375 - accuracy: 0.8561 - val_loss: 0.3497 - val_accuracy: 0.8477\n",
      "Epoch 3/20\n",
      "215/215 [==============================] - 1s 5ms/step - loss: 0.3014 - accuracy: 0.8743 - val_loss: 0.3405 - val_accuracy: 0.8518\n",
      "Epoch 4/20\n",
      "215/215 [==============================] - 1s 5ms/step - loss: 0.2746 - accuracy: 0.8871 - val_loss: 0.3449 - val_accuracy: 0.8527\n",
      "Epoch 5/20\n",
      "215/215 [==============================] - 1s 5ms/step - loss: 0.2483 - accuracy: 0.9005 - val_loss: 0.3537 - val_accuracy: 0.8509\n",
      "Epoch 6/20\n",
      "215/215 [==============================] - 1s 5ms/step - loss: 0.2183 - accuracy: 0.9166 - val_loss: 0.3722 - val_accuracy: 0.8462\n",
      "Epoch 7/20\n",
      "215/215 [==============================] - 1s 5ms/step - loss: 0.1865 - accuracy: 0.9315 - val_loss: 0.3934 - val_accuracy: 0.8451\n",
      "Epoch 8/20\n",
      "215/215 [==============================] - 1s 5ms/step - loss: 0.1559 - accuracy: 0.9457 - val_loss: 0.4328 - val_accuracy: 0.8396\n",
      "Epoch 9/20\n",
      "215/215 [==============================] - 1s 5ms/step - loss: 0.1293 - accuracy: 0.9571 - val_loss: 0.4750 - val_accuracy: 0.8389\n",
      "Epoch 10/20\n",
      "215/215 [==============================] - 1s 5ms/step - loss: 0.1076 - accuracy: 0.9658 - val_loss: 0.5198 - val_accuracy: 0.8354\n",
      "Epoch 11/20\n",
      "215/215 [==============================] - 1s 5ms/step - loss: 0.0906 - accuracy: 0.9719 - val_loss: 0.5607 - val_accuracy: 0.8319\n",
      "Epoch 12/20\n",
      "215/215 [==============================] - 1s 5ms/step - loss: 0.0772 - accuracy: 0.9767 - val_loss: 0.6045 - val_accuracy: 0.8286\n",
      "Epoch 13/20\n",
      "215/215 [==============================] - 1s 5ms/step - loss: 0.0663 - accuracy: 0.9803 - val_loss: 0.6556 - val_accuracy: 0.8259\n",
      "Epoch 14/20\n",
      "215/215 [==============================] - 1s 5ms/step - loss: 0.0586 - accuracy: 0.9824 - val_loss: 0.7156 - val_accuracy: 0.8230\n",
      "Epoch 15/20\n",
      "215/215 [==============================] - 1s 5ms/step - loss: 0.0520 - accuracy: 0.9846 - val_loss: 0.7613 - val_accuracy: 0.8227\n",
      "Epoch 16/20\n",
      "215/215 [==============================] - 1s 5ms/step - loss: 0.0460 - accuracy: 0.9863 - val_loss: 0.7948 - val_accuracy: 0.8216\n",
      "Epoch 17/20\n",
      "215/215 [==============================] - 1s 5ms/step - loss: 0.0415 - accuracy: 0.9880 - val_loss: 0.8212 - val_accuracy: 0.8205\n",
      "Epoch 18/20\n",
      "215/215 [==============================] - 1s 5ms/step - loss: 0.0378 - accuracy: 0.9891 - val_loss: 0.8812 - val_accuracy: 0.8199\n",
      "Epoch 19/20\n",
      "215/215 [==============================] - 1s 5ms/step - loss: 0.0358 - accuracy: 0.9897 - val_loss: 0.9228 - val_accuracy: 0.8194\n",
      "Epoch 20/20\n",
      "215/215 [==============================] - 1s 5ms/step - loss: 0.0339 - accuracy: 0.9897 - val_loss: 0.9728 - val_accuracy: 0.8189\n"
     ]
    }
   ],
   "source": [
    "CNN_model.compile(optimizer='adam',\n",
    "              loss='binary_crossentropy',\n",
    "              metrics=['accuracy'])\n",
    "              \n",
    "epochs=20\n",
    "\n",
    "CNN_history = CNN_model.fit(partial_X_train,\n",
    "                    partial_y_train,\n",
    "                    epochs=epochs,\n",
    "                    batch_size=512,\n",
    "                    validation_data=(X_val, y_val),\n",
    "                    verbose=1)"
   ]
  },
  {
   "cell_type": "code",
   "execution_count": 20,
   "id": "50e49a3b",
   "metadata": {},
   "outputs": [
    {
     "name": "stdout",
     "output_type": "stream",
     "text": [
      "1537/1537 - 2s - loss: 1.0142 - accuracy: 0.8122\n",
      "[1.0141527652740479, 0.8121935725212097]\n"
     ]
    }
   ],
   "source": [
    "results = CNN_model.evaluate(X_test,  y_test, verbose=2)\n",
    "\n",
    "print(results)"
   ]
  },
  {
   "cell_type": "markdown",
   "id": "a5c64a84",
   "metadata": {},
   "source": [
    "### GlobalMaxPooling1D() 레이어 하나만 사용"
   ]
  },
  {
   "cell_type": "code",
   "execution_count": 21,
   "id": "a6f4ed4e",
   "metadata": {
    "scrolled": true
   },
   "outputs": [
    {
     "name": "stdout",
     "output_type": "stream",
     "text": [
      "Epoch 1/20\n",
      "215/215 [==============================] - 1s 4ms/step - loss: 0.5955 - accuracy: 0.7343 - val_loss: 0.4447 - val_accuracy: 0.8136\n",
      "Epoch 2/20\n",
      "215/215 [==============================] - 1s 3ms/step - loss: 0.3830 - accuracy: 0.8362 - val_loss: 0.3623 - val_accuracy: 0.8400\n",
      "Epoch 3/20\n",
      "215/215 [==============================] - 1s 4ms/step - loss: 0.3265 - accuracy: 0.8614 - val_loss: 0.3509 - val_accuracy: 0.8448\n",
      "Epoch 4/20\n",
      "215/215 [==============================] - 1s 4ms/step - loss: 0.2973 - accuracy: 0.8766 - val_loss: 0.3513 - val_accuracy: 0.8465\n",
      "Epoch 5/20\n",
      "215/215 [==============================] - 1s 4ms/step - loss: 0.2762 - accuracy: 0.8868 - val_loss: 0.3558 - val_accuracy: 0.8462\n",
      "Epoch 6/20\n",
      "215/215 [==============================] - 1s 4ms/step - loss: 0.2593 - accuracy: 0.8955 - val_loss: 0.3631 - val_accuracy: 0.8450\n",
      "Epoch 7/20\n",
      "215/215 [==============================] - 1s 4ms/step - loss: 0.2445 - accuracy: 0.9027 - val_loss: 0.3726 - val_accuracy: 0.8441\n",
      "Epoch 8/20\n",
      "215/215 [==============================] - 1s 4ms/step - loss: 0.2315 - accuracy: 0.9091 - val_loss: 0.3817 - val_accuracy: 0.8432\n",
      "Epoch 9/20\n",
      "215/215 [==============================] - 1s 4ms/step - loss: 0.2202 - accuracy: 0.9146 - val_loss: 0.3935 - val_accuracy: 0.8410\n",
      "Epoch 10/20\n",
      "215/215 [==============================] - 1s 4ms/step - loss: 0.2101 - accuracy: 0.9185 - val_loss: 0.4050 - val_accuracy: 0.8411\n",
      "Epoch 11/20\n",
      "215/215 [==============================] - 1s 4ms/step - loss: 0.2007 - accuracy: 0.9238 - val_loss: 0.4174 - val_accuracy: 0.8389\n",
      "Epoch 12/20\n",
      "215/215 [==============================] - 1s 4ms/step - loss: 0.1922 - accuracy: 0.9281 - val_loss: 0.4317 - val_accuracy: 0.8368\n",
      "Epoch 13/20\n",
      "215/215 [==============================] - 1s 4ms/step - loss: 0.1846 - accuracy: 0.9315 - val_loss: 0.4439 - val_accuracy: 0.8358\n",
      "Epoch 14/20\n",
      "215/215 [==============================] - 1s 4ms/step - loss: 0.1774 - accuracy: 0.9347 - val_loss: 0.4564 - val_accuracy: 0.8335\n",
      "Epoch 15/20\n",
      "215/215 [==============================] - 1s 4ms/step - loss: 0.1711 - accuracy: 0.9379 - val_loss: 0.4683 - val_accuracy: 0.8325\n",
      "Epoch 16/20\n",
      "215/215 [==============================] - 1s 4ms/step - loss: 0.1649 - accuracy: 0.9399 - val_loss: 0.4827 - val_accuracy: 0.8312\n",
      "Epoch 17/20\n",
      "215/215 [==============================] - 1s 4ms/step - loss: 0.1592 - accuracy: 0.9427 - val_loss: 0.4965 - val_accuracy: 0.8304\n",
      "Epoch 18/20\n",
      "215/215 [==============================] - 1s 4ms/step - loss: 0.1540 - accuracy: 0.9450 - val_loss: 0.5092 - val_accuracy: 0.8290\n",
      "Epoch 19/20\n",
      "215/215 [==============================] - 1s 4ms/step - loss: 0.1493 - accuracy: 0.9476 - val_loss: 0.5215 - val_accuracy: 0.8292\n",
      "Epoch 20/20\n",
      "215/215 [==============================] - 1s 4ms/step - loss: 0.1446 - accuracy: 0.9495 - val_loss: 0.5361 - val_accuracy: 0.8271\n"
     ]
    }
   ],
   "source": [
    "GMP_model.compile(optimizer='adam',\n",
    "              loss='binary_crossentropy',\n",
    "              metrics=['accuracy'])\n",
    "              \n",
    "epochs=20\n",
    "GMP_history = GMP_model.fit(partial_X_train,\n",
    "                    partial_y_train,\n",
    "                    epochs=epochs,\n",
    "                    batch_size=512,\n",
    "                    validation_data=(X_val, y_val),\n",
    "                    verbose=1)"
   ]
  },
  {
   "cell_type": "code",
   "execution_count": 22,
   "id": "4a8d3ce7",
   "metadata": {},
   "outputs": [
    {
     "name": "stdout",
     "output_type": "stream",
     "text": [
      "1537/1537 - 2s - loss: 0.5477 - accuracy: 0.8225\n",
      "[0.5476682782173157, 0.8225481510162354]\n"
     ]
    }
   ],
   "source": [
    "results = GMP_model.evaluate(X_test,  y_test, verbose=2)\n",
    "\n",
    "print(results)"
   ]
  },
  {
   "cell_type": "markdown",
   "id": "ddc4667c",
   "metadata": {},
   "source": [
    "### Embed 모델 - Google의 Word2Vec 모델 사용"
   ]
  },
  {
   "cell_type": "code",
   "execution_count": 23,
   "id": "a8e587f2",
   "metadata": {
    "scrolled": true
   },
   "outputs": [
    {
     "name": "stdout",
     "output_type": "stream",
     "text": [
      "Epoch 1/20\n",
      "215/215 [==============================] - 3s 10ms/step - loss: 0.6062 - accuracy: 0.6507 - val_loss: 0.4410 - val_accuracy: 0.7971\n",
      "Epoch 2/20\n",
      "215/215 [==============================] - 2s 8ms/step - loss: 0.4012 - accuracy: 0.8203 - val_loss: 0.3839 - val_accuracy: 0.8308\n",
      "Epoch 3/20\n",
      "215/215 [==============================] - 2s 8ms/step - loss: 0.3475 - accuracy: 0.8508 - val_loss: 0.3706 - val_accuracy: 0.8371\n",
      "Epoch 4/20\n",
      "215/215 [==============================] - 2s 8ms/step - loss: 0.3161 - accuracy: 0.8675 - val_loss: 0.3772 - val_accuracy: 0.8332\n",
      "Epoch 5/20\n",
      "215/215 [==============================] - 2s 8ms/step - loss: 0.2874 - accuracy: 0.8814 - val_loss: 0.3802 - val_accuracy: 0.8346\n",
      "Epoch 6/20\n",
      "215/215 [==============================] - 2s 8ms/step - loss: 0.2641 - accuracy: 0.8944 - val_loss: 0.3884 - val_accuracy: 0.8341\n",
      "Epoch 7/20\n",
      "215/215 [==============================] - 2s 8ms/step - loss: 0.2467 - accuracy: 0.9016 - val_loss: 0.3923 - val_accuracy: 0.8361\n",
      "Epoch 8/20\n",
      "215/215 [==============================] - 2s 8ms/step - loss: 0.2236 - accuracy: 0.9129 - val_loss: 0.4442 - val_accuracy: 0.8264\n",
      "Epoch 9/20\n",
      "215/215 [==============================] - 2s 8ms/step - loss: 0.2076 - accuracy: 0.9213 - val_loss: 0.4387 - val_accuracy: 0.8265\n",
      "Epoch 10/20\n",
      "215/215 [==============================] - 2s 8ms/step - loss: 0.1831 - accuracy: 0.9324 - val_loss: 0.4437 - val_accuracy: 0.8328\n",
      "Epoch 11/20\n",
      "215/215 [==============================] - 2s 8ms/step - loss: 0.1675 - accuracy: 0.9393 - val_loss: 0.4694 - val_accuracy: 0.8296\n",
      "Epoch 12/20\n",
      "215/215 [==============================] - 2s 8ms/step - loss: 0.1460 - accuracy: 0.9495 - val_loss: 0.5034 - val_accuracy: 0.8246\n",
      "Epoch 13/20\n",
      "215/215 [==============================] - 2s 8ms/step - loss: 0.1297 - accuracy: 0.9557 - val_loss: 0.5770 - val_accuracy: 0.8152\n",
      "Epoch 14/20\n",
      "215/215 [==============================] - 2s 8ms/step - loss: 0.1176 - accuracy: 0.9613 - val_loss: 0.5642 - val_accuracy: 0.8216\n",
      "Epoch 15/20\n",
      "215/215 [==============================] - 2s 8ms/step - loss: 0.1082 - accuracy: 0.9641 - val_loss: 0.5981 - val_accuracy: 0.8206\n",
      "Epoch 16/20\n",
      "215/215 [==============================] - 2s 8ms/step - loss: 0.0970 - accuracy: 0.9687 - val_loss: 0.6321 - val_accuracy: 0.8125\n",
      "Epoch 17/20\n",
      "215/215 [==============================] - 2s 8ms/step - loss: 0.0963 - accuracy: 0.9683 - val_loss: 0.6173 - val_accuracy: 0.8212\n",
      "Epoch 18/20\n",
      "215/215 [==============================] - 2s 8ms/step - loss: 0.0831 - accuracy: 0.9737 - val_loss: 0.6720 - val_accuracy: 0.8192\n",
      "Epoch 19/20\n",
      "215/215 [==============================] - 2s 8ms/step - loss: 0.0713 - accuracy: 0.9780 - val_loss: 0.6941 - val_accuracy: 0.8172\n",
      "Epoch 20/20\n",
      "215/215 [==============================] - 2s 8ms/step - loss: 0.0656 - accuracy: 0.9804 - val_loss: 0.7355 - val_accuracy: 0.8159\n"
     ]
    }
   ],
   "source": [
    "EMB_model.compile(optimizer='adam',\n",
    "              loss='binary_crossentropy',\n",
    "              metrics=['accuracy'])\n",
    "              \n",
    "epochs=20\n",
    "\n",
    "EMB_history = EMB_model.fit(partial_X_train,\n",
    "                    partial_y_train,\n",
    "                    epochs=epochs,\n",
    "                    batch_size=512,\n",
    "                    validation_data=(X_val, y_val),\n",
    "                    verbose=1)"
   ]
  },
  {
   "cell_type": "code",
   "execution_count": 24,
   "id": "47386320",
   "metadata": {},
   "outputs": [
    {
     "name": "stdout",
     "output_type": "stream",
     "text": [
      "1537/1537 - 2s - loss: 0.7573 - accuracy: 0.8118\n",
      "[0.7573120594024658, 0.8117867112159729]\n"
     ]
    }
   ],
   "source": [
    "results = EMB_model.evaluate(X_test,  y_test, verbose=2)\n",
    "\n",
    "print(results)"
   ]
  },
  {
   "cell_type": "markdown",
   "id": "3b9d0cae",
   "metadata": {},
   "source": [
    "# Loss, Accuracy 그래프 시각화"
   ]
  },
  {
   "cell_type": "markdown",
   "id": "be7e654a",
   "metadata": {},
   "source": [
    "### RNN 모델"
   ]
  },
  {
   "cell_type": "code",
   "execution_count": 25,
   "id": "796cca78",
   "metadata": {},
   "outputs": [
    {
     "name": "stdout",
     "output_type": "stream",
     "text": [
      "dict_keys(['loss', 'accuracy', 'val_loss', 'val_accuracy'])\n"
     ]
    }
   ],
   "source": [
    "RNN_history_dict = RNN_history.history\n",
    "print(RNN_history_dict.keys())"
   ]
  },
  {
   "cell_type": "code",
   "execution_count": 26,
   "id": "3ba9a5b5",
   "metadata": {},
   "outputs": [
    {
     "data": {
      "image/png": "[encoded data removed]",
      "text/plain": [
       "<Figure size 432x288 with 1 Axes>"
      ]
     },
     "metadata": {
      "needs_background": "light"
     },
     "output_type": "display_data"
    }
   ],
   "source": [
    "import matplotlib.pyplot as plt\n",
    "\n",
    "acc = RNN_history_dict['accuracy']\n",
    "val_acc = RNN_history_dict['val_accuracy']\n",
    "loss = RNN_history_dict['loss']\n",
    "val_loss = RNN_history_dict['val_loss']\n",
    "\n",
    "epochs = range(1, len(acc) + 1)\n",
    "\n",
    "# \"bo\"는 \"파란색 점\"입니다\n",
    "plt.plot(epochs, loss, 'bo', label='Training loss')\n",
    "# b는 \"파란 실선\"입니다\n",
    "plt.plot(epochs, val_loss, 'b', label='Validation loss')\n",
    "plt.title('Training and validation loss')\n",
    "plt.xlabel('Epochs')\n",
    "plt.ylabel('Loss')\n",
    "plt.legend()\n",
    "\n",
    "plt.show()"
   ]
  },
  {
   "cell_type": "code",
   "execution_count": 27,
   "id": "0e65d341",
   "metadata": {},
   "outputs": [
    {
     "data": {
      "image/png": "[encoded data removed]",
      "text/plain": [
       "<Figure size 432x288 with 1 Axes>"
      ]
     },
     "metadata": {
      "needs_background": "light"
     },
     "output_type": "display_data"
    }
   ],
   "source": [
    "plt.clf()   # 그림을 초기화합니다\n",
    "\n",
    "plt.plot(epochs, acc, 'bo', label='Training acc')\n",
    "plt.plot(epochs, val_acc, 'b', label='Validation acc')\n",
    "plt.title('Training and validation accuracy')\n",
    "plt.xlabel('Epochs')\n",
    "plt.ylabel('Accuracy')\n",
    "plt.legend()\n",
    "\n",
    "plt.show()"
   ]
  },
  {
   "cell_type": "markdown",
   "id": "3bf50195",
   "metadata": {},
   "source": [
    "### 1D CNN 모델"
   ]
  },
  {
   "cell_type": "code",
   "execution_count": 28,
   "id": "72d2d1f5",
   "metadata": {},
   "outputs": [
    {
     "name": "stdout",
     "output_type": "stream",
     "text": [
      "dict_keys(['loss', 'accuracy', 'val_loss', 'val_accuracy'])\n"
     ]
    }
   ],
   "source": [
    "CNN_history_dict = CNN_history.history\n",
    "print(CNN_history_dict.keys())"
   ]
  },
  {
   "cell_type": "code",
   "execution_count": 29,
   "id": "4a9cfa67",
   "metadata": {
    "scrolled": true
   },
   "outputs": [
    {
     "data": {
      "image/png": "[encoded data removed]",
      "text/plain": [
       "<Figure size 432x288 with 1 Axes>"
      ]
     },
     "metadata": {
      "needs_background": "light"
     },
     "output_type": "display_data"
    }
   ],
   "source": [
    "import matplotlib.pyplot as plt\n",
    "\n",
    "acc = CNN_history_dict['accuracy']\n",
    "val_acc = CNN_history_dict['val_accuracy']\n",
    "loss = CNN_history_dict['loss']\n",
    "val_loss = CNN_history_dict['val_loss']\n",
    "\n",
    "epochs = range(1, len(acc) + 1)\n",
    "\n",
    "plt.plot(epochs, loss, 'bo', label='Training loss')\n",
    "plt.plot(epochs, val_loss, 'b', label='Validation loss')\n",
    "plt.title('Training and validation loss')\n",
    "plt.xlabel('Epochs')\n",
    "plt.ylabel('Loss')\n",
    "plt.legend()\n",
    "\n",
    "plt.show()"
   ]
  },
  {
   "cell_type": "code",
   "execution_count": 30,
   "id": "c15fdd96",
   "metadata": {},
   "outputs": [
    {
     "data": {
      "image/png": "[encoded data removed]",
      "text/plain": [
       "<Figure size 432x288 with 1 Axes>"
      ]
     },
     "metadata": {
      "needs_background": "light"
     },
     "output_type": "display_data"
    }
   ],
   "source": [
    "plt.clf()\n",
    "\n",
    "plt.plot(epochs, acc, 'bo', label='Training acc')\n",
    "plt.plot(epochs, val_acc, 'b', label='Validation acc')\n",
    "plt.title('Training and validation accuracy')\n",
    "plt.xlabel('Epochs')\n",
    "plt.ylabel('Accuracy')\n",
    "plt.legend()\n",
    "\n",
    "plt.show()"
   ]
  },
  {
   "cell_type": "markdown",
   "id": "ae6e15d6",
   "metadata": {},
   "source": [
    "### GlobalMaxPooling1D() 레이어"
   ]
  },
  {
   "cell_type": "code",
   "execution_count": 31,
   "id": "3eb1533f",
   "metadata": {},
   "outputs": [
    {
     "name": "stdout",
     "output_type": "stream",
     "text": [
      "dict_keys(['loss', 'accuracy', 'val_loss', 'val_accuracy'])\n"
     ]
    }
   ],
   "source": [
    "GMP_history_dict = GMP_history.history\n",
    "print(GMP_history_dict.keys())"
   ]
  },
  {
   "cell_type": "code",
   "execution_count": 32,
   "id": "d2ce64ae",
   "metadata": {},
   "outputs": [
    {
     "data": {
      "image/png": "[encoded data removed]",
      "text/plain": [
       "<Figure size 432x288 with 1 Axes>"
      ]
     },
     "metadata": {
      "needs_background": "light"
     },
     "output_type": "display_data"
    }
   ],
   "source": [
    "import matplotlib.pyplot as plt\n",
    "\n",
    "acc = GMP_history_dict['accuracy']\n",
    "val_acc = GMP_history_dict['val_accuracy']\n",
    "loss = GMP_history_dict['loss']\n",
    "val_loss = GMP_history_dict['val_loss']\n",
    "\n",
    "epochs = range(1, len(acc) + 1)\n",
    "\n",
    "plt.plot(epochs, loss, 'bo', label='Training loss')\n",
    "plt.plot(epochs, val_loss, 'b', label='Validation loss')\n",
    "plt.title('Training and validation loss')\n",
    "plt.xlabel('Epochs')\n",
    "plt.ylabel('Loss')\n",
    "plt.legend()\n",
    "\n",
    "plt.show()"
   ]
  },
  {
   "cell_type": "code",
   "execution_count": 33,
   "id": "e104fa7b",
   "metadata": {},
   "outputs": [
    {
     "data": {
      "image/png": "[encoded data removed]",
      "text/plain": [
       "<Figure size 432x288 with 1 Axes>"
      ]
     },
     "metadata": {
      "needs_background": "light"
     },
     "output_type": "display_data"
    }
   ],
   "source": [
    "plt.clf()\n",
    "\n",
    "plt.plot(epochs, acc, 'bo', label='Training acc')\n",
    "plt.plot(epochs, val_acc, 'b', label='Validation acc')\n",
    "plt.title('Training and validation accuracy')\n",
    "plt.xlabel('Epochs')\n",
    "plt.ylabel('Accuracy')\n",
    "plt.legend()\n",
    "\n",
    "plt.show()"
   ]
  },
  {
   "cell_type": "markdown",
   "id": "50b5ff2f",
   "metadata": {},
   "source": [
    "### Embed 모델 - Google의 Word2Vec 모델"
   ]
  },
  {
   "cell_type": "code",
   "execution_count": 34,
   "id": "1178a83b",
   "metadata": {},
   "outputs": [
    {
     "name": "stdout",
     "output_type": "stream",
     "text": [
      "dict_keys(['loss', 'accuracy', 'val_loss', 'val_accuracy'])\n"
     ]
    }
   ],
   "source": [
    "EMB_history_dict = EMB_history.history\n",
    "print(EMB_history_dict.keys())"
   ]
  },
  {
   "cell_type": "code",
   "execution_count": 35,
   "id": "16b19b2a",
   "metadata": {},
   "outputs": [
    {
     "data": {
      "image/png": "[encoded data removed]",
      "text/plain": [
       "<Figure size 432x288 with 1 Axes>"
      ]
     },
     "metadata": {
      "needs_background": "light"
     },
     "output_type": "display_data"
    }
   ],
   "source": [
    "import matplotlib.pyplot as plt\n",
    "\n",
    "acc = EMB_history_dict['accuracy']\n",
    "val_acc = EMB_history_dict['val_accuracy']\n",
    "loss = EMB_history_dict['loss']\n",
    "val_loss = EMB_history_dict['val_loss']\n",
    "\n",
    "epochs = range(1, len(acc) + 1)\n",
    "\n",
    "plt.plot(epochs, loss, 'bo', label='Training loss')\n",
    "plt.plot(epochs, val_loss, 'b', label='Validation loss')\n",
    "plt.title('Training and validation loss')\n",
    "plt.xlabel('Epochs')\n",
    "plt.ylabel('Loss')\n",
    "plt.legend()\n",
    "\n",
    "plt.show()"
   ]
  },
  {
   "cell_type": "code",
   "execution_count": 36,
   "id": "2f2b6cff",
   "metadata": {},
   "outputs": [
    {
     "data": {
      "image/png": "[encoded data removed]",
      "text/plain": [
       "<Figure size 432x288 with 1 Axes>"
      ]
     },
     "metadata": {
      "needs_background": "light"
     },
     "output_type": "display_data"
    }
   ],
   "source": [
    "plt.clf()\n",
    "\n",
    "plt.plot(epochs, acc, 'bo', label='Training acc')\n",
    "plt.plot(epochs, val_acc, 'b', label='Validation acc')\n",
    "plt.title('Training and validation accuracy')\n",
    "plt.xlabel('Epochs')\n",
    "plt.ylabel('Accuracy')\n",
    "plt.legend()\n",
    "\n",
    "plt.show()"
   ]
  },
  {
   "cell_type": "markdown",
   "id": "e03880eb",
   "metadata": {},
   "source": [
    "# 학습된 Embedding 레이어 분석"
   ]
  },
  {
   "cell_type": "code",
   "execution_count": 37,
   "id": "3e540b10",
   "metadata": {},
   "outputs": [
    {
     "name": "stdout",
     "output_type": "stream",
     "text": [
      "(10000, 16)\n"
     ]
    }
   ],
   "source": [
    "embedding_layer = RNN_model.layers[0]\n",
    "weights = embedding_layer.get_weights()[0]\n",
    "print(weights.shape)    # shape: (vocab_size, embedding_dim)"
   ]
  },
  {
   "cell_type": "code",
   "execution_count": 38,
   "id": "cbde3ce1",
   "metadata": {},
   "outputs": [
    {
     "name": "stdout",
     "output_type": "stream",
     "text": [
      "(10000, 16)\n"
     ]
    }
   ],
   "source": [
    "embedding_layer = CNN_model.layers[0]\n",
    "weights = embedding_layer.get_weights()[0]\n",
    "print(weights.shape)"
   ]
  },
  {
   "cell_type": "code",
   "execution_count": 39,
   "id": "9a8e7183",
   "metadata": {},
   "outputs": [
    {
     "name": "stdout",
     "output_type": "stream",
     "text": [
      "(10000, 16)\n"
     ]
    }
   ],
   "source": [
    "embedding_layer = GMP_model.layers[0]\n",
    "weights = embedding_layer.get_weights()[0]\n",
    "print(weights.shape)"
   ]
  },
  {
   "cell_type": "code",
   "execution_count": 40,
   "id": "fb1e71ae",
   "metadata": {},
   "outputs": [
    {
     "name": "stdout",
     "output_type": "stream",
     "text": [
      "(10000, 300)\n"
     ]
    }
   ],
   "source": [
    "embedding_layer = EMB_model.layers[0]\n",
    "weights = embedding_layer.get_weights()[0]\n",
    "print(weights.shape)"
   ]
  },
  {
   "cell_type": "markdown",
   "id": "f7ae7283",
   "metadata": {},
   "source": [
    "# 한국어 Word2Vec 임베딩 활용하여 성능 개선"
   ]
  },
  {
   "cell_type": "code",
   "execution_count": 41,
   "id": "7ee08efc",
   "metadata": {},
   "outputs": [
    {
     "name": "stderr",
     "output_type": "stream",
     "text": [
      "/tmp/ipykernel_4376/2158595543.py:6: DeprecationWarning: Call to deprecated `__getitem__` (Method will be removed in 4.0.0, use self.wv.__getitem__() instead).\n",
      "  vector = word2vec['컴퓨터']\n"
     ]
    },
    {
     "data": {
      "text/plain": [
       "array([-1.517628  , -0.8935504 , -1.4352998 ,  1.5069847 , -1.5178334 ,\n",
       "        1.1542678 , -2.94064   ,  1.1850045 ,  0.19959009, -1.5288961 ,\n",
       "       -1.7067502 , -2.1892095 , -0.20728938, -2.2606812 , -2.2283888 ,\n",
       "        0.32318738, -0.2845471 , -0.07731772, -0.86269003, -1.1722927 ,\n",
       "       -0.91062415,  0.8440715 ,  0.903278  , -0.84685427,  0.7023384 ,\n",
       "       -2.1920419 , -0.47571626, -0.60159504, -0.68860835,  0.18944737,\n",
       "        0.5319404 ,  0.73058116, -0.9658133 , -1.0123725 , -0.36183038,\n",
       "        2.5851305 ,  0.66589296, -1.7231252 ,  1.7576753 ,  0.88845277,\n",
       "        1.5791365 , -4.430691  ,  0.36731872,  0.69481534, -0.46041563,\n",
       "        1.742655  , -1.5077016 ,  0.72209424, -0.04532204, -0.6557301 ,\n",
       "       -0.71276623,  0.26522732, -0.17656395, -2.4720876 , -0.845565  ,\n",
       "        0.23591152,  1.3414925 ,  0.77577615, -2.289371  , -0.8078124 ,\n",
       "        1.4359473 ,  0.22882733, -1.08867   ,  1.2607764 , -1.7469797 ,\n",
       "        0.06542054,  0.39896825, -0.3160832 , -1.7257563 ,  0.54638785,\n",
       "       -0.31753907, -0.48656994, -0.8225613 , -0.573065  ,  0.13175343,\n",
       "       -0.3924169 ,  0.55588305, -1.0773534 ,  0.55159163,  0.1352609 ,\n",
       "        0.88245326, -1.0127378 ,  0.14704451, -0.5254349 , -3.401769  ,\n",
       "       -0.42525592,  2.0031376 ,  0.36679608, -1.0043006 ,  1.3084906 ,\n",
       "        0.66252464, -0.48564675,  1.1390634 , -0.61399025, -0.50669813,\n",
       "        2.984564  ,  1.126494  ,  0.68590933, -0.2439008 , -1.317931  ,\n",
       "        0.826134  , -0.3985872 ,  0.509279  , -2.7423162 ,  2.1723568 ,\n",
       "        0.02191449, -0.16062206, -0.14502135, -0.32332814, -1.7890338 ,\n",
       "        1.8245052 , -1.3794106 ,  0.4879299 , -1.4982558 , -1.2389678 ,\n",
       "        1.1795257 , -1.54579   ,  0.07694028,  0.44653377,  0.27894926,\n",
       "       -1.9621123 ,  0.6149733 , -0.41162157, -1.0487087 , -1.7935017 ,\n",
       "        0.31845954,  0.14684801, -0.49587062,  1.6319822 ,  0.39944446,\n",
       "        0.434382  , -1.1794649 , -2.5206347 ,  0.6408292 , -0.62896025,\n",
       "        1.9872422 ,  1.2521076 , -0.21406372,  1.6773093 , -1.6608806 ,\n",
       "       -0.33801398, -0.88510543,  0.1943094 , -1.7670768 , -0.39440864,\n",
       "        1.5270631 , -1.1952105 , -0.60033166,  1.0510954 , -1.4626403 ,\n",
       "       -1.517039  ,  0.59476143,  0.36977595, -1.4121546 , -0.21997249,\n",
       "       -1.0658429 , -0.17150132,  0.8064618 ,  0.5093993 , -0.74832773,\n",
       "        1.2333933 , -1.9864655 , -0.8474578 , -1.1405545 , -3.6550071 ,\n",
       "       -1.556984  ,  1.8270527 ,  1.3725282 , -1.2329742 , -0.09723412,\n",
       "        0.34405386,  0.11565362, -0.9567215 ,  1.4773479 ,  2.169166  ,\n",
       "       -0.26613593, -1.4810696 ,  3.1457973 , -0.4415616 , -1.1940637 ,\n",
       "       -0.09637992, -0.05768079,  0.6716703 , -0.21914895,  0.56199044,\n",
       "       -1.129858  , -0.7972026 ,  0.73576796,  0.22356483,  0.9140782 ,\n",
       "       -1.4168789 ,  0.15810002, -0.79947495, -1.0691265 ,  1.4587201 ,\n",
       "       -0.5216996 ,  1.1812991 ,  0.37763026,  1.3513768 , -0.4241938 ],\n",
       "      dtype=float32)"
      ]
     },
     "execution_count": 41,
     "metadata": {},
     "output_type": "execute_result"
    }
   ],
   "source": [
    "import os\n",
    "import gensim\n",
    "from gensim.models import KeyedVectors\n",
    "word2vec_path = os.getenv('HOME')+'/aiffel/sentiment_classification/ko.bin'\n",
    "word2vec = gensim.models.Word2Vec.load(word2vec_path)\n",
    "vector = word2vec['컴퓨터']\n",
    "vector"
   ]
  },
  {
   "cell_type": "markdown",
   "id": "bcd3c6a2",
   "metadata": {},
   "source": [
    "KeyedVectors.load_word2vec_format(word2vec_path, binary=True, limit=1000000)   \n",
    "노드 본문에서는 실습 환경상 메모리 에러를 막기 위해 300dim의 벡터로 이루어진 300만 개의 단어 벡터를 KeyedVectors.load_word2vec_format 메소드의 limt으로 조건을 주어 가장 많이 사용되는 상위 100만 개만 로딩했다.   \n",
    "ko.bin은 200dim의 벡터로 이루어진 3만 185개의 단어 데이터이므로 비교적 크지 않아 해당 메소드를 사용하지 않고 단어를 로드했다.\n"
   ]
  },
  {
   "cell_type": "code",
   "execution_count": 42,
   "id": "34722274",
   "metadata": {},
   "outputs": [
    {
     "name": "stderr",
     "output_type": "stream",
     "text": [
      "/tmp/ipykernel_4376/1360476464.py:1: DeprecationWarning: Call to deprecated `similar_by_word` (Method will be removed in 4.0.0, use self.wv.similar_by_word() instead).\n",
      "  word2vec.similar_by_word(\"사랑\")\n"
     ]
    },
    {
     "data": {
      "text/plain": [
       "[('슬픔', 0.7216662764549255),\n",
       " ('행복', 0.6759077310562134),\n",
       " ('절망', 0.6468985080718994),\n",
       " ('기쁨', 0.6458414196968079),\n",
       " ('이별', 0.6334798336029053),\n",
       " ('추억', 0.6320937275886536),\n",
       " ('인생', 0.6216273307800293),\n",
       " ('애정', 0.6206069588661194),\n",
       " ('연인', 0.6186063289642334),\n",
       " ('유혹', 0.5965287685394287)]"
      ]
     },
     "execution_count": 42,
     "metadata": {},
     "output_type": "execute_result"
    }
   ],
   "source": [
    "word2vec.similar_by_word(\"사랑\")"
   ]
  },
  {
   "cell_type": "markdown",
   "id": "a296f399",
   "metadata": {},
   "source": [
    "### 모델 구성"
   ]
  },
  {
   "cell_type": "code",
   "execution_count": 43,
   "id": "11d1cbd5",
   "metadata": {},
   "outputs": [
    {
     "name": "stderr",
     "output_type": "stream",
     "text": [
      "/tmp/ipykernel_4376/3839584803.py:7: DeprecationWarning: Call to deprecated `__contains__` (Method will be removed in 4.0.0, use self.wv.__contains__() instead).\n",
      "  if index_to_word[i] in word2vec:\n",
      "/tmp/ipykernel_4376/3839584803.py:8: DeprecationWarning: Call to deprecated `__getitem__` (Method will be removed in 4.0.0, use self.wv.__getitem__() instead).\n",
      "  embedding_matrix[i] = word2vec[index_to_word[i]]\n"
     ]
    }
   ],
   "source": [
    "vocab_size = 10000\n",
    "word_vector_dim = 200\n",
    "\n",
    "embedding_matrix = np.random.rand(vocab_size, word_vector_dim)\n",
    "\n",
    "for i in range(4,vocab_size):\n",
    "    if index_to_word[i] in word2vec:\n",
    "        embedding_matrix[i] = word2vec[index_to_word[i]]\n",
    "        "
   ]
  },
  {
   "cell_type": "code",
   "execution_count": 44,
   "id": "05511b36",
   "metadata": {},
   "outputs": [
    {
     "name": "stdout",
     "output_type": "stream",
     "text": [
      "Model: \"sequential_4\"\n",
      "_________________________________________________________________\n",
      "Layer (type)                 Output Shape              Param #   \n",
      "=================================================================\n",
      "embedding_4 (Embedding)      (None, 41, 200)           2000000   \n",
      "_________________________________________________________________\n",
      "lstm_1 (LSTM)                (None, 64)                67840     \n",
      "_________________________________________________________________\n",
      "dense_8 (Dense)              (None, 256)               16640     \n",
      "_________________________________________________________________\n",
      "dense_9 (Dense)              (None, 1)                 257       \n",
      "=================================================================\n",
      "Total params: 2,084,737\n",
      "Trainable params: 2,084,737\n",
      "Non-trainable params: 0\n",
      "_________________________________________________________________\n"
     ]
    }
   ],
   "source": [
    "vocab_size = 10000\n",
    "word_vector_dim = 200\n",
    "\n",
    "RNN_model_ko = keras.Sequential()\n",
    "RNN_model_ko.add(keras.layers.Embedding(vocab_size, \n",
    "                                 word_vector_dim, \n",
    "                                 embeddings_initializer=Constant(embedding_matrix),\n",
    "                                 input_length=maxlen, \n",
    "                                 trainable=True))\n",
    "RNN_model_ko.add(keras.layers.LSTM(64))\n",
    "RNN_model_ko.add(keras.layers.Dense(256, activation='relu'))\n",
    "RNN_model_ko.add(keras.layers.Dense(1, activation='sigmoid'))\n",
    "\n",
    "RNN_model_ko.summary()"
   ]
  },
  {
   "cell_type": "markdown",
   "id": "fdb511f6",
   "metadata": {},
   "source": [
    "### 모델 훈련 개시"
   ]
  },
  {
   "cell_type": "code",
   "execution_count": 45,
   "id": "57494a17",
   "metadata": {},
   "outputs": [
    {
     "name": "stdout",
     "output_type": "stream",
     "text": [
      "Epoch 1/10\n",
      "429/429 [==============================] - 5s 8ms/step - loss: 0.4349 - accuracy: 0.7934 - val_loss: 0.3511 - val_accuracy: 0.8438\n",
      "Epoch 2/10\n",
      "429/429 [==============================] - 3s 7ms/step - loss: 0.3212 - accuracy: 0.8613 - val_loss: 0.3295 - val_accuracy: 0.8579\n",
      "Epoch 3/10\n",
      "429/429 [==============================] - 3s 7ms/step - loss: 0.2794 - accuracy: 0.8821 - val_loss: 0.3283 - val_accuracy: 0.8595\n",
      "Epoch 4/10\n",
      "429/429 [==============================] - 3s 7ms/step - loss: 0.2487 - accuracy: 0.8960 - val_loss: 0.3271 - val_accuracy: 0.8604\n",
      "Epoch 5/10\n",
      "429/429 [==============================] - 3s 7ms/step - loss: 0.2198 - accuracy: 0.9105 - val_loss: 0.3350 - val_accuracy: 0.8606\n",
      "Epoch 6/10\n",
      "429/429 [==============================] - 3s 7ms/step - loss: 0.1937 - accuracy: 0.9225 - val_loss: 0.3688 - val_accuracy: 0.8598\n",
      "Epoch 7/10\n",
      "429/429 [==============================] - 3s 7ms/step - loss: 0.1639 - accuracy: 0.9355 - val_loss: 0.4065 - val_accuracy: 0.8584\n",
      "Epoch 8/10\n",
      "429/429 [==============================] - 3s 7ms/step - loss: 0.1382 - accuracy: 0.9467 - val_loss: 0.4480 - val_accuracy: 0.8578\n",
      "Epoch 9/10\n",
      "429/429 [==============================] - 3s 7ms/step - loss: 0.1134 - accuracy: 0.9571 - val_loss: 0.5124 - val_accuracy: 0.8532\n",
      "Epoch 10/10\n",
      "429/429 [==============================] - 3s 7ms/step - loss: 0.0942 - accuracy: 0.9646 - val_loss: 0.5614 - val_accuracy: 0.8528\n"
     ]
    }
   ],
   "source": [
    "RNN_model_ko.compile(optimizer='adam',\n",
    "              loss='binary_crossentropy',\n",
    "              metrics=['accuracy'])\n",
    "              \n",
    "epochs=10\n",
    "\n",
    "RNN_history_ko = RNN_model_ko.fit(partial_X_train,\n",
    "                    partial_y_train,\n",
    "                    epochs=epochs,\n",
    "                    batch_size=256,\n",
    "                    validation_data=(X_val, y_val),\n",
    "                    verbose=1)"
   ]
  },
  {
   "cell_type": "code",
   "execution_count": 46,
   "id": "63118577",
   "metadata": {},
   "outputs": [
    {
     "name": "stdout",
     "output_type": "stream",
     "text": [
      "1537/1537 - 3s - loss: 0.5749 - accuracy: 0.8478\n",
      "[0.5748919248580933, 0.8477734327316284]\n"
     ]
    }
   ],
   "source": [
    "results = RNN_model_ko.evaluate(X_test,  y_test, verbose=2)\n",
    "\n",
    "print(results)"
   ]
  },
  {
   "cell_type": "markdown",
   "id": "15597432",
   "metadata": {},
   "source": [
    "### Loss, Accuracy 그래프 시각화"
   ]
  },
  {
   "cell_type": "code",
   "execution_count": 47,
   "id": "3dea5086",
   "metadata": {},
   "outputs": [
    {
     "name": "stdout",
     "output_type": "stream",
     "text": [
      "dict_keys(['loss', 'accuracy', 'val_loss', 'val_accuracy'])\n"
     ]
    }
   ],
   "source": [
    "RNN_history_dict_ko = RNN_history_ko.history\n",
    "print(RNN_history_dict_ko.keys())"
   ]
  },
  {
   "cell_type": "code",
   "execution_count": 48,
   "id": "64a08073",
   "metadata": {},
   "outputs": [
    {
     "data": {
      "image/png": "[encoded data removed]",
      "text/plain": [
       "<Figure size 432x288 with 1 Axes>"
      ]
     },
     "metadata": {
      "needs_background": "light"
     },
     "output_type": "display_data"
    }
   ],
   "source": [
    "import matplotlib.pyplot as plt\n",
    "\n",
    "acc = RNN_history_dict_ko['accuracy']\n",
    "val_acc = RNN_history_dict_ko['val_accuracy']\n",
    "loss = RNN_history_dict_ko['loss']\n",
    "val_loss = RNN_history_dict_ko['val_loss']\n",
    "\n",
    "epochs = range(1, len(acc) + 1)\n",
    "\n",
    "# \"bo\"는 \"파란색 점\"입니다\n",
    "plt.plot(epochs, loss, 'bo', label='Training loss')\n",
    "# b는 \"파란 실선\"입니다\n",
    "plt.plot(epochs, val_loss, 'b', label='Validation loss')\n",
    "plt.title('Training and validation loss')\n",
    "plt.xlabel('Epochs')\n",
    "plt.ylabel('Loss')\n",
    "plt.legend()\n",
    "\n",
    "plt.show()"
   ]
  },
  {
   "cell_type": "code",
   "execution_count": 49,
   "id": "e7eeaf51",
   "metadata": {
    "scrolled": true
   },
   "outputs": [
    {
     "data": {
      "image/png": "[encoded data removed]",
      "text/plain": [
       "<Figure size 432x288 with 1 Axes>"
      ]
     },
     "metadata": {
      "needs_background": "light"
     },
     "output_type": "display_data"
    }
   ],
   "source": [
    "plt.clf()\n",
    "\n",
    "plt.plot(epochs, acc, 'bo', label='Training acc')\n",
    "plt.plot(epochs, val_acc, 'b', label='Validation acc')\n",
    "plt.title('Training and validation accuracy')\n",
    "plt.xlabel('Epochs')\n",
    "plt.ylabel('Accuracy')\n",
    "plt.legend()\n",
    "\n",
    "plt.show()"
   ]
  },
  {
   "cell_type": "code",
   "execution_count": 50,
   "id": "5d6c2a55",
   "metadata": {},
   "outputs": [
    {
     "name": "stdout",
     "output_type": "stream",
     "text": [
      "(10000, 16)\n"
     ]
    }
   ],
   "source": [
    "embedding_layer = RNN_model.layers[0]\n",
    "weights = embedding_layer.get_weights()[0]\n",
    "print(weights.shape)    # shape: (vocab_size, embedding_dim)"
   ]
  },
  {
   "cell_type": "markdown",
   "id": "049cdd1c",
   "metadata": {},
   "source": [
    "LSTM레이어를 사용한 RNN모델, 1차원 CNN모델, GlobalMaxPooling레이어 하나만을 사용한 모델, 구글 Word2Vec를 임베딩한 임베드 모델을 써 보았을 때 RNN모델이 0.8373으로 가장 높은 정확도를 보였다.   \n",
    "이 RNN모델에 한국어 Word2Vec 임베딩을 활용하니 0.8478정도로 성능이 조금 더 향상되는 모습을 보였다."
   ]
  },
  {
   "cell_type": "markdown",
   "id": "03f497f4",
   "metadata": {},
   "source": [
    "# 회고"
   ]
  },
  {
   "cell_type": "markdown",
   "id": "c417f45c",
   "metadata": {},
   "source": [
    "이번 과제에서도 어김없이 빨간색 경고 메세지를 마주했다. 천천히 살펴보니 ko.bin을 오류없이 로드하기 위해 gensim의 버전을 낮춘 것 때문에 생긴 warning인 듯 했다. 처음 빨간색을 마주했을 땐 구글을 떠도는 나날이 또 반복되나 철렁했는데 일단은 무시해도 괜찮은 메세지임을 깨닫고 가슴을 쓸어내리며 안도했다.\n",
    "또 코드를 작성하며 예상한대로 한국어 Word2Vec임베딩을 활용했을 때 정확도가 조금이라도 높게 나와주어 하늘에게 감사했다. 제가 제대로 한 게 맞군요!\n",
    "\n",
    "텍스트 감성분석이라는 주제가 너무도 흥미로워서, 지나온 한 주는 여느때보다 꽤 즐겁게 과제를 수행했다. 보통 본문 내용 중 보충학습 개념으로 참고하라고 걸려있는 링크까지는 자세히 살펴보지 못한채 전체 흐름만 파악하고 넘길때가 많은데, 이번엔 링크 속 내용까지 재미있게 모조리 읽었다. 아이펠에 오기 전까진 상상도 할 수 없던 “인공지능”의 “감성”, “분석”이라는 조합이 인상깊게 다가와서일까 생각이 든다.   \n",
    "이번 코드의 반환값들 중에도 아주 인상깊은 것이 있다. 한국어 Word2Vec 임베딩을 로드한 후 Word2Vec에서 제공하는 워드 임베딩 벡터들끼리 의미적 유사도가 가까운 것이 서로 가깝게 제대로 학습되어 있는가 확인하기 위해 gensim을 사용해 단어를 하나 주고, 그와 가장 유사한 단어와 그 유사도를 확인하는 과정에서 ‘사랑’과 유사도가 가장 높은 단어로 ‘슬픔’이 나온 것이다. 이는 벡터끼리 유사한 정도를 분석해 오름차순으로 정렬한 결과에 불과하지만 사랑과 가장 유사도가 높다고 컴퓨터가 뱉어낸 것이 슬픔이라니! 결과를 바라보고 있자니 기분이 이상했다."
   ]
  },
  {
   "cell_type": "code",
   "execution_count": null,
   "id": "4fd1098c",
   "metadata": {},
   "outputs": [],
   "source": []
  }
 ],
 "metadata": {
  "kernelspec": {
   "display_name": "Python 3 (ipykernel)",
   "language": "python",
   "name": "python3"
  },
  "language_info": {
   "codemirror_mode": {
    "name": "ipython",
    "version": 3
   },
   "file_extension": ".py",
   "mimetype": "text/x-python",
   "name": "python",
   "nbconvert_exporter": "python",
   "pygments_lexer": "ipython3",
   "version": "3.9.7"
  }
 },
 "nbformat": 4,
 "nbformat_minor": 5
}
