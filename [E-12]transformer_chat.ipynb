{
 "cells": [
  {
   "cell_type": "markdown",
   "id": "4d1e9c11",
   "metadata": {},
   "source": [
    "# 필요한 패키지 임포트"
   ]
  },
  {
   "cell_type": "code",
   "execution_count": 1,
   "id": "05b75bdf",
   "metadata": {},
   "outputs": [
    {
     "name": "stdout",
     "output_type": "stream",
     "text": [
      "complete\n"
     ]
    }
   ],
   "source": [
    "import tensorflow as tf\n",
    "import tensorflow_datasets as tfds\n",
    "import os\n",
    "import re\n",
    "import numpy as np\n",
    "import matplotlib.pyplot as plt\n",
    "import pandas as pd\n",
    "print('complete')"
   ]
  },
  {
   "cell_type": "markdown",
   "id": "4d135736",
   "metadata": {},
   "source": [
    "# 데이터 수집하기"
   ]
  },
  {
   "cell_type": "markdown",
   "id": "7a2d95e0",
   "metadata": {},
   "source": [
    "송영숙님이 공개한 챗봇 데이터 사용"
   ]
  },
  {
   "cell_type": "code",
   "execution_count": 2,
   "id": "e41a8600",
   "metadata": {},
   "outputs": [],
   "source": [
    "path_chatbotdata = os.getenv('HOME') +'/aiffel/transformer_chatbot/data/ChatbotData .csv'\n",
    "df = pd.read_csv(path_chatbotdata)"
   ]
  },
  {
   "cell_type": "code",
   "execution_count": 3,
   "id": "5a7c32c6",
   "metadata": {},
   "outputs": [
    {
     "name": "stdout",
     "output_type": "stream",
     "text": [
      "Q        0\n",
      "A        0\n",
      "label    0\n",
      "dtype: int64\n"
     ]
    }
   ],
   "source": [
    "print(df.isnull().sum()) # 결측치 확인"
   ]
  },
  {
   "cell_type": "code",
   "execution_count": 4,
   "id": "cdca307c",
   "metadata": {},
   "outputs": [
    {
     "data": {
      "text/html": [
       "<div>\n",
       "<style scoped>\n",
       "    .dataframe tbody tr th:only-of-type {\n",
       "        vertical-align: middle;\n",
       "    }\n",
       "\n",
       "    .dataframe tbody tr th {\n",
       "        vertical-align: top;\n",
       "    }\n",
       "\n",
       "    .dataframe thead th {\n",
       "        text-align: right;\n",
       "    }\n",
       "</style>\n",
       "<table border=\"1\" class=\"dataframe\">\n",
       "  <thead>\n",
       "    <tr style=\"text-align: right;\">\n",
       "      <th></th>\n",
       "      <th>Q</th>\n",
       "      <th>A</th>\n",
       "      <th>label</th>\n",
       "    </tr>\n",
       "  </thead>\n",
       "  <tbody>\n",
       "    <tr>\n",
       "      <th>0</th>\n",
       "      <td>12시 땡!</td>\n",
       "      <td>하루가 또 가네요.</td>\n",
       "      <td>0</td>\n",
       "    </tr>\n",
       "    <tr>\n",
       "      <th>1</th>\n",
       "      <td>1지망 학교 떨어졌어</td>\n",
       "      <td>위로해 드립니다.</td>\n",
       "      <td>0</td>\n",
       "    </tr>\n",
       "    <tr>\n",
       "      <th>2</th>\n",
       "      <td>3박4일 놀러가고 싶다</td>\n",
       "      <td>여행은 언제나 좋죠.</td>\n",
       "      <td>0</td>\n",
       "    </tr>\n",
       "    <tr>\n",
       "      <th>3</th>\n",
       "      <td>3박4일 정도 놀러가고 싶다</td>\n",
       "      <td>여행은 언제나 좋죠.</td>\n",
       "      <td>0</td>\n",
       "    </tr>\n",
       "    <tr>\n",
       "      <th>4</th>\n",
       "      <td>PPL 심하네</td>\n",
       "      <td>눈살이 찌푸려지죠.</td>\n",
       "      <td>0</td>\n",
       "    </tr>\n",
       "  </tbody>\n",
       "</table>\n",
       "</div>"
      ],
      "text/plain": [
       "                 Q            A  label\n",
       "0           12시 땡!   하루가 또 가네요.      0\n",
       "1      1지망 학교 떨어졌어    위로해 드립니다.      0\n",
       "2     3박4일 놀러가고 싶다  여행은 언제나 좋죠.      0\n",
       "3  3박4일 정도 놀러가고 싶다  여행은 언제나 좋죠.      0\n",
       "4          PPL 심하네   눈살이 찌푸려지죠.      0"
      ]
     },
     "execution_count": 4,
     "metadata": {},
     "output_type": "execute_result"
    }
   ],
   "source": [
    "df.head() # 데이터 확인"
   ]
  },
  {
   "cell_type": "code",
   "execution_count": 5,
   "id": "b1fdab18",
   "metadata": {},
   "outputs": [
    {
     "data": {
      "text/html": [
       "<div>\n",
       "<style scoped>\n",
       "    .dataframe tbody tr th:only-of-type {\n",
       "        vertical-align: middle;\n",
       "    }\n",
       "\n",
       "    .dataframe tbody tr th {\n",
       "        vertical-align: top;\n",
       "    }\n",
       "\n",
       "    .dataframe thead th {\n",
       "        text-align: right;\n",
       "    }\n",
       "</style>\n",
       "<table border=\"1\" class=\"dataframe\">\n",
       "  <thead>\n",
       "    <tr style=\"text-align: right;\">\n",
       "      <th></th>\n",
       "      <th>Q</th>\n",
       "      <th>A</th>\n",
       "      <th>label</th>\n",
       "    </tr>\n",
       "  </thead>\n",
       "  <tbody>\n",
       "    <tr>\n",
       "      <th>11818</th>\n",
       "      <td>훔쳐보는 것도 눈치 보임.</td>\n",
       "      <td>티가 나니까 눈치가 보이는 거죠!</td>\n",
       "      <td>2</td>\n",
       "    </tr>\n",
       "    <tr>\n",
       "      <th>11819</th>\n",
       "      <td>훔쳐보는 것도 눈치 보임.</td>\n",
       "      <td>훔쳐보는 거 티나나봐요.</td>\n",
       "      <td>2</td>\n",
       "    </tr>\n",
       "    <tr>\n",
       "      <th>11820</th>\n",
       "      <td>흑기사 해주는 짝남.</td>\n",
       "      <td>설렜겠어요.</td>\n",
       "      <td>2</td>\n",
       "    </tr>\n",
       "    <tr>\n",
       "      <th>11821</th>\n",
       "      <td>힘든 연애 좋은 연애라는게 무슨 차이일까?</td>\n",
       "      <td>잘 헤어질 수 있는 사이 여부인 거 같아요.</td>\n",
       "      <td>2</td>\n",
       "    </tr>\n",
       "    <tr>\n",
       "      <th>11822</th>\n",
       "      <td>힘들어서 결혼할까봐</td>\n",
       "      <td>도피성 결혼은 하지 않길 바라요.</td>\n",
       "      <td>2</td>\n",
       "    </tr>\n",
       "  </tbody>\n",
       "</table>\n",
       "</div>"
      ],
      "text/plain": [
       "                             Q                         A  label\n",
       "11818           훔쳐보는 것도 눈치 보임.        티가 나니까 눈치가 보이는 거죠!      2\n",
       "11819           훔쳐보는 것도 눈치 보임.             훔쳐보는 거 티나나봐요.      2\n",
       "11820              흑기사 해주는 짝남.                    설렜겠어요.      2\n",
       "11821  힘든 연애 좋은 연애라는게 무슨 차이일까?  잘 헤어질 수 있는 사이 여부인 거 같아요.      2\n",
       "11822               힘들어서 결혼할까봐        도피성 결혼은 하지 않길 바라요.      2"
      ]
     },
     "execution_count": 5,
     "metadata": {},
     "output_type": "execute_result"
    }
   ],
   "source": [
    "df.tail() # 데이터 확인"
   ]
  },
  {
   "cell_type": "markdown",
   "id": "68e2a947",
   "metadata": {},
   "source": [
    "# 데이터 전처리하기"
   ]
  },
  {
   "cell_type": "code",
   "execution_count": 6,
   "id": "8384f77e",
   "metadata": {},
   "outputs": [
    {
     "name": "stdout",
     "output_type": "stream",
     "text": [
      "11823\n"
     ]
    }
   ],
   "source": [
    "# 사용할 샘플의 최대 개수\n",
    "MAX_SAMPLES = df.shape[0]\n",
    "print(MAX_SAMPLES)"
   ]
  },
  {
   "cell_type": "markdown",
   "id": "9eabce55",
   "metadata": {},
   "source": [
    "### 전처리 함수 구현"
   ]
  },
  {
   "cell_type": "markdown",
   "id": "434ff419",
   "metadata": {},
   "source": [
    "정규표현식을 사용하여 구두점을 제거해, 단어를 토크나이징 하는 일에 방해되지 않도록 정제하는 함수 구현"
   ]
  },
  {
   "cell_type": "code",
   "execution_count": 7,
   "id": "6ed13c18",
   "metadata": {},
   "outputs": [
    {
     "name": "stdout",
     "output_type": "stream",
     "text": [
      "complete\n"
     ]
    }
   ],
   "source": [
    "# 전처리 함수\n",
    "def preprocess_sentence(sentence):\n",
    "    \n",
    "    sentence = re.sub(r\"([?.!,])\", r\" \\1 \", sentence)\n",
    "    sentence = re.sub(r'[\" \"]+', \" \", sentence)\n",
    "    \n",
    "    # (ㄱ~ㅎ, ㅏ~ㅣ,가~힣, \".\", \"?\", \"!\", \",\")를 제외한 모든 문자를 공백인 ' '로 대체합니다.\n",
    "    sentence = re.sub(r\"[^ ㄱ-ㅣ가-힣!,.?]+\", \" \", sentence)\n",
    "    sentence = sentence.strip()\n",
    "    return sentence\n",
    "print('complete')"
   ]
  },
  {
   "cell_type": "markdown",
   "id": "c2727c19",
   "metadata": {},
   "source": [
    "본문의 로드데이터 함수가 고쳐도 고쳐도 오류가 나길래, 그냥 구글링을 통해 직접 코드를 입력해 questions와 answers에 저장해주었다."
   ]
  },
  {
   "cell_type": "code",
   "execution_count": 8,
   "id": "bcd8b4a9",
   "metadata": {},
   "outputs": [],
   "source": [
    "df['p_Q'] = df['Q'].map(lambda x : preprocess_sentence(x))\n",
    "df['p_A'] = df['A'].map(lambda x : preprocess_sentence(x))"
   ]
  },
  {
   "cell_type": "code",
   "execution_count": 9,
   "id": "3659d764",
   "metadata": {},
   "outputs": [
    {
     "name": "stdout",
     "output_type": "stream",
     "text": [
      "전체 샘플 수 : 11823\n",
      "전체 샘플 수 : 11823\n",
      "전처리 후의 22번째 질문 샘플: 가스비 장난 아님\n",
      "전처리 후의 22번째 답변 샘플: 다음 달에는 더 절약해봐요 .\n"
     ]
    }
   ],
   "source": [
    "# 데이터를 로드하고 전처리하여 질문을 questions, 답변을 answers에 저장합니다.\n",
    "#questions, answers = load_conversations()\n",
    "print('전체 샘플 수 :', len(df['p_Q']))\n",
    "print('전체 샘플 수 :', len(df['p_A']))\n",
    "print('전처리 후의 22번째 질문 샘플: {}'.format(df['p_Q'][21]))\n",
    "print('전처리 후의 22번째 답변 샘플: {}'.format(df['p_A'][21]))"
   ]
  },
  {
   "cell_type": "code",
   "execution_count": 10,
   "id": "1c39cbe4",
   "metadata": {},
   "outputs": [],
   "source": [
    "questions = df['p_Q']\n",
    "answers = df['p_A']"
   ]
  },
  {
   "cell_type": "markdown",
   "id": "4dadaa6c",
   "metadata": {},
   "source": [
    "### 로드한 데이터 샘플 확인"
   ]
  },
  {
   "cell_type": "markdown",
   "id": "2820b021",
   "metadata": {},
   "source": [
    "구두점들이 단어들과 분리되어 단어와 구두점 사이에는 공백이 추가된 것을 확인할 수 있다."
   ]
  },
  {
   "cell_type": "markdown",
   "id": "2ba4ed0e",
   "metadata": {},
   "source": [
    "# SubwordTextEncoder 사용하기"
   ]
  },
  {
   "cell_type": "markdown",
   "id": "26b59368",
   "metadata": {},
   "source": [
    "단어보다 더 작은 단위인 subword를 기준으로 토크나이징하고 각 토큰을 고유한 정수로 인코딩   \n",
    "각 문장을 토큰화하고 START_TOKEN 및 END_TOKEN 추가   \n",
    "MAX_LENGTH를 넘는 문장은 필터링   \n",
    "MAX_LENGTH보다 짧은 문장은 MAX_LENGTH 길이에 맞게 패딩"
   ]
  },
  {
   "cell_type": "markdown",
   "id": "76421ccd",
   "metadata": {},
   "source": [
    "### 단어장 만들기"
   ]
  },
  {
   "cell_type": "code",
   "execution_count": 11,
   "id": "7d1b80ab",
   "metadata": {},
   "outputs": [
    {
     "name": "stdout",
     "output_type": "stream",
     "text": [
      "processing...\n",
      "complete\n"
     ]
    }
   ],
   "source": [
    "import tensorflow_datasets as tfds\n",
    "print('processing...')\n",
    "\n",
    "# 질문과 답변 데이터셋에 대해서 Vocabulary 생성. (Tensorflow 2.3.0 이상) (클라우드는 2.4 입니다)\n",
    "tokenizer = tfds.deprecated.text.SubwordTextEncoder.build_from_corpus(questions + answers, target_vocab_size=2**13)\n",
    "print('complete')"
   ]
  },
  {
   "cell_type": "code",
   "execution_count": 12,
   "id": "93e6552f",
   "metadata": {},
   "outputs": [
    {
     "name": "stdout",
     "output_type": "stream",
     "text": [
      "complete\n"
     ]
    }
   ],
   "source": [
    "# 시작 토큰과 종료 토큰에 고유한 정수를 부여합니다.\n",
    "START_TOKEN, END_TOKEN = [tokenizer.vocab_size], [tokenizer.vocab_size + 1]\n",
    "print('complete')"
   ]
  },
  {
   "cell_type": "code",
   "execution_count": 13,
   "id": "aea0dbe0",
   "metadata": {},
   "outputs": [
    {
     "name": "stdout",
     "output_type": "stream",
     "text": [
      "START_TOKEN의 번호 : [8329]\n",
      "END_TOKEN의 번호 : [8330]\n"
     ]
    }
   ],
   "source": [
    "print('START_TOKEN의 번호 :' ,[tokenizer.vocab_size])\n",
    "print('END_TOKEN의 번호 :' ,[tokenizer.vocab_size + 1])"
   ]
  },
  {
   "cell_type": "code",
   "execution_count": 14,
   "id": "44cfebe9",
   "metadata": {},
   "outputs": [
    {
     "name": "stdout",
     "output_type": "stream",
     "text": [
      "8331\n"
     ]
    }
   ],
   "source": [
    "# 시작 토큰과 종료 토큰을 고려하여 +2를 하여 단어장의 크기를 산정합니다.\n",
    "VOCAB_SIZE = tokenizer.vocab_size + 2\n",
    "print(VOCAB_SIZE)"
   ]
  },
  {
   "cell_type": "markdown",
   "id": "22ff0383",
   "metadata": {},
   "source": [
    "### 각 단어를 고유한 정수로 인코딩 & 패딩"
   ]
  },
  {
   "cell_type": "code",
   "execution_count": 15,
   "id": "a52e182a",
   "metadata": {},
   "outputs": [
    {
     "name": "stdout",
     "output_type": "stream",
     "text": [
      "정수 인코딩 후의 21번째 질문 샘플: [5819, 609, 2499, 4169]\n",
      "정수 인코딩 후의 21번째 답변 샘플: [2686, 7646, 8, 6357, 96, 1]\n"
     ]
    }
   ],
   "source": [
    "# 임의의 22번째 샘플에 대해서 정수 인코딩 작업을 수행.\n",
    "# 각 토큰을 고유한 정수로 변환\n",
    "print('정수 인코딩 후의 21번째 질문 샘플: {}'.format(tokenizer.encode(questions[21])))\n",
    "print('정수 인코딩 후의 21번째 답변 샘플: {}'.format(tokenizer.encode(answers[21])))"
   ]
  },
  {
   "cell_type": "code",
   "execution_count": 16,
   "id": "7c9f60da",
   "metadata": {},
   "outputs": [
    {
     "name": "stdout",
     "output_type": "stream",
     "text": [
      "20\n"
     ]
    }
   ],
   "source": [
    "# 샘플의 최대 허용 길이 또는 패딩 후의 최종 길이\n",
    "MAX_LENGTH = 20\n",
    "print(MAX_LENGTH)"
   ]
  },
  {
   "cell_type": "code",
   "execution_count": 17,
   "id": "cc0de52e",
   "metadata": {},
   "outputs": [
    {
     "name": "stdout",
     "output_type": "stream",
     "text": [
      "complete\n"
     ]
    }
   ],
   "source": [
    "# 정수 인코딩, 최대 길이를 초과하는 샘플 제거, 패딩\n",
    "def tokenize_and_filter(inputs, outputs):\n",
    "    tokenized_inputs, tokenized_outputs = [], []\n",
    "\n",
    "    for (sentence1, sentence2) in zip(inputs, outputs):\n",
    "        # 정수 인코딩 과정에서 시작 토큰과 종료 토큰을 추가\n",
    "        sentence1 = START_TOKEN + tokenizer.encode(sentence1) + END_TOKEN\n",
    "        sentence2 = START_TOKEN + tokenizer.encode(sentence2) + END_TOKEN\n",
    "\n",
    "        # 최대 길이 40 이하인 경우에만 데이터셋으로 허용\n",
    "        if len(sentence1) <= MAX_LENGTH and len(sentence2) <= MAX_LENGTH:\n",
    "            tokenized_inputs.append(sentence1)\n",
    "            tokenized_outputs.append(sentence2)\n",
    "  \n",
    "    # 최대 길이 40으로 모든 데이터셋을 패딩\n",
    "    tokenized_inputs = tf.keras.preprocessing.sequence.pad_sequences(\n",
    "        tokenized_inputs, maxlen=MAX_LENGTH, padding='post')\n",
    "    tokenized_outputs = tf.keras.preprocessing.sequence.pad_sequences(\n",
    "        tokenized_outputs, maxlen=MAX_LENGTH, padding='post')\n",
    "  \n",
    "    return tokenized_inputs, tokenized_outputs\n",
    "print('complete')"
   ]
  },
  {
   "cell_type": "markdown",
   "id": "df79c4d4",
   "metadata": {},
   "source": [
    "길이가 20을 넘는 경우를 필터링 했으므로, 단어장 크기와 샘플의 개수를 다시 확인한다."
   ]
  },
  {
   "cell_type": "code",
   "execution_count": 18,
   "id": "85e0d344",
   "metadata": {},
   "outputs": [
    {
     "name": "stdout",
     "output_type": "stream",
     "text": [
      "단어장의 크기 : 8331\n",
      "필터링 후의 질문 샘플 개수: 11791\n",
      "필터링 후의 답변 샘플 개수: 11791\n"
     ]
    }
   ],
   "source": [
    "questions, answers = tokenize_and_filter(questions, answers)\n",
    "print('단어장의 크기 :',(VOCAB_SIZE))\n",
    "print('필터링 후의 질문 샘플 개수: {}'.format(len(questions)))\n",
    "print('필터링 후의 답변 샘플 개수: {}'.format(len(answers)))"
   ]
  },
  {
   "cell_type": "markdown",
   "id": "d6a4deeb",
   "metadata": {},
   "source": [
    "### 교사 강요 사용하기"
   ]
  },
  {
   "cell_type": "markdown",
   "id": "43f376da",
   "metadata": {},
   "source": [
    "자기회귀 모델에서 교사 강요를 하지 않은 경우, 잘못된 예측이 다음 시점의 입력으로 들어가면서 연쇄적으로 예측 정확도에 영향을 미친다. 이는 훈련 과정에서 훈련 속도가 지나치게 느려지는 결과를 초래하므로 (자기회귀 모델인)트랜스포머 디코더에 쿄사 강요를 적용한다."
   ]
  },
  {
   "cell_type": "code",
   "execution_count": 19,
   "id": "b069413f",
   "metadata": {},
   "outputs": [
    {
     "name": "stdout",
     "output_type": "stream",
     "text": [
      "complete\n"
     ]
    }
   ],
   "source": [
    "BATCH_SIZE = 64\n",
    "BUFFER_SIZE = 20000\n",
    "\n",
    "# 디코더는 이전의 target을 다음의 input으로 사용합니다.\n",
    "# 이에 따라 outputs에서는 START_TOKEN을 제거하겠습니다.\n",
    "dataset = tf.data.Dataset.from_tensor_slices((\n",
    "    {\n",
    "        'inputs': questions,\n",
    "        'dec_inputs': answers[:, :-1]\n",
    "    },\n",
    "    {\n",
    "        'outputs': answers[:, 1:]\n",
    "    },\n",
    "))\n",
    "\n",
    "dataset = dataset.cache()\n",
    "dataset = dataset.shuffle(BUFFER_SIZE)\n",
    "dataset = dataset.batch(BATCH_SIZE)\n",
    "dataset = dataset.prefetch(tf.data.experimental.AUTOTUNE)\n",
    "print('complete')"
   ]
  },
  {
   "cell_type": "markdown",
   "id": "8a5207a8",
   "metadata": {},
   "source": [
    "# 모델 구성하기"
   ]
  },
  {
   "cell_type": "markdown",
   "id": "3ec10425",
   "metadata": {},
   "source": [
    "### 포지셔널 인코딩 레이어"
   ]
  },
  {
   "cell_type": "code",
   "execution_count": 20,
   "id": "d9481bac",
   "metadata": {},
   "outputs": [
    {
     "name": "stdout",
     "output_type": "stream",
     "text": [
      "complete\n"
     ]
    }
   ],
   "source": [
    "# 포지셔널 인코딩 레이어\n",
    "class PositionalEncoding(tf.keras.layers.Layer):\n",
    "\n",
    "    def __init__(self, position, d_model):\n",
    "        super(PositionalEncoding, self).__init__()\n",
    "        self.pos_encoding = self.positional_encoding(position, d_model)\n",
    "\n",
    "    def get_angles(self, position, i, d_model):\n",
    "        angles = 1 / tf.pow(10000, (2 * (i // 2)) / tf.cast(d_model, tf.float32))\n",
    "        return position * angles\n",
    "\n",
    "    def positional_encoding(self, position, d_model):\n",
    "        angle_rads = self.get_angles(\n",
    "            position=tf.range(position, dtype=tf.float32)[:, tf.newaxis],\n",
    "            i=tf.range(d_model, dtype=tf.float32)[tf.newaxis, :],\n",
    "            d_model=d_model)\n",
    "        # 배열의 짝수 인덱스에는 sin 함수 적용\n",
    "        sines = tf.math.sin(angle_rads[:, 0::2])\n",
    "        # 배열의 홀수 인덱스에는 cosine 함수 적용\n",
    "        cosines = tf.math.cos(angle_rads[:, 1::2])\n",
    "\n",
    "        pos_encoding = tf.concat([sines, cosines], axis=-1)\n",
    "        pos_encoding = pos_encoding[tf.newaxis, ...]\n",
    "        return tf.cast(pos_encoding, tf.float32)\n",
    "\n",
    "    def call(self, inputs):\n",
    "        return inputs + self.pos_encoding[:, :tf.shape(inputs)[1], :]\n",
    "print('complete')"
   ]
  },
  {
   "cell_type": "code",
   "execution_count": 21,
   "id": "20c41494",
   "metadata": {},
   "outputs": [
    {
     "data": {
      "image/png": "[encoded data removed]",
      "text/plain": [
       "<Figure size 432x288 with 2 Axes>"
      ]
     },
     "metadata": {
      "needs_background": "light"
     },
     "output_type": "display_data"
    }
   ],
   "source": [
    "sample_pos_encoding = PositionalEncoding(50, 512)\n",
    "\n",
    "plt.pcolormesh(sample_pos_encoding.pos_encoding.numpy()[0], cmap='RdBu')\n",
    "plt.xlabel('Depth')\n",
    "plt.xlim((0, 512))\n",
    "plt.ylabel('Position')\n",
    "plt.colorbar()\n",
    "plt.show()"
   ]
  },
  {
   "cell_type": "markdown",
   "id": "94940843",
   "metadata": {},
   "source": [
    "### 스케일드 닷 프로덕트 어텐션 함수 구현"
   ]
  },
  {
   "cell_type": "markdown",
   "id": "991f6595",
   "metadata": {},
   "source": [
    "어텐션은 안어들 간의 유사도를 구하는 메커니즘   \n",
    "1.어텐션 함수는 주어진 쿼리(auery)에 대해서 모든 키(key)와의 유사도를 각각 구한다.   \n",
    "2.구해낸 유사도를 키와 맵핑된 값(value)에 반영한다.   \n",
    "3.유사도가 반영된 값을 모두 더해서 뭉치면 이를 최정 결과인 어텐션 값(Attention Value)라고 한다.   \n",
    "   \n",
    "1.Q, K, V는 단어벡터를 행으로 하는 문장 행렬   \n",
    "2.벡터의 내적(dot product)은 벡터의 유사도를 의미   \n",
    "3.특정 값을 분모로 사용하는 것은 값의 크기를 조절하는 스케일링을 위함   \n",
    "   \n",
    "내적을 통해 벡터 간 유사도를 구한 후에 특정 값을 분모로 나눠주는 방식으로, Q와 K의 유사도를 구하였다고 하여 스케일드 닷 프로덕트 어텐션이라고 한다."
   ]
  },
  {
   "cell_type": "code",
   "execution_count": 22,
   "id": "ddebedf9",
   "metadata": {},
   "outputs": [
    {
     "name": "stdout",
     "output_type": "stream",
     "text": [
      "complete\n"
     ]
    }
   ],
   "source": [
    "def scaled_dot_product_attention(query, key, value, mask):\n",
    "    # 어텐션 가중치는 Q와 K의 닷 프로덕트\n",
    "    matmul_qk = tf.matmul(query, key, transpose_b=True)\n",
    "\n",
    "    # 가중치를 정규화\n",
    "    depth = tf.cast(tf.shape(key)[-1], tf.float32)\n",
    "    logits = matmul_qk / tf.math.sqrt(depth)\n",
    "\n",
    "    # 패딩에 마스크 추가\n",
    "    if mask is not None:\n",
    "        logits += (mask * -1e9)\n",
    "\n",
    "    # softmax적용\n",
    "    attention_weights = tf.nn.softmax(logits, axis=-1)\n",
    "\n",
    "    # 최종 어텐션은 가중치와 V의 닷 프로덕트\n",
    "    output = tf.matmul(attention_weights, value)\n",
    "    return output\n",
    "\n",
    "print('complete')"
   ]
  },
  {
   "cell_type": "markdown",
   "id": "14cdf7f4",
   "metadata": {},
   "source": [
    "### 멀티 헤드 어텐션 함수 구현"
   ]
  },
  {
   "cell_type": "code",
   "execution_count": 23,
   "id": "537796cc",
   "metadata": {},
   "outputs": [
    {
     "name": "stdout",
     "output_type": "stream",
     "text": [
      "complete\n"
     ]
    }
   ],
   "source": [
    "class MultiHeadAttention(tf.keras.layers.Layer):\n",
    "\n",
    "    def __init__(self, d_model, num_heads, name=\"multi_head_attention\"):\n",
    "        super(MultiHeadAttention, self).__init__(name=name)\n",
    "        self.num_heads = num_heads\n",
    "        self.d_model = d_model\n",
    "\n",
    "        assert d_model % self.num_heads == 0\n",
    "\n",
    "        self.depth = d_model // self.num_heads\n",
    "\n",
    "        self.query_dense = tf.keras.layers.Dense(units=d_model)\n",
    "        self.key_dense = tf.keras.layers.Dense(units=d_model)\n",
    "        self.value_dense = tf.keras.layers.Dense(units=d_model)\n",
    "\n",
    "        self.dense = tf.keras.layers.Dense(units=d_model)\n",
    "\n",
    "    def split_heads(self, inputs, batch_size):\n",
    "        inputs = tf.reshape(\n",
    "            inputs, shape=(batch_size, -1, self.num_heads, self.depth))\n",
    "        return tf.transpose(inputs, perm=[0, 2, 1, 3])\n",
    "\n",
    "    def call(self, inputs):\n",
    "            query, key, value, mask = inputs['query'], inputs['key'], inputs[\n",
    "            'value'], inputs['mask']\n",
    "            batch_size = tf.shape(query)[0]\n",
    "\n",
    "            # Q, K, V에 각각 Dense를 적용합니다\n",
    "            query = self.query_dense(query)\n",
    "            key = self.key_dense(key)\n",
    "            value = self.value_dense(value)\n",
    "\n",
    "            # 병렬 연산을 위한 머리를 여러 개 만듭니다\n",
    "            query = self.split_heads(query, batch_size)\n",
    "            key = self.split_heads(key, batch_size)\n",
    "            value = self.split_heads(value, batch_size)\n",
    "\n",
    "            # 스케일드 닷 프로덕트 어텐션 함수\n",
    "            scaled_attention = scaled_dot_product_attention(query, key, value, mask)\n",
    "\n",
    "            scaled_attention = tf.transpose(scaled_attention, perm=[0, 2, 1, 3])\n",
    "           \n",
    "            # 어텐션 연산 후에 각 결과를 다시 연결(concatenate)합니다\n",
    "            concat_attention = tf.reshape(scaled_attention,\n",
    "                                      (batch_size, -1, self.d_model))\n",
    "\n",
    "            # 최종 결과에도 Dense를 한 번 더 적용합니다\n",
    "            outputs = self.dense(concat_attention)\n",
    "\n",
    "            return outputs\n",
    "print('complete')"
   ]
  },
  {
   "cell_type": "markdown",
   "id": "1477b4b8",
   "metadata": {},
   "source": [
    "### 패딩 마스킹(Padding Masking) 함수 구현"
   ]
  },
  {
   "cell_type": "code",
   "execution_count": 24,
   "id": "7929edc3",
   "metadata": {},
   "outputs": [
    {
     "name": "stdout",
     "output_type": "stream",
     "text": [
      "complete\n"
     ]
    }
   ],
   "source": [
    "def create_padding_mask(x):\n",
    "    mask = tf.cast(tf.math.equal(x, 0), tf.float32)\n",
    "    # (batch_size, 1, 1, sequence length)\n",
    "    return mask[:, tf.newaxis, tf.newaxis, :]\n",
    "print('complete')"
   ]
  },
  {
   "cell_type": "markdown",
   "id": "55f68439",
   "metadata": {},
   "source": [
    "### 룩 어헤드 마스킹(Look-ahead Masking) 함수 구현"
   ]
  },
  {
   "cell_type": "code",
   "execution_count": 25,
   "id": "457f4792",
   "metadata": {},
   "outputs": [
    {
     "name": "stdout",
     "output_type": "stream",
     "text": [
      "complete\n"
     ]
    }
   ],
   "source": [
    "def create_look_ahead_mask(x):\n",
    "    seq_len = tf.shape(x)[1]\n",
    "    look_ahead_mask = 1 - tf.linalg.band_part(tf.ones((seq_len, seq_len)), -1, 0)\n",
    "    padding_mask = create_padding_mask(x)\n",
    "    return tf.maximum(look_ahead_mask, padding_mask)\n",
    "print('complete')"
   ]
  },
  {
   "cell_type": "markdown",
   "id": "acda2102",
   "metadata": {},
   "source": [
    "### 트랜스포머의 인코더 설계"
   ]
  },
  {
   "cell_type": "markdown",
   "id": "8f3dd4c3",
   "metadata": {},
   "source": [
    "하나의 인코더 층은 크게 총 2개의 sublayer로 나누어진다.   \n",
    "셀프 어텐션(멀티 헤드 어텐션으로, 병렬적)   \n",
    "피드 포워드 신경망   "
   ]
  },
  {
   "cell_type": "code",
   "execution_count": 26,
   "id": "b0d907f8",
   "metadata": {},
   "outputs": [
    {
     "name": "stdout",
     "output_type": "stream",
     "text": [
      "complete\n"
     ]
    }
   ],
   "source": [
    "# 인코더 하나의 레이어를 함수로 구현\n",
    "# 이 하나의 레이어 안에는 두 개의 서브 레이어가 존재합니다.\n",
    "def encoder_layer(units, d_model, num_heads, dropout, name=\"encoder_layer\"):\n",
    "    inputs = tf.keras.Input(shape=(None, d_model), name=\"inputs\")\n",
    "\n",
    "    # 패딩 마스크 사용\n",
    "    padding_mask = tf.keras.Input(shape=(1, 1, None), name=\"padding_mask\")\n",
    "\n",
    "    # 첫 번째 서브 레이어 : 멀티 헤드 어텐션 수행 (셀프 어텐션)\n",
    "    attention = MultiHeadAttention(\n",
    "        d_model, num_heads, name=\"attention\")({\n",
    "            'query': inputs,\n",
    "            'key': inputs,\n",
    "            'value': inputs,\n",
    "            'mask': padding_mask\n",
    "        })\n",
    "\n",
    "    # 어텐션의 결과는 Dropout과 Layer Normalization이라는 훈련을 돕는 테크닉을 수행\n",
    "    attention = tf.keras.layers.Dropout(rate=dropout)(attention)\n",
    "    attention = tf.keras.layers.LayerNormalization(\n",
    "        epsilon=1e-6)(inputs + attention)\n",
    "\n",
    "    # 두 번째 서브 레이어 : 2개의 완전연결층\n",
    "    outputs = tf.keras.layers.Dense(units=units, activation='relu')(attention)\n",
    "    outputs = tf.keras.layers.Dense(units=d_model)(outputs)\n",
    "\n",
    "    # 완전연결층의 결과는 Dropout과 LayerNormalization이라는 훈련을 돕는 테크닉을 수행\n",
    "    outputs = tf.keras.layers.Dropout(rate=dropout)(outputs)\n",
    "    outputs = tf.keras.layers.LayerNormalization(\n",
    "        epsilon=1e-6)(attention + outputs)\n",
    "\n",
    "    return tf.keras.Model(\n",
    "        inputs=[inputs, padding_mask], outputs=outputs, name=name)\n",
    "print('complete')"
   ]
  },
  {
   "cell_type": "markdown",
   "id": "3e5d3e32",
   "metadata": {},
   "source": [
    "### 인코더 층을 쌓아 인코더 만들기"
   ]
  },
  {
   "cell_type": "markdown",
   "id": "b481eb32",
   "metadata": {},
   "source": [
    "구현한 인코더 층에 Embedding layer와 Positional Encoding을 연결하고, 사용자가 원하는 만큼 인코더 층을 쌓음으로써 트랜스포머의 인코더가 완성된다."
   ]
  },
  {
   "cell_type": "code",
   "execution_count": 27,
   "id": "15b70afa",
   "metadata": {},
   "outputs": [
    {
     "name": "stdout",
     "output_type": "stream",
     "text": [
      "complete\n"
     ]
    }
   ],
   "source": [
    "def encoder(vocab_size,\n",
    "            num_layers,\n",
    "            units,\n",
    "            d_model,\n",
    "            num_heads,\n",
    "            dropout,\n",
    "            name=\"encoder\"):\n",
    "    inputs = tf.keras.Input(shape=(None,), name=\"inputs\")\n",
    "\n",
    "    # 패딩 마스크 사용\n",
    "    padding_mask = tf.keras.Input(shape=(1, 1, None), name=\"padding_mask\")\n",
    "\n",
    "    # 임베딩 레이어\n",
    "    embeddings = tf.keras.layers.Embedding(vocab_size, d_model)(inputs)\n",
    "    embeddings *= tf.math.sqrt(tf.cast(d_model, tf.float32))\n",
    "\n",
    "    # 포지셔널 인코딩\n",
    "    embeddings = PositionalEncoding(vocab_size, d_model)(embeddings)\n",
    "\n",
    "    outputs = tf.keras.layers.Dropout(rate=dropout)(embeddings)\n",
    "\n",
    "    # num_layers만큼 쌓아올린 인코더의 층.\n",
    "    for i in range(num_layers):\n",
    "        outputs = encoder_layer(\n",
    "            units=units,\n",
    "            d_model=d_model,\n",
    "            num_heads=num_heads,\n",
    "            dropout=dropout,\n",
    "            name=\"encoder_layer_{}\".format(i),\n",
    "      )([outputs, padding_mask])\n",
    "\n",
    "    return tf.keras.Model(\n",
    "        inputs=[inputs, padding_mask], outputs=outputs, name=name)\n",
    "print('complete')"
   ]
  },
  {
   "cell_type": "markdown",
   "id": "b7c17c5e",
   "metadata": {},
   "source": [
    "### 트랜스포머의 디코더 설계"
   ]
  },
  {
   "cell_type": "markdown",
   "id": "6b85f6a0",
   "metadata": {},
   "source": [
    "디코더는 세 개의 sublayer로 구성된다.   \n",
    "셀프 어텐션   \n",
    "인코더-디코더 어텐션(셀프 어텐션과 달리 Query가 디코더의 벡터인 반면 Key와 Value가 인코더의 벡터다)   \n",
    "피드 포워드 신경망   \n",
    "디코더의 셀프 어텐션, 인코더-디코더 어텐션 두 개의 어텐션 모두 스케일드 닷 프로덕트 어텐션을 멀티헤드 어텐션으로 병렬 수행한다."
   ]
  },
  {
   "cell_type": "code",
   "execution_count": 28,
   "id": "cae898d8",
   "metadata": {},
   "outputs": [
    {
     "name": "stdout",
     "output_type": "stream",
     "text": [
      "complete\n"
     ]
    }
   ],
   "source": [
    "# 디코더 하나의 레이어를 함수로 구현\n",
    "# 이 하나의 레이어 안에는 세 개의 서브 레이어가 존재합니다.\n",
    "def decoder_layer(units, d_model, num_heads, dropout, name=\"decoder_layer\"):\n",
    "    inputs = tf.keras.Input(shape=(None, d_model), name=\"inputs\")\n",
    "    enc_outputs = tf.keras.Input(shape=(None, d_model), name=\"encoder_outputs\")\n",
    "    look_ahead_mask = tf.keras.Input(\n",
    "        shape=(1, None, None), name=\"look_ahead_mask\")\n",
    "    padding_mask = tf.keras.Input(shape=(1, 1, None), name='padding_mask')\n",
    "\n",
    "    # 첫 번째 서브 레이어 : 멀티 헤드 어텐션 수행 (셀프 어텐션)\n",
    "    attention1 = MultiHeadAttention(\n",
    "        d_model, num_heads, name=\"attention_1\")(inputs={\n",
    "            'query': inputs,\n",
    "            'key': inputs,\n",
    "            'value': inputs,\n",
    "            'mask': look_ahead_mask\n",
    "        })\n",
    "\n",
    "    # 멀티 헤드 어텐션의 결과는 LayerNormalization이라는 훈련을 돕는 테크닉을 수행\n",
    "    attention1 = tf.keras.layers.LayerNormalization(\n",
    "        epsilon=1e-6)(attention1 + inputs)\n",
    "\n",
    "    # 두 번째 서브 레이어 : 마스크드 멀티 헤드 어텐션 수행 (인코더-디코더 어텐션)\n",
    "    attention2 = MultiHeadAttention(\n",
    "        d_model, num_heads, name=\"attention_2\")(inputs={\n",
    "            'query': attention1,\n",
    "            'key': enc_outputs,\n",
    "            'value': enc_outputs,\n",
    "            'mask': padding_mask\n",
    "        })\n",
    "\n",
    "    # 마스크드 멀티 헤드 어텐션의 결과는\n",
    "    # Dropout과 LayerNormalization이라는 훈련을 돕는 테크닉을 수행\n",
    "    attention2 = tf.keras.layers.Dropout(rate=dropout)(attention2)\n",
    "    attention2 = tf.keras.layers.LayerNormalization(\n",
    "        epsilon=1e-6)(attention2 + attention1)\n",
    "\n",
    "    # 세 번째 서브 레이어 : 2개의 완전연결층\n",
    "    outputs = tf.keras.layers.Dense(units=units, activation='relu')(attention2)\n",
    "    outputs = tf.keras.layers.Dense(units=d_model)(outputs)\n",
    "\n",
    "    # 완전연결층의 결과는 Dropout과 LayerNormalization 수행\n",
    "    outputs = tf.keras.layers.Dropout(rate=dropout)(outputs)\n",
    "    outputs = tf.keras.layers.LayerNormalization(\n",
    "        epsilon=1e-6)(outputs + attention2)\n",
    "\n",
    "    return tf.keras.Model(\n",
    "        inputs=[inputs, enc_outputs, look_ahead_mask, padding_mask],\n",
    "        outputs=outputs,\n",
    "        name=name)\n",
    "print('complete')"
   ]
  },
  {
   "cell_type": "markdown",
   "id": "245bd7c3",
   "metadata": {},
   "source": [
    "### 디코더 층을 쌓아 디코더 만들기"
   ]
  },
  {
   "cell_type": "markdown",
   "id": "8a6270a1",
   "metadata": {},
   "source": [
    "구현한 디코더 층에 Embedding layer와 Positional Encoding을 연결하고, 사용자가 원하는 만큼 디코더 층을 쌓아 트랜스포머의 디코더가 완성된다."
   ]
  },
  {
   "cell_type": "code",
   "execution_count": 29,
   "id": "0df0cded",
   "metadata": {},
   "outputs": [
    {
     "name": "stdout",
     "output_type": "stream",
     "text": [
      "complete\n"
     ]
    }
   ],
   "source": [
    "def decoder(vocab_size,\n",
    "            num_layers,\n",
    "            units,\n",
    "            d_model,\n",
    "            num_heads,\n",
    "            dropout,\n",
    "            name='decoder'):\n",
    "    inputs = tf.keras.Input(shape=(None,), name='inputs')\n",
    "    enc_outputs = tf.keras.Input(shape=(None, d_model), name='encoder_outputs')\n",
    "    look_ahead_mask = tf.keras.Input(\n",
    "        shape=(1, None, None), name='look_ahead_mask')\n",
    "\n",
    "    # 패딩 마스크\n",
    "    padding_mask = tf.keras.Input(shape=(1, 1, None), name='padding_mask')\n",
    "  \n",
    "    # 임베딩 레이어\n",
    "    embeddings = tf.keras.layers.Embedding(vocab_size, d_model)(inputs)\n",
    "    embeddings *= tf.math.sqrt(tf.cast(d_model, tf.float32))\n",
    "\n",
    "    # 포지셔널 인코딩\n",
    "    embeddings = PositionalEncoding(vocab_size, d_model)(embeddings)\n",
    "\n",
    "    # Dropout이라는 훈련을 돕는 테크닉을 수행\n",
    "    outputs = tf.keras.layers.Dropout(rate=dropout)(embeddings)\n",
    "\n",
    "    for i in range(num_layers):\n",
    "        outputs = decoder_layer(\n",
    "            units=units,\n",
    "            d_model=d_model,\n",
    "            num_heads=num_heads,\n",
    "            dropout=dropout,\n",
    "            name='decoder_layer_{}'.format(i),\n",
    "      )(inputs=[outputs, enc_outputs, look_ahead_mask, padding_mask])\n",
    "\n",
    "    return tf.keras.Model(\n",
    "        inputs=[inputs, enc_outputs, look_ahead_mask, padding_mask],\n",
    "        outputs=outputs,\n",
    "        name=name)\n",
    "print('complete')"
   ]
  },
  {
   "cell_type": "markdown",
   "id": "33970136",
   "metadata": {},
   "source": [
    "함수로 구현한 인코더 층과 디코더 층을 하나로 조합하여 트랜스포머 모델을 만들 수 있다."
   ]
  },
  {
   "cell_type": "markdown",
   "id": "80a19141",
   "metadata": {},
   "source": [
    "### 모델 정의 및 학습하기"
   ]
  },
  {
   "cell_type": "markdown",
   "id": "a8926e58",
   "metadata": {},
   "source": [
    "인코더 층 함수와 디코더 층 함수를 사용해 트랜스포머 함수를 정의한다."
   ]
  },
  {
   "cell_type": "code",
   "execution_count": 30,
   "id": "6cbebce6",
   "metadata": {},
   "outputs": [
    {
     "name": "stdout",
     "output_type": "stream",
     "text": [
      "complete\n"
     ]
    }
   ],
   "source": [
    "def transformer(vocab_size,\n",
    "                num_layers,\n",
    "                units,\n",
    "                d_model,\n",
    "                num_heads,\n",
    "                dropout,\n",
    "                name=\"transformer\"):\n",
    "    inputs = tf.keras.Input(shape=(None,), name=\"inputs\")\n",
    "    dec_inputs = tf.keras.Input(shape=(None,), name=\"dec_inputs\")\n",
    "\n",
    "    # 인코더에서 패딩을 위한 마스크\n",
    "    enc_padding_mask = tf.keras.layers.Lambda(\n",
    "        create_padding_mask, output_shape=(1, 1, None),\n",
    "        name='enc_padding_mask')(inputs)\n",
    "\n",
    "    # 디코더에서 미래의 토큰을 마스크 하기 위해서 사용합니다.\n",
    "    # 내부적으로 패딩 마스크도 포함되어져 있습니다.\n",
    "    look_ahead_mask = tf.keras.layers.Lambda(\n",
    "        create_look_ahead_mask,\n",
    "        output_shape=(1, None, None),\n",
    "        name='look_ahead_mask')(dec_inputs)\n",
    "\n",
    "    # 두 번째 어텐션 블록에서 인코더의 벡터들을 마스킹\n",
    "    # 디코더에서 패딩을 위한 마스크\n",
    "    dec_padding_mask = tf.keras.layers.Lambda(\n",
    "        create_padding_mask, output_shape=(1, 1, None),\n",
    "        name='dec_padding_mask')(inputs)\n",
    "\n",
    "    # 인코더\n",
    "    enc_outputs = encoder(\n",
    "        vocab_size=vocab_size,\n",
    "        num_layers=num_layers,\n",
    "        units=units,\n",
    "        d_model=d_model,\n",
    "        num_heads=num_heads,\n",
    "        dropout=dropout,\n",
    "    )(inputs=[inputs, enc_padding_mask])\n",
    "\n",
    "    # 디코더\n",
    "    dec_outputs = decoder(\n",
    "        vocab_size=vocab_size,\n",
    "        num_layers=num_layers,\n",
    "        units=units,\n",
    "        d_model=d_model,\n",
    "        num_heads=num_heads,\n",
    "        dropout=dropout,\n",
    "    )(inputs=[dec_inputs, enc_outputs, look_ahead_mask, dec_padding_mask])\n",
    "\n",
    "    # 완전연결층\n",
    "    outputs = tf.keras.layers.Dense(units=vocab_size, name=\"outputs\")(dec_outputs)\n",
    "\n",
    "    return tf.keras.Model(inputs=[inputs, dec_inputs], outputs=outputs, name=name)\n",
    "print('complete')"
   ]
  },
  {
   "cell_type": "markdown",
   "id": "c6e9b96d",
   "metadata": {},
   "source": [
    "### 모델 생성"
   ]
  },
  {
   "cell_type": "code",
   "execution_count": 31,
   "id": "a07e311c",
   "metadata": {},
   "outputs": [
    {
     "name": "stdout",
     "output_type": "stream",
     "text": [
      "Model: \"transformer\"\n",
      "__________________________________________________________________________________________________\n",
      "Layer (type)                    Output Shape         Param #     Connected to                     \n",
      "==================================================================================================\n",
      "inputs (InputLayer)             [(None, None)]       0                                            \n",
      "__________________________________________________________________________________________________\n",
      "dec_inputs (InputLayer)         [(None, None)]       0                                            \n",
      "__________________________________________________________________________________________________\n",
      "enc_padding_mask (Lambda)       (None, 1, 1, None)   0           inputs[0][0]                     \n",
      "__________________________________________________________________________________________________\n",
      "encoder (Functional)            (None, None, 256)    3186944     inputs[0][0]                     \n",
      "                                                                 enc_padding_mask[0][0]           \n",
      "__________________________________________________________________________________________________\n",
      "look_ahead_mask (Lambda)        (None, 1, None, None 0           dec_inputs[0][0]                 \n",
      "__________________________________________________________________________________________________\n",
      "dec_padding_mask (Lambda)       (None, 1, 1, None)   0           inputs[0][0]                     \n",
      "__________________________________________________________________________________________________\n",
      "decoder (Functional)            (None, None, 256)    3714304     dec_inputs[0][0]                 \n",
      "                                                                 encoder[0][0]                    \n",
      "                                                                 look_ahead_mask[0][0]            \n",
      "                                                                 dec_padding_mask[0][0]           \n",
      "__________________________________________________________________________________________________\n",
      "outputs (Dense)                 (None, None, 8331)   2141067     decoder[0][0]                    \n",
      "==================================================================================================\n",
      "Total params: 9,042,315\n",
      "Trainable params: 9,042,315\n",
      "Non-trainable params: 0\n",
      "__________________________________________________________________________________________________\n"
     ]
    }
   ],
   "source": [
    "tf.keras.backend.clear_session()\n",
    "\n",
    "# 하이퍼파라미터\n",
    "NUM_LAYERS = 2 # 인코더와 디코더의 층의 개수\n",
    "D_MODEL = 256 # 인코더와 디코더 내부의 입, 출력의 고정 차원\n",
    "NUM_HEADS = 8 # 멀티 헤드 어텐션에서의 헤드 수 \n",
    "UNITS = 512 # 피드 포워드 신경망의 은닉층의 크기\n",
    "DROPOUT = 0.1 # 드롭아웃의 비율\n",
    "\n",
    "model = transformer(\n",
    "    vocab_size=VOCAB_SIZE,\n",
    "    num_layers=NUM_LAYERS,\n",
    "    units=UNITS,\n",
    "    d_model=D_MODEL,\n",
    "    num_heads=NUM_HEADS,\n",
    "    dropout=DROPOUT)\n",
    "\n",
    "model.summary()"
   ]
  },
  {
   "cell_type": "markdown",
   "id": "c5cae566",
   "metadata": {},
   "source": [
    "### 손실 함수"
   ]
  },
  {
   "cell_type": "markdown",
   "id": "726f73de",
   "metadata": {},
   "source": [
    "레이블인 시퀀스에 패딩이 되어 있으므로, loss 계산 시 패딩 마스크를 적용해야 한다."
   ]
  },
  {
   "cell_type": "code",
   "execution_count": 32,
   "id": "1dddf7e0",
   "metadata": {},
   "outputs": [
    {
     "name": "stdout",
     "output_type": "stream",
     "text": [
      "complete\n"
     ]
    }
   ],
   "source": [
    "def loss_function(y_true, y_pred):\n",
    "    y_true = tf.reshape(y_true, shape=(-1, MAX_LENGTH - 1))\n",
    "  \n",
    "    loss = tf.keras.losses.SparseCategoricalCrossentropy(\n",
    "        from_logits=True, reduction='none')(y_true, y_pred)\n",
    "\n",
    "    mask = tf.cast(tf.not_equal(y_true, 0), tf.float32)\n",
    "    loss = tf.multiply(loss, mask)\n",
    "\n",
    "    return tf.reduce_mean(loss)\n",
    "print('complete')"
   ]
  },
  {
   "cell_type": "markdown",
   "id": "cfd56aea",
   "metadata": {},
   "source": [
    "### 커스텀된 학습률"
   ]
  },
  {
   "cell_type": "markdown",
   "id": "8642a1ca",
   "metadata": {},
   "source": [
    "모델학습 초기에 learning rate를 급격히 높였다가, train step이 진행됨에 따라 서서히 낮추어 가면서 안정적으로 수렴하게 하는 커스텀 학습률 스케줄링(Custom Learning rate Scheduling) 사용"
   ]
  },
  {
   "cell_type": "code",
   "execution_count": 33,
   "id": "965904c7",
   "metadata": {},
   "outputs": [
    {
     "name": "stdout",
     "output_type": "stream",
     "text": [
      "complete\n"
     ]
    }
   ],
   "source": [
    "class CustomSchedule(tf.keras.optimizers.schedules.LearningRateSchedule):\n",
    "\n",
    "    def __init__(self, d_model, warmup_steps=4000):\n",
    "        super(CustomSchedule, self).__init__()\n",
    "\n",
    "        self.d_model = d_model\n",
    "        self.d_model = tf.cast(self.d_model, tf.float32)\n",
    "\n",
    "        self.warmup_steps = warmup_steps\n",
    "\n",
    "    def __call__(self, step):\n",
    "        arg1 = tf.math.rsqrt(step)\n",
    "        arg2 = step * (self.warmup_steps**-1.5)\n",
    "\n",
    "        return tf.math.rsqrt(self.d_model) * tf.math.minimum(arg1, arg2)\n",
    "print('complete')"
   ]
  },
  {
   "cell_type": "markdown",
   "id": "0f56d085",
   "metadata": {},
   "source": [
    "### 모델 컴파일"
   ]
  },
  {
   "cell_type": "markdown",
   "id": "594e1ffb",
   "metadata": {},
   "source": [
    "손실 함수와 커스텀된 학습률을 사용하여 모델 컴파일"
   ]
  },
  {
   "cell_type": "code",
   "execution_count": 34,
   "id": "30c8d193",
   "metadata": {},
   "outputs": [
    {
     "name": "stdout",
     "output_type": "stream",
     "text": [
      "complete\n"
     ]
    }
   ],
   "source": [
    "learning_rate = CustomSchedule(D_MODEL)\n",
    "\n",
    "optimizer = tf.keras.optimizers.Adam(\n",
    "    learning_rate, beta_1=0.9, beta_2=0.98, epsilon=1e-9)\n",
    "\n",
    "def accuracy(y_true, y_pred):\n",
    "    y_true = tf.reshape(y_true, shape=(-1, MAX_LENGTH - 1))\n",
    "    return tf.keras.metrics.sparse_categorical_accuracy(y_true, y_pred)\n",
    "\n",
    "model.compile(optimizer=optimizer, loss=loss_function, metrics=[accuracy])\n",
    "print('complete')"
   ]
  },
  {
   "cell_type": "markdown",
   "id": "e47153b6",
   "metadata": {},
   "source": [
    "### 훈련하기"
   ]
  },
  {
   "cell_type": "code",
   "execution_count": 35,
   "id": "da85d3d7",
   "metadata": {},
   "outputs": [
    {
     "name": "stdout",
     "output_type": "stream",
     "text": [
      "Epoch 1/20\n",
      "185/185 [==============================] - 13s 38ms/step - loss: 2.9787 - accuracy: 0.0661\n",
      "Epoch 2/20\n",
      "185/185 [==============================] - 7s 37ms/step - loss: 2.4201 - accuracy: 0.1016\n",
      "Epoch 3/20\n",
      "185/185 [==============================] - 7s 38ms/step - loss: 2.0538 - accuracy: 0.1036\n",
      "Epoch 4/20\n",
      "185/185 [==============================] - 7s 38ms/step - loss: 1.8956 - accuracy: 0.1110\n",
      "Epoch 5/20\n",
      "185/185 [==============================] - 7s 38ms/step - loss: 1.7769 - accuracy: 0.1180\n",
      "Epoch 6/20\n",
      "185/185 [==============================] - 7s 37ms/step - loss: 1.6553 - accuracy: 0.1265\n",
      "Epoch 7/20\n",
      "185/185 [==============================] - 7s 37ms/step - loss: 1.5206 - accuracy: 0.1382\n",
      "Epoch 8/20\n",
      "185/185 [==============================] - 7s 38ms/step - loss: 1.3727 - accuracy: 0.1545\n",
      "Epoch 9/20\n",
      "185/185 [==============================] - 7s 37ms/step - loss: 1.2121 - accuracy: 0.1720\n",
      "Epoch 10/20\n",
      "185/185 [==============================] - 7s 38ms/step - loss: 1.0462 - accuracy: 0.1915\n",
      "Epoch 11/20\n",
      "185/185 [==============================] - 7s 38ms/step - loss: 0.8789 - accuracy: 0.2120\n",
      "Epoch 12/20\n",
      "185/185 [==============================] - 7s 38ms/step - loss: 0.7160 - accuracy: 0.2339\n",
      "Epoch 13/20\n",
      "185/185 [==============================] - 7s 37ms/step - loss: 0.5630 - accuracy: 0.2558\n",
      "Epoch 14/20\n",
      "185/185 [==============================] - 7s 37ms/step - loss: 0.4306 - accuracy: 0.2761\n",
      "Epoch 15/20\n",
      "185/185 [==============================] - 7s 38ms/step - loss: 0.3186 - accuracy: 0.2952\n",
      "Epoch 16/20\n",
      "185/185 [==============================] - 7s 38ms/step - loss: 0.2313 - accuracy: 0.3115\n",
      "Epoch 17/20\n",
      "185/185 [==============================] - 7s 37ms/step - loss: 0.1679 - accuracy: 0.3229\n",
      "Epoch 18/20\n",
      "185/185 [==============================] - 7s 38ms/step - loss: 0.1297 - accuracy: 0.3300\n",
      "Epoch 19/20\n",
      "185/185 [==============================] - 7s 38ms/step - loss: 0.1075 - accuracy: 0.3335\n",
      "Epoch 20/20\n",
      "185/185 [==============================] - 7s 38ms/step - loss: 0.0962 - accuracy: 0.3354\n"
     ]
    },
    {
     "data": {
      "text/plain": [
       "<keras.callbacks.History at 0x7f9698435c10>"
      ]
     },
     "execution_count": 35,
     "metadata": {},
     "output_type": "execute_result"
    }
   ],
   "source": [
    "EPOCHS = 20\n",
    "model.fit(dataset, epochs=EPOCHS, verbose=1)"
   ]
  },
  {
   "cell_type": "markdown",
   "id": "df7a8af1",
   "metadata": {},
   "source": [
    "# 모델 평가하기"
   ]
  },
  {
   "cell_type": "markdown",
   "id": "eebf47ad",
   "metadata": {},
   "source": [
    "### decoder_inference()함수 구현"
   ]
  },
  {
   "cell_type": "markdown",
   "id": "37d0922c",
   "metadata": {},
   "source": [
    "1.새로운 입력 문장에 대해 훈련 때와 동일한 전처리   \n",
    "2.입력 문장을 토크나이징, START_TOKEN과 END_TOKEN으르 추가   \n",
    "3.패딩 마스킹과 룩 어헤드 마스킹 계산   \n",
    "4.디코더는 입력 시퀀스로부터 다음 단어 예측   \n",
    "5.디코더는 예측된 다음 단어를 기존의 입력 시퀀스에 추가하여 새로운 입력으로 사용   \n",
    "6.END_TOKEN이 예측되거나 문장 최대 길이에 도달하면 디코더 동작 중지   \n",
    "의 과정을 담은 decoder_inference() 함수 생성"
   ]
  },
  {
   "cell_type": "code",
   "execution_count": 36,
   "id": "eea10419",
   "metadata": {},
   "outputs": [
    {
     "name": "stdout",
     "output_type": "stream",
     "text": [
      "complete\n"
     ]
    }
   ],
   "source": [
    "def decoder_inference(sentence):\n",
    "    sentence = preprocess_sentence(sentence)\n",
    "\n",
    "    # 입력된 문장을 정수 인코딩 후, 시작 토큰과 종료 토큰을 앞뒤로 추가.\n",
    "    # ex) Where have you been? → [[8331   86   30    5 1059    7 8332]]\n",
    "    sentence = tf.expand_dims(\n",
    "        START_TOKEN + tokenizer.encode(sentence) + END_TOKEN, axis=0)\n",
    "\n",
    "    # 디코더의 현재까지의 예측한 출력 시퀀스가 지속적으로 저장되는 변수.\n",
    "    # 처음에는 예측한 내용이 없음으로 시작 토큰만 별도 저장. ex) 8331\n",
    "    output_sequence = tf.expand_dims(START_TOKEN, 0)\n",
    "\n",
    "    # 디코더의 인퍼런스 단계\n",
    "    for i in range(MAX_LENGTH):\n",
    "        # 디코더는 최대 MAX_LENGTH의 길이만큼 다음 단어 예측을 반복합니다.\n",
    "        predictions = model(inputs=[sentence, output_sequence], training=False)\n",
    "        predictions = predictions[:, -1:, :]\n",
    "\n",
    "        # 현재 예측한 단어의 정수\n",
    "        predicted_id = tf.cast(tf.argmax(predictions, axis=-1), tf.int32)\n",
    "\n",
    "        # 만약 현재 예측한 단어가 종료 토큰이라면 for문을 종료\n",
    "        if tf.equal(predicted_id, END_TOKEN[0]):\n",
    "            break\n",
    "\n",
    "        # 예측한 단어들은 지속적으로 output_sequence에 추가됩니다.\n",
    "        # 이 output_sequence는 다시 디코더의 입력이 됩니다.\n",
    "        output_sequence = tf.concat([output_sequence, predicted_id], axis=-1)\n",
    "\n",
    "    return tf.squeeze(output_sequence, axis=0)\n",
    "print('complete')"
   ]
  },
  {
   "cell_type": "markdown",
   "id": "22070cc0",
   "metadata": {},
   "source": [
    "### sentence_generation()함수 구현"
   ]
  },
  {
   "cell_type": "markdown",
   "id": "43b9f2f7",
   "metadata": {},
   "source": [
    "임의의 입력 문장에 대해 decoder_inference()함수를 호출, 챗봇의 대답을 얻는 sentence_generation()함수 생성"
   ]
  },
  {
   "cell_type": "code",
   "execution_count": 37,
   "id": "e0513c8f",
   "metadata": {},
   "outputs": [
    {
     "name": "stdout",
     "output_type": "stream",
     "text": [
      "complete\n"
     ]
    }
   ],
   "source": [
    "def sentence_generation(sentence):\n",
    "    # 입력 문장에 대해서 디코더를 동작 시켜 예측된 정수 시퀀스를 리턴받습니다.\n",
    "    prediction = decoder_inference(sentence)\n",
    "\n",
    "    # 정수 시퀀스를 다시 텍스트 시퀀스로 변환합니다.\n",
    "    predicted_sentence = tokenizer.decode(\n",
    "        [i for i in prediction if i < tokenizer.vocab_size])\n",
    "\n",
    "    print('입력 : {}'.format(sentence))\n",
    "    print('출력 : {}'.format(predicted_sentence))\n",
    "\n",
    "    return predicted_sentence\n",
    "print('complete')"
   ]
  },
  {
   "cell_type": "markdown",
   "id": "f876ef72",
   "metadata": {},
   "source": [
    "# 챗봇 테스트하기"
   ]
  },
  {
   "cell_type": "code",
   "execution_count": 38,
   "id": "df847089",
   "metadata": {},
   "outputs": [
    {
     "name": "stdout",
     "output_type": "stream",
     "text": [
      "입력 : 이름이 뭐야?\n",
      "출력 : 위로봇이요 .\n"
     ]
    },
    {
     "data": {
      "text/plain": [
       "'위로봇이요 .'"
      ]
     },
     "execution_count": 38,
     "metadata": {},
     "output_type": "execute_result"
    }
   ],
   "source": [
    "sentence_generation(\"이름이 뭐야?\")"
   ]
  },
  {
   "cell_type": "code",
   "execution_count": 39,
   "id": "ae2f5934",
   "metadata": {},
   "outputs": [
    {
     "name": "stdout",
     "output_type": "stream",
     "text": [
      "입력 : 지금 너무 졸려\n",
      "출력 : 낮잠은  분만 자세요 .\n"
     ]
    },
    {
     "data": {
      "text/plain": [
       "'낮잠은  분만 자세요 .'"
      ]
     },
     "execution_count": 39,
     "metadata": {},
     "output_type": "execute_result"
    }
   ],
   "source": [
    "sentence_generation(\"지금 너무 졸려\")"
   ]
  },
  {
   "cell_type": "code",
   "execution_count": 40,
   "id": "43075fc5",
   "metadata": {},
   "outputs": [
    {
     "name": "stdout",
     "output_type": "stream",
     "text": [
      "입력 : 사랑은 뭘까?\n",
      "출력 : 사랑은 한 없이 줘도 아깝지 않은거라고 생각해요 .\n"
     ]
    },
    {
     "data": {
      "text/plain": [
       "'사랑은 한 없이 줘도 아깝지 않은거라고 생각해요 .'"
      ]
     },
     "execution_count": 40,
     "metadata": {},
     "output_type": "execute_result"
    }
   ],
   "source": [
    "sentence_generation(\"사랑은 뭘까?\")"
   ]
  },
  {
   "cell_type": "markdown",
   "id": "e8de2d36",
   "metadata": {},
   "source": [
    "# 회고"
   ]
  },
  {
   "cell_type": "markdown",
   "id": "a73c5d1a",
   "metadata": {},
   "source": [
    "이번 Exploration은 지난 화요일 결석을 했고, 지금까지 쳐다보지도 않았기 때문에 그야말로 “단단히 밀린 과제”였다.   \n",
    "참고로 나에게 세상에서 하기 싫은 일 top2중 1위는 했던 일 세이브파일 날려서 또 하기, 2위는 밀린 일 하기이므로 이번 과제를 시작하기까지 정말 오랜 시간이 걸렸다.   \n",
    "즉, 디지몬 극장판 3편을 보고 나서야 겨우 의자에 앉았다. 1999년, 당시 초등학교 4학년인데도 각종 코드를 구현해 디지털 세계를 구한 한솔이를 존경하는 마음으로…   \n",
    "자리에 앉은 다음에도 너무 너무 너무 하기가 싫어서 마음으로 엉엉 울며 노드를 시작했는데, 생각외로 너무 너무 너무 재미있고 이해가 금방 돼서 시간 가는 줄 모르고 본문을 노션에 정리하고 코드를 옮겨 적었다.   \n",
    "로드 데이터 함수가 어떻게 해도 오류가 나길래 그냥 직접 question과 answer 데이터를 집어넣은 것 빼곤 별 오류 없이 아주 수월하게 진행했고, 결과적으로 만족스러운 대답을 도출하는 챗봇이 만들어졌다.   \n",
    "사실 재미있어서 이것 저것 코드를 더 만져볼까 했는데, 이미 괜찮은 결과를 얻고 나니 괜히 건드렸다가 돌이킬 수 없는 강을 건너는거 아닌가 싶어 제출 후에 해보려고 한다.   \n",
    "RNN과 LSTM cs231n강의 풀잎 이후 이 노드를 보게 된 것이 순서상 많은 도움이 됐다. 결국 트랜스포머란 RNN의 진화형이기 때문에, 딱 어제 RNN을 공부하고 보니 빠른 1회독만으로 이해가 꽤 수월했다.   \n",
    "이젠 전처리도 나름 익숙해져서 결측치 확인 등 본문에 없던 자잘한 부분도 괜히 추가해봤다.   \n",
    "학습에 있어 그 기반에는 즐거움이 있어야겠구나 다시금 느낀 과제였다. 앞으로는 너무 너무 너무 하기 싫을 땐 초등학생 신분으로 디지털 세계를 구한 선택받은 아이들을 생각하며 정신 차리고, 언젠가 디지털 월드에 난파되었을 때를 대비해야 한다는 마음으로 몰입해야지. 막상 들여다봤더니 재미있더라~ 하는 이 경험 또한 두고두고 상기해야겠다."
   ]
  }
 ],
 "metadata": {
  "kernelspec": {
   "display_name": "Python 3 (ipykernel)",
   "language": "python",
   "name": "python3"
  },
  "language_info": {
   "codemirror_mode": {
    "name": "ipython",
    "version": 3
   },
   "file_extension": ".py",
   "mimetype": "text/x-python",
   "name": "python",
   "nbconvert_exporter": "python",
   "pygments_lexer": "ipython3",
   "version": "3.9.7"
  }
 },
 "nbformat": 4,
 "nbformat_minor": 5
}
